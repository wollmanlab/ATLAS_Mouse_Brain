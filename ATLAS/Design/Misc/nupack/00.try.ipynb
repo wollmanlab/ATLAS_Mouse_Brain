{
 "cells": [
  {
   "cell_type": "code",
   "execution_count": 1,
   "id": "d2eccc94-90d3-4e21-9f5b-1ced219c85e2",
   "metadata": {},
   "outputs": [],
   "source": [
    "import nupack\n",
    "import pandas as pd"
   ]
  },
  {
   "cell_type": "code",
   "execution_count": 2,
   "id": "33f626c0-995d-407a-afeb-5a3a88bc9030",
   "metadata": {},
   "outputs": [],
   "source": [
    "# specify strands\n",
    "a = nupack.Strand('CTGATCGATC', name='a')\n",
    "b = nupack.Strand('GATCGTAGTC', name='b')\n",
    "\n",
    "# specify tubes\n",
    "t1 = nupack.Tube(strands={a: 1e-9,  b: 1e-9}, complexes=nupack.SetSpec(max_size=2), name='t1')\n",
    "\n",
    "# analyze tubes\n",
    "model1 = nupack.Model(material='dna', \n",
    "                      celsius=37,\n",
    "                      sodium=1,\n",
    "                     )\n",
    "tube_results = nupack.tube_analysis(tubes=[t1], model=model1)"
   ]
  },
  {
   "cell_type": "code",
   "execution_count": 3,
   "id": "83f7ed0e-a56f-48b6-a28b-f70d6643aa1e",
   "metadata": {},
   "outputs": [
    {
     "data": {
      "text/html": [
       "<b>Complex results:</b> <table border=\"1\" class=\"dataframe\">\n",
       "  <thead>\n",
       "    <tr style=\"text-align: right;\">\n",
       "      <th>Complex</th>\n",
       "      <th>Pfunc</th>\n",
       "      <th>ΔG (kcal/mol)</th>\n",
       "    </tr>\n",
       "  </thead>\n",
       "  <tbody>\n",
       "    <tr>\n",
       "      <td>(a)</td>\n",
       "      <td>1.5943e+0</td>\n",
       "      <td>-0.287</td>\n",
       "    </tr>\n",
       "    <tr>\n",
       "      <td>(b)</td>\n",
       "      <td>2.0469e+0</td>\n",
       "      <td>-0.441</td>\n",
       "    </tr>\n",
       "    <tr>\n",
       "      <td>(a+a)</td>\n",
       "      <td>7.6438e+7</td>\n",
       "      <td>-11.187</td>\n",
       "    </tr>\n",
       "    <tr>\n",
       "      <td>(a+b)</td>\n",
       "      <td>5.7336e+5</td>\n",
       "      <td>-8.172</td>\n",
       "    </tr>\n",
       "    <tr>\n",
       "      <td>(b+b)</td>\n",
       "      <td>1.3621e+4</td>\n",
       "      <td>-5.867</td>\n",
       "    </tr>\n",
       "  </tbody>\n",
       "</table> <b>Concentration results:</b> <table border=\"1\" class=\"dataframe\">\n",
       "  <thead>\n",
       "    <tr style=\"text-align: right;\">\n",
       "      <th>Complex</th>\n",
       "      <th>t1 (M)</th>\n",
       "      <th></th>\n",
       "    </tr>\n",
       "  </thead>\n",
       "  <tbody>\n",
       "    <tr>\n",
       "      <td>(b)</td>\n",
       "      <td>1.000e-09</td>\n",
       "      <td></td>\n",
       "    </tr>\n",
       "    <tr>\n",
       "      <td>(a)</td>\n",
       "      <td>9.989e-10</td>\n",
       "      <td></td>\n",
       "    </tr>\n",
       "    <tr>\n",
       "      <td>(a+a)</td>\n",
       "      <td>5.442e-13</td>\n",
       "      <td></td>\n",
       "    </tr>\n",
       "    <tr>\n",
       "      <td>(a+b)</td>\n",
       "      <td>3.183e-15</td>\n",
       "      <td></td>\n",
       "    </tr>\n",
       "    <tr>\n",
       "      <td>(b+b)</td>\n",
       "      <td>5.896e-17</td>\n",
       "      <td></td>\n",
       "    </tr>\n",
       "  </tbody>\n",
       "</table>"
      ],
      "text/plain": [
       "Result(tubes={<Tube t1>: <nupack.named.TubeResult object at 0x7f5094a03070>}, complexes={<Complex (b)>: nupack.analysis.ComplexResult({model: Model('stacking', 'dna04.json', T=310.15 K), pfunc: 2.046888349, free_energy: -0.4414833673543072}), <Complex (b+b)>: nupack.analysis.ComplexResult({model: Model('stacking', 'dna04.json', T=310.15 K), pfunc: 13620.75214, free_energy: -5.866973051824177}), <Complex (a+a)>: nupack.analysis.ComplexResult({model: Model('stacking', 'dna04.json', T=310.15 K), pfunc: 76437533.25, free_energy: -11.187445106309182}), <Complex (a)>: nupack.analysis.ComplexResult({model: Model('stacking', 'dna04.json', T=310.15 K), pfunc: 1.594314445, free_energy: -0.2874790220996168}), <Complex (a+b)>: nupack.analysis.ComplexResult({model: Model('stacking', 'dna04.json', T=310.15 K), pfunc: 573360.5246, free_energy: -8.17196356006307})})"
      ]
     },
     "execution_count": 3,
     "metadata": {},
     "output_type": "execute_result"
    }
   ],
   "source": [
    "tube_results"
   ]
  },
  {
   "cell_type": "code",
   "execution_count": 4,
   "id": "db383b7b-9039-4795-a7e2-1df9b12e2f9d",
   "metadata": {},
   "outputs": [
    {
     "data": {
      "text/plain": [
       "['__abstractmethods__',\n",
       " '__class__',\n",
       " '__class_getitem__',\n",
       " '__contains__',\n",
       " '__delattr__',\n",
       " '__dict__',\n",
       " '__dir__',\n",
       " '__doc__',\n",
       " '__eq__',\n",
       " '__format__',\n",
       " '__ge__',\n",
       " '__getattribute__',\n",
       " '__getitem__',\n",
       " '__gt__',\n",
       " '__hash__',\n",
       " '__init__',\n",
       " '__init_subclass__',\n",
       " '__iter__',\n",
       " '__le__',\n",
       " '__len__',\n",
       " '__lt__',\n",
       " '__module__',\n",
       " '__ne__',\n",
       " '__new__',\n",
       " '__reduce__',\n",
       " '__reduce_ex__',\n",
       " '__repr__',\n",
       " '__reversed__',\n",
       " '__setattr__',\n",
       " '__sizeof__',\n",
       " '__slots__',\n",
       " '__str__',\n",
       " '__subclasshook__',\n",
       " '__weakref__',\n",
       " '_abc_impl',\n",
       " '_formats',\n",
       " '_material',\n",
       " '_pretty_cols',\n",
       " '_raw_cols',\n",
       " '_repr_html_',\n",
       " '_tube_fmts',\n",
       " '_unicode_cols',\n",
       " 'as_dict',\n",
       " 'complex_frame',\n",
       " 'complexes',\n",
       " 'fields',\n",
       " 'get',\n",
       " 'items',\n",
       " 'keys',\n",
       " 'load',\n",
       " 'names',\n",
       " 'save',\n",
       " 'save_text',\n",
       " 'tube_frame',\n",
       " 'tubes',\n",
       " 'values']"
      ]
     },
     "execution_count": 4,
     "metadata": {},
     "output_type": "execute_result"
    }
   ],
   "source": [
    "dir(tube_results)"
   ]
  },
  {
   "cell_type": "code",
   "execution_count": 5,
   "id": "3a682c7a-39cb-4d50-b1da-700c5ccc2c85",
   "metadata": {},
   "outputs": [
    {
     "name": "stdout",
     "output_type": "stream",
     "text": [
      "GAUCGUAGUC (b)\n",
      "GAUCGUAGUC+GAUCGUAGUC (b+b)\n",
      "CUGAUCGAUC+CUGAUCGAUC (a+a)\n",
      "CUGAUCGAUC (a)\n",
      "CUGAUCGAUC+GAUCGUAGUC (a+b)\n"
     ]
    }
   ],
   "source": [
    "for key, item in tube_results.complexes.items(): # ['(a+a)']\n",
    "    print(key, key.name) #, item)"
   ]
  },
  {
   "cell_type": "code",
   "execution_count": 6,
   "id": "2640f501-770f-4e8e-b13d-23c303aad5dd",
   "metadata": {},
   "outputs": [
    {
     "data": {
      "text/plain": [
       "nupack.analysis.ComplexResult({model: Model('stacking', 'dna04.json', T=310.15 K), pfunc: 76437533.25, free_energy: -11.187445106309182})"
      ]
     },
     "execution_count": 6,
     "metadata": {},
     "output_type": "execute_result"
    }
   ],
   "source": [
    "tube_results['(a+a)']"
   ]
  },
  {
   "cell_type": "code",
   "execution_count": 7,
   "id": "e5ec11d0-e85c-45ac-a389-9b6ce930f071",
   "metadata": {},
   "outputs": [
    {
     "name": "stdout",
     "output_type": "stream",
     "text": [
      "(b) 9.999966991299045e-10\n",
      "(b+b) 5.89597872691306e-17\n",
      "(a+a) 5.441968767389296e-13\n",
      "(a) 9.989084232959911e-10\n",
      "(a+b) 3.1829505283755667e-15\n"
     ]
    }
   ],
   "source": [
    "for key, item in tube_results['t1'].complex_concentrations.items():\n",
    "    print(key.name, item) ##['(a+a)']"
   ]
  },
  {
   "cell_type": "code",
   "execution_count": 8,
   "id": "fdb5dc2e-f252-4f02-bf32-4391a440ff25",
   "metadata": {},
   "outputs": [
    {
     "data": {
      "text/plain": [
       "(b)      9.999967e-10\n",
       "(b+b)    5.895979e-17\n",
       "(a+a)    5.441969e-13\n",
       "(a)      9.989084e-10\n",
       "(a+b)    3.182951e-15\n",
       "dtype: float64"
      ]
     },
     "execution_count": 8,
     "metadata": {},
     "output_type": "execute_result"
    }
   ],
   "source": [
    "conc = pd.Series({key.name: item for key, item in \n",
    "        tube_results['t1'].complex_concentrations.items()\n",
    "       })\n",
    "conc"
   ]
  },
  {
   "cell_type": "code",
   "execution_count": null,
   "id": "66dad81b-b77b-4686-9566-0066e03cbf7e",
   "metadata": {},
   "outputs": [],
   "source": []
  }
 ],
 "metadata": {
  "kernelspec": {
   "display_name": "Python 3 (ipykernel)",
   "language": "python",
   "name": "python3"
  },
  "language_info": {
   "codemirror_mode": {
    "name": "ipython",
    "version": 3
   },
   "file_extension": ".py",
   "mimetype": "text/x-python",
   "name": "python",
   "nbconvert_exporter": "python",
   "pygments_lexer": "ipython3",
   "version": "3.9.15"
  }
 },
 "nbformat": 4,
 "nbformat_minor": 5
}
