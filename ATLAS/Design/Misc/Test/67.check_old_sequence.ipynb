{
 "cells": [
  {
   "cell_type": "code",
   "execution_count": 1,
   "id": "add86620-4fae-4fc6-9be7-4aa8019d3d32",
   "metadata": {},
   "outputs": [],
   "source": [
    "import numpy as np\n",
    "import pandas as pd\n",
    "from Bio import SeqIO"
   ]
  },
  {
   "cell_type": "code",
   "execution_count": 31,
   "id": "0831b58b-cbde-4138-a6ad-5765fa7841fe",
   "metadata": {},
   "outputs": [],
   "source": [
    "def parse_encoding(seq, option='+'):\n",
    "    # P1-R-a-E-a-R-a-R-P2\n",
    "    breakpoints = np.array([0, 20, 40, 41, 71, 72, 92, 93, 113, 133])\n",
    "    if option == '+':\n",
    "        bp = breakpoints\n",
    "        \n",
    "        p1 = seq[bp[0]:bp[1]]\n",
    "        R1 = seq[bp[1]:bp[2]]\n",
    "        s1 = seq[bp[2]:bp[3]]\n",
    "        E  = seq[bp[3]:bp[4]]\n",
    "        s2 = seq[bp[4]:bp[5]]\n",
    "        R2 = seq[bp[5]:bp[6]]\n",
    "        s3 = seq[bp[6]:bp[7]]\n",
    "        R3 = seq[bp[7]:bp[8]]\n",
    "        p2 = seq[bp[8]:bp[9]]\n",
    "        \n",
    "        return E, R1, R2, R3, p1, p2, s1, s2, s3,  \n",
    "        \n",
    "    if option == '-':\n",
    "        bp = (133 - breakpoints)[::-1]\n",
    "    \n",
    "        p1 = seq[bp[0]:bp[1]]\n",
    "        R1 = seq[bp[1]:bp[2]]\n",
    "        s1 = seq[bp[2]:bp[3]]\n",
    "        R2 = seq[bp[3]:bp[4]]\n",
    "        s2 = seq[bp[4]:bp[5]]\n",
    "        E  = seq[bp[5]:bp[6]]\n",
    "        s3 = seq[bp[6]:bp[7]]\n",
    "        R3 = seq[bp[7]:bp[8]]\n",
    "        p2 = seq[bp[8]:bp[9]]\n",
    "        \n",
    "        return E, R1, R2, R3, p1, p2, s1, s2, s3,  "
   ]
  },
  {
   "cell_type": "code",
   "execution_count": 8,
   "id": "b0cbf698-30d9-476a-9a8b-6b8aaa43e48d",
   "metadata": {},
   "outputs": [
    {
     "name": "stdout",
     "output_type": "stream",
     "text": [
      "DRedFISH\n"
     ]
    }
   ],
   "source": [
    "f = \"/bigstore/binfo/Probe_Sets/dredFISH_Final_Oligos.fasta\"\n",
    "for record in SeqIO.parse(f, \"fasta\"):\n",
    "    seq = record.seq\n",
    "    dsp = record.description\n",
    "    print(record.id)\n",
    "    break"
   ]
  },
  {
   "cell_type": "code",
   "execution_count": 32,
   "id": "d136eead-e164-4a32-a973-e3077186b716",
   "metadata": {},
   "outputs": [
    {
     "data": {
      "text/plain": [
       "SeqRecord(seq=Seq('TGGCCGTCGATTCCGTGAATAGAGTGAGTAGTAGTGGAGTAAGAGTGAGTAGTA...GGG'), id='DRedFISH', name='DRedFISH', description='DRedFISH 1a5a811b-004 Final RS0095_cy5 RS0095_cy5 Atp6v1h_RS0095_cy5_0_ENSMUST00000044369 RS0095_cy5 1a5a811b-001', dbxrefs=[])"
      ]
     },
     "execution_count": 32,
     "metadata": {},
     "output_type": "execute_result"
    }
   ],
   "source": [
    "record"
   ]
  },
  {
   "cell_type": "code",
   "execution_count": 33,
   "id": "94204367-7e1a-4367-aef8-f3ef170bd3be",
   "metadata": {},
   "outputs": [
    {
     "name": "stdout",
     "output_type": "stream",
     "text": [
      "TGGCCGTCGATTCCGTGAAT\n",
      "AGAGTGAGTAGTAGTGGAGT\n",
      "A\n",
      "AGAGTGAGTAGTAGTGGAGTAGGTCTTCAT\n",
      "G\n",
      "GTGCATGTGGTTCATCACCA\n",
      "A\n",
      "AGAGTGAGTAGTAGTGGAGT\n",
      "GCAGAATTTCCTGGTGCGGG\n"
     ]
    }
   ],
   "source": [
    "print(seq[  :20])\n",
    "print(seq[20:40])\n",
    "print(seq[40:41])\n",
    "print(seq[41:71])\n",
    "print(seq[71:72])\n",
    "print(seq[72:92])\n",
    "print(seq[92:93])\n",
    "print(seq[93:113])\n",
    "print(seq[113:]) # 133"
   ]
  },
  {
   "cell_type": "code",
   "execution_count": 34,
   "id": "442d675d-9d9f-4794-a8f8-26e7805705d3",
   "metadata": {},
   "outputs": [
    {
     "data": {
      "text/plain": [
       "133"
      ]
     },
     "execution_count": 34,
     "metadata": {},
     "output_type": "execute_result"
    }
   ],
   "source": [
    "len(seq)"
   ]
  },
  {
   "cell_type": "code",
   "execution_count": 35,
   "id": "6c5d0a28-615c-4091-96f1-d8834b50a5d5",
   "metadata": {},
   "outputs": [
    {
     "data": {
      "text/plain": [
       "(Seq('GGTCTTCATGGTGCATGTGGTTCATCACCA'),\n",
       " Seq('AGAGTGAGTAGTAGTGGAGT'),\n",
       " Seq('AGAGTGAGTAGTAGTGGAGT'),\n",
       " Seq('AGAGTGAGTAGTAGTGGAGT'),\n",
       " Seq('TGGCCGTCGATTCCGTGAAT'),\n",
       " Seq('GCAGAATTTCCTGGTGCGGG'),\n",
       " Seq('A'),\n",
       " Seq('A'),\n",
       " Seq('A'))"
      ]
     },
     "execution_count": 35,
     "metadata": {},
     "output_type": "execute_result"
    }
   ],
   "source": [
    "parse_encoding(seq, option='-')"
   ]
  },
  {
   "cell_type": "code",
   "execution_count": null,
   "id": "6ea2a9cb-d32f-434f-8ebe-2b089244e18e",
   "metadata": {},
   "outputs": [],
   "source": []
  }
 ],
 "metadata": {
  "kernelspec": {
   "display_name": "Python 3 (ipykernel)",
   "language": "python",
   "name": "python3"
  },
  "language_info": {
   "codemirror_mode": {
    "name": "ipython",
    "version": 3
   },
   "file_extension": ".py",
   "mimetype": "text/x-python",
   "name": "python",
   "nbconvert_exporter": "python",
   "pygments_lexer": "ipython3",
   "version": "3.10.2"
  }
 },
 "nbformat": 4,
 "nbformat_minor": 5
}
