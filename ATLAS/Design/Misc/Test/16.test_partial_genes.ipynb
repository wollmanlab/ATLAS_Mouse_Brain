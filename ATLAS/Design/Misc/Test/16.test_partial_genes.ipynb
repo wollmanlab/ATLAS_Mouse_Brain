{
 "cells": [
  {
   "cell_type": "code",
   "execution_count": 1,
   "id": "4fb35650-0d6e-4bfd-a796-cccff97d5f61",
   "metadata": {},
   "outputs": [],
   "source": [
    "import numpy as np\n",
    "import pandas as pd\n",
    "import torch\n",
    "\n",
    "from dredFISH.Analysis import basicu"
   ]
  },
  {
   "cell_type": "code",
   "execution_count": 2,
   "id": "f88b051f-4389-4789-9715-27c9818e1662",
   "metadata": {},
   "outputs": [
    {
     "data": {
      "text/plain": [
       "(array(['Stmn3', 'Neurod6', 'Bex2', 'Lhx6', 'Dlx1', 'Tmem59l', 'Neurod2',\n",
       "        'Satb2', 'Ptk2b', 'Rab3a', 'Uchl1', 'Gng3', 'Dnm1', 'Fezf2',\n",
       "        'Dlx5', 'Lingo1', 'Nfix', 'Zfp36l1', 'Fxyd7', 'Scg5', 'Nxph3',\n",
       "        'Crym', 'Arx', 'Eno2', 'Nxph4', 'Ifitm3', 'Fcrls', 'Zcchc12',\n",
       "        'Rab3b', 'Acot7', 'Cpne4', 'Kcnv1', 'Prkar1b', 'Atp1a1', 'Cox6a2',\n",
       "        'Slc30a3', 'Igfbp6', 'Tagln3', 'Elmod1', 'Pnoc', 'Nsg1', 'Mllt11',\n",
       "        'Chgb', 'Atp2b4', 'Btbd11', 'Arpp19', 'Ttc9b', 'Sez6', 'Hs3st2',\n",
       "        'Nefl', 'Snap47', 'Hprt', 'Tesc', 'Pglyrp1', 'Atp6v1b2', 'Tac2',\n",
       "        'Cd63', 'Hsp90aa1', 'Syn1', 'Gli3', 'Adora1', 'Lgals1', 'Got1',\n",
       "        'Arhgap25', 'Serp2', 'Syt5', 'Sox17', 'Stx1a', 'Nr2f2', 'Dkkl1',\n",
       "        'Hpcal4', 'Prkcg', 'Rasgef1b', 'Dkk3', 'Cckbr', 'Bex1', 'Ngef',\n",
       "        'Tceal3', 'Tspan13', 'Kcnip3', 'Dusp14', 'Fstl4', 'S100a16', 'Cfh',\n",
       "        'Osbpl1a', 'Anxa3', 'Itpr1', 'Krt12', 'Pdzrn3', 'Gabrg2', 'Olfm2',\n",
       "        'Atp6v1c1', 'Pamr1', 'Atp5b', 'Igsf21', 'Kctd4', 'Pgam1', 'Vcam1',\n",
       "        'Rbfox3', 'Tubb2a', 'Eno1', 'Atp6v0e2', 'Tyro3', 'Atp5g3', 'Stmn4',\n",
       "        'Tuba4a', 'Cend1', 'Phyhip', 'Syngr3', 'Fam131a', 'Pacsin1', 'Ak5',\n",
       "        'Fkbp3', 'Kcnmb4', 'Afap1', 'Fyb', 'Ccl27a', 'Ppp1r14a', 'Galnt9',\n",
       "        'Ppp1r1b', 'Camk4', 'Rasl11b', 'Txnip', 'Pebp1', 'Slc38a3',\n",
       "        'Rasgrp2', 'Dlx2', '1500011B03Rik', 'Nefm', 'Atp6v1e1', 'Myl4',\n",
       "        'Mfge8', 'Scube1', 'Bcl11a', 'Slc26a4', 'Slfn5', 'Atp6v1d', 'Rbp4',\n",
       "        'Tpi1', 'Ensa'], dtype=object),\n",
       " (140,))"
      ]
     },
     "execution_count": 2,
     "metadata": {},
     "output_type": "execute_result"
    }
   ],
   "source": [
    "f = '/bigstore/GeneralStorage/fangming/projects/dredfish/data/rna/top_recon_genes_dpnmf_nn_n140.csv'\n",
    "genesp = pd.read_csv(f, header=None)[0].values\n",
    "genesp, genesp.shape"
   ]
  },
  {
   "cell_type": "code",
   "execution_count": 3,
   "id": "4f427b7f-d337-48b6-9b4b-b9a44393a913",
   "metadata": {},
   "outputs": [
    {
     "data": {
      "text/plain": [
       "(10861,)"
      ]
     },
     "execution_count": 3,
     "metadata": {},
     "output_type": "execute_result"
    }
   ],
   "source": [
    "# get the NN genes\n",
    "f = '/bigstore/binfo/mouse/Brain/DRedFISH/Allen_V3_Reference' + '/10X/genes.npy' \n",
    "tenx_genes = np.load(f)\n",
    "f = '/bigstore/binfo/mouse/Brain/DRedFISH/Allen_V3_Reference' + '/SmartSeq/genes.npy' \n",
    "smrt_genes = np.load(f)\n",
    "assert np.all(tenx_genes == smrt_genes)\n",
    "nn_genes = tenx_genes\n",
    "nn_genes.shape"
   ]
  },
  {
   "cell_type": "code",
   "execution_count": 4,
   "id": "6e05a61f-7c5d-40e4-ad32-127b84fe03ff",
   "metadata": {},
   "outputs": [
    {
     "data": {
      "text/plain": [
       "tensor([10847,  3740,  4983,  6028,  7571,  3891,  9528,  3632,  5670,  3976,\n",
       "         6228,  1692,  5205,   373,   581,  5313,  5089,  3370,  5028,  9351,\n",
       "         9319,  9793,  3387,  8047,  8300, 10378,  3897,   961,  6104,  9580,\n",
       "         8833,  1307, 10602,  6325, 10157,  3309,  6994,  4372,  4987,  5540,\n",
       "         4938,  5524, 10180,  8091,  6650,  7430,  3937,  8244,  9848,  5820,\n",
       "         4946,  1682,  9352,  2358,  3506,  8359,  8661,  6011,   672,   247,\n",
       "         8143,  3753,  4738,  5559,  6394,  1244,   609, 10345,  7750,  6517,\n",
       "         7412,   805,  8036,  9534,  9268,  4996,  6338,  5023,  1299,  9974,\n",
       "         8845,  4253,  5032,  8518,   178,  7979,  6629,  9632,  6479,  3391,\n",
       "         1366,  1008,  9073,  8396,  9028,  6381,  4541,  7369, 10492,   923,\n",
       "         9473,  3145,  9564,  7822,  5724,  5387, 10440,  6057,  1837,  1933,\n",
       "         3081,  8635,  2140,  7741,  4689,   145,  1848,  4459,  8846,  9530,\n",
       "          617,  6705,  5923,  9312,  9143,  1166,  7575,  9136,  5816,  7740,\n",
       "        10035,  7895,  4682,  2693,  1027,  8719,  3228,  4138,  8062,  5722])"
      ]
     },
     "execution_count": 4,
     "metadata": {},
     "output_type": "execute_result"
    }
   ],
   "source": [
    "# sub select the nn_genes\n",
    "\n",
    "selected_genes_idx = basicu.get_index_from_array(nn_genes, genesp)\n",
    "fout = '/bigstore/binfo/mouse/Brain/DRedFISH/Allen_V3_Reference/cache/_2/gidx_sub140.pt'\n",
    "# torch.save(torch.tensor(selected_genes_idx, dtype=int), fout)\n",
    "\n",
    "gsub_idx = torch.load(fout)\n",
    "gsub_idx"
   ]
  },
  {
   "cell_type": "code",
   "execution_count": 5,
   "id": "ffa80697-7692-41dc-8130-d5cf197dd86a",
   "metadata": {},
   "outputs": [],
   "source": [
    "f = '/bigstore/binfo/mouse/Brain/DRedFISH/Allen_V3_Reference/cache/_2/train_dat/1.pt'\n",
    "batch = torch.load(f)"
   ]
  },
  {
   "cell_type": "code",
   "execution_count": 6,
   "id": "7ce631a8-8a50-4b05-97b0-c8ddfe869346",
   "metadata": {},
   "outputs": [
    {
     "data": {
      "text/plain": [
       "(dict,\n",
       " dict_keys(['tenx_ftrs', 'tenx_fine', 'tenx_crse', 'smrt_ftrs', 'smrt_fine', 'smrt_crse', 'cnstrnts', 'fine_labels', 'coarse_labels']))"
      ]
     },
     "execution_count": 6,
     "metadata": {},
     "output_type": "execute_result"
    }
   ],
   "source": [
    "type(batch), batch.keys()"
   ]
  },
  {
   "cell_type": "code",
   "execution_count": 7,
   "id": "554b6a9b-456f-4a3a-83b4-49431f162cb4",
   "metadata": {},
   "outputs": [
    {
     "data": {
      "text/plain": [
       "torch.Size([2150, 10861])"
      ]
     },
     "execution_count": 7,
     "metadata": {},
     "output_type": "execute_result"
    }
   ],
   "source": [
    "batch['tenx_ftrs'].shape"
   ]
  },
  {
   "cell_type": "code",
   "execution_count": 8,
   "id": "58e19c3f-b9c1-47a5-acf9-8523b722cdc1",
   "metadata": {},
   "outputs": [
    {
     "data": {
      "text/plain": [
       "torch.Size([2150, 140])"
      ]
     },
     "execution_count": 8,
     "metadata": {},
     "output_type": "execute_result"
    }
   ],
   "source": [
    "batch['tenx_ftrs'][:,gsub_idx].shape"
   ]
  },
  {
   "cell_type": "code",
   "execution_count": 9,
   "id": "90503a58-bdef-41bb-9203-429a298a9a08",
   "metadata": {},
   "outputs": [
    {
     "data": {
      "text/plain": [
       "True"
      ]
     },
     "execution_count": 9,
     "metadata": {},
     "output_type": "execute_result"
    }
   ],
   "source": [
    "isinstance(gsub_idx, torch.Tensor)"
   ]
  },
  {
   "cell_type": "code",
   "execution_count": 10,
   "id": "916397f6-0cb4-40c4-bf85-57e81217eb3b",
   "metadata": {},
   "outputs": [
    {
     "data": {
      "text/plain": [
       "tensor([9.2916, 8.2268, 8.5138, 8.7042, 8.9321, 8.2664, 9.1620, 8.1975, 8.6429,\n",
       "        8.2880, 8.7368, 7.4337, 8.5574, 5.9216, 6.3648, 8.5779, 8.5348, 8.1227,\n",
       "        8.5228, 9.1432, 9.1398, 9.1894, 8.1277, 8.9931, 9.0240, 9.2474, 8.2680,\n",
       "        6.8680, 8.7167, 9.1674, 9.0863, 7.1755, 9.2688, 8.7523, 9.2259, 8.1044,\n",
       "        8.8528, 8.3830, 8.5146, 8.6198, 8.5047, 8.6169, 9.2282, 8.9985, 8.8024,\n",
       "        8.9133, 8.2782, 9.0172, 9.1950, 8.6691, 8.5063, 7.4277, 9.1433, 7.7656,\n",
       "        8.1622, 9.0311, 9.0666, 8.7013, 6.5103, 5.5094, 9.0049, 8.2303, 8.4634,\n",
       "        8.6232, 8.7631, 7.1261, 6.4118, 9.2443, 8.9554, 8.7822, 8.9109, 6.6908,\n",
       "        8.9917, 9.1626, 9.1343, 8.5164, 8.7543, 8.5218, 7.1694, 9.2077, 9.0876,\n",
       "        8.3554, 8.5236, 9.0499, 5.1818, 8.9846, 8.7992, 9.1728, 8.7763, 8.1289,\n",
       "        7.2196, 6.9157, 9.1131, 9.0355, 9.1081, 8.7611, 8.4209, 8.9050, 9.2584,\n",
       "        6.8276, 9.1562, 8.0536, 9.1658, 8.9647, 8.6524, 8.5917, 9.2534, 8.7090,\n",
       "        7.5159, 7.5668, 8.0330, 9.0636, 7.6686, 8.9543, 8.4530, 4.9767, 7.5219,\n",
       "        8.4027, 9.0877, 9.1622, 6.4249, 8.8106, 8.6866, 9.1391, 9.1207, 7.0613,\n",
       "        8.9326, 9.1200, 8.6684, 8.9542, 9.2138, 8.9740, 8.4515, 7.8984, 6.9344,\n",
       "        9.0733, 8.0796, 8.3280, 8.9949, 8.6521])"
      ]
     },
     "execution_count": 10,
     "metadata": {},
     "output_type": "execute_result"
    }
   ],
   "source": [
    "gsub_idx.detach().log()"
   ]
  }
 ],
 "metadata": {
  "kernelspec": {
   "display_name": "Python 3 (ipykernel)",
   "language": "python",
   "name": "python3"
  },
  "language_info": {
   "codemirror_mode": {
    "name": "ipython",
    "version": 3
   },
   "file_extension": ".py",
   "mimetype": "text/x-python",
   "name": "python",
   "nbconvert_exporter": "python",
   "pygments_lexer": "ipython3",
   "version": "3.9.12"
  }
 },
 "nbformat": 4,
 "nbformat_minor": 5
}
