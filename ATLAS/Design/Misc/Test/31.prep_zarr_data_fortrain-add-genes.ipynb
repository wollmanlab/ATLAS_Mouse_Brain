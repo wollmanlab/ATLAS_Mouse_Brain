{
 "cells": [
  {
   "cell_type": "code",
   "execution_count": 1,
   "id": "8c0cd74c-72e7-4fb9-9a39-d64a3f7e5523",
   "metadata": {},
   "outputs": [],
   "source": [
    "import anndata\n",
    "import pandas as pd\n",
    "import numpy as np\n",
    "import scanpy as sp\n",
    "import zarr\n",
    "import os"
   ]
  },
  {
   "cell_type": "code",
   "execution_count": 2,
   "id": "d0bbc4a3-f813-422e-9307-c1d9704c9dfe",
   "metadata": {},
   "outputs": [
    {
     "name": "stdout",
     "output_type": "stream",
     "text": [
      "/bigstore/GeneralStorage/fangming/projects/dredfish/data/rna/scrna_ss_ctxhippo_a_exon_count_matrix_v4.zarr\n"
     ]
    }
   ],
   "source": [
    "dat_dir = '/bigstore/GeneralStorage/fangming/projects/dredfish/data/'\n",
    "output = os.path.join(dat_dir, 'rna', 'scrna_ss_ctxhippo_a_exon_count_matrix_v4.zarr')\n",
    "print(output)"
   ]
  },
  {
   "cell_type": "code",
   "execution_count": 3,
   "id": "394dee95-e4a2-4d2a-b0ed-c5f6f7fa5754",
   "metadata": {},
   "outputs": [
    {
     "name": "stdout",
     "output_type": "stream",
     "text": [
      "CPU times: user 1.31 s, sys: 3.84 s, total: 5.15 s\n",
      "Wall time: 5.15 s\n"
     ]
    },
    {
     "data": {
      "text/plain": [
       "AnnData object with n_obs × n_vars = 73347 × 45768\n",
       "    obs: 'donor_sex_id', 'donor_sex_label', 'donor_sex_color', 'region_id', 'region_label', 'region_color', 'platform_label', 'cluster_order', 'cluster_label', 'cluster_color', 'subclass_order', 'subclass_label', 'subclass_color', 'neighborhood_id', 'neighborhood_label', 'neighborhood_color', 'class_order', 'class_label', 'class_color', 'exp_component_name', 'external_donor_name_label', 'full_genotype_label', 'facs_population_plan_label', 'injection_roi_label', 'injection_materials_label', 'injection_method_label', 'injection_type_label', 'full_genotype_id', 'full_genotype_color', 'external_donor_name_id', 'external_donor_name_color', 'facs_population_plan_id', 'facs_population_plan_color', 'injection_materials_id', 'injection_materials_color', 'injection_method_id', 'injection_method_color', 'injection_roi_id', 'injection_roi_color', 'injection_type_id', 'injection_type_color', 'cell_type_accession_label', 'cell_type_alias_label', 'cell_type_alt_alias_label', 'cell_type_designation_label', 'cell_type_designation_id', 'cell_type_alt_alias_id', 'cell_type_alias_id', 'cell_type_accession_id', 'cell_type_designation_color', 'cell_type_alt_alias_color', 'cell_type_alias_color', 'cell_type_accession_color', 'cortical_layer_label', 'cortical_layer_order', 'cortical_layer_color', 'Lim1', 'Lim2'"
      ]
     },
     "execution_count": 3,
     "metadata": {},
     "output_type": "execute_result"
    }
   ],
   "source": [
    "%%time\n",
    "f = '/bigstore/GeneralStorage/fangming/projects/dredfish/data/rna/scrna_ss_ctxhippo_a_exon_count_matrix_v2.h5ad'\n",
    "adata = anndata.read(f, backed=None)\n",
    "adata"
   ]
  },
  {
   "cell_type": "code",
   "execution_count": 4,
   "id": "7ea824fe-495b-45d0-98e4-d4849d4bf23b",
   "metadata": {},
   "outputs": [
    {
     "name": "stdout",
     "output_type": "stream",
     "text": [
      "CPU times: user 5.08 ms, sys: 63 µs, total: 5.14 ms\n",
      "Wall time: 169 ms\n"
     ]
    },
    {
     "data": {
      "text/plain": [
       "<zarr.hierarchy.Group '/'>"
      ]
     },
     "execution_count": 4,
     "metadata": {},
     "output_type": "execute_result"
    }
   ],
   "source": [
    "%%time\n",
    "chunksize = 10\n",
    "cells = adata.obs.index.values\n",
    "genes = adata.var.index.values\n",
    "ncells = len(cells)\n",
    "ngenes = len(genes)\n",
    "\n",
    "# create a zarr file (dir)\n",
    "z1 = zarr.open(\n",
    "          output, \n",
    "          mode='w', \n",
    "    )\n",
    "z1"
   ]
  },
  {
   "cell_type": "code",
   "execution_count": 5,
   "id": "4718d15f-fd96-425f-848d-6a844db5377c",
   "metadata": {},
   "outputs": [
    {
     "name": "stdout",
     "output_type": "stream",
     "text": [
      "CPU times: user 1min 7s, sys: 1min 56s, total: 3min 3s\n",
      "Wall time: 3min 13s\n"
     ]
    }
   ],
   "source": [
    "%%time\n",
    "# create count matrix\n",
    "z1.create_dataset('counts', \n",
    "                  shape=(ncells, ngenes), \n",
    "                  chunks=(chunksize, None), \n",
    "                  dtype='i4',\n",
    "                 )\n",
    "\n",
    "z1['counts'][:] = np.array(adata.X.toarray())"
   ]
  },
  {
   "cell_type": "code",
   "execution_count": 6,
   "id": "943e96fc-1680-4ca0-84a1-eab3ca0f3765",
   "metadata": {},
   "outputs": [],
   "source": [
    "# genes\n",
    "z1['genes'] = genes.astype(str)"
   ]
  },
  {
   "cell_type": "code",
   "execution_count": 7,
   "id": "a1b57b24-b533-4543-8dad-aed0a72f91db",
   "metadata": {},
   "outputs": [],
   "source": [
    "# create labels\n",
    "z1.create_dataset(\n",
    "    'l1_code',\n",
    "    shape=(ncells,), \n",
    "    chunks=(chunksize,), \n",
    "    dtype='i4',\n",
    ")\n",
    "a = adata.obs['class_label']\n",
    "z1['l1_code'] = a.cat.codes.values\n",
    "z1['l1_cat'] = a.cat.categories.values.astype(str)\n",
    "\n",
    "z1.create_dataset(\n",
    "    'l2_code',\n",
    "    shape=(ncells,), \n",
    "    chunks=(chunksize,), \n",
    "    dtype='i4',\n",
    ")\n",
    "a = adata.obs['neighborhood_label']\n",
    "z1['l2_code'] = a.cat.codes.values\n",
    "z1['l2_cat'] = a.cat.categories.values.astype(str)\n",
    "\n",
    "z1.create_dataset(\n",
    "    'l3_code',\n",
    "    shape=(ncells,), \n",
    "    chunks=(chunksize,), \n",
    "    dtype='i4',\n",
    ")\n",
    "a = adata.obs['subclass_label']\n",
    "z1['l3_code'] = a.cat.codes.values\n",
    "z1['l3_cat'] = a.cat.categories.values.astype(str)\n",
    "\n",
    "z1.create_dataset(\n",
    "    'l5_code',\n",
    "    shape=(ncells,), \n",
    "    chunks=(chunksize,), \n",
    "    dtype='i4',\n",
    ")\n",
    "a = adata.obs['cluster_label']\n",
    "z1['l5_code'] = a.cat.codes.values\n",
    "z1['l5_cat'] = a.cat.categories.values.astype(str)"
   ]
  },
  {
   "cell_type": "code",
   "execution_count": 8,
   "id": "6584fdcd-ac93-480a-acf2-fc6671646278",
   "metadata": {},
   "outputs": [
    {
     "name": "stdout",
     "output_type": "stream",
     "text": [
      "CPU times: user 1.62 ms, sys: 2.68 ms, total: 4.3 ms\n",
      "Wall time: 3.5 ms\n"
     ]
    },
    {
     "data": {
      "text/plain": [
       "(array([  0,   0, 242, ...,   0,   0,   0], dtype=int32), (45768,))"
      ]
     },
     "execution_count": 8,
     "metadata": {},
     "output_type": "execute_result"
    }
   ],
   "source": [
    "%%time\n",
    "y = z1['counts'].oindex[975,:]\n",
    "y, y.shape"
   ]
  },
  {
   "cell_type": "code",
   "execution_count": 9,
   "id": "311f18d1-6605-4e13-8f41-34837270a3ba",
   "metadata": {},
   "outputs": [
    {
     "name": "stdout",
     "output_type": "stream",
     "text": [
      "CPU times: user 181 µs, sys: 300 µs, total: 481 µs\n",
      "Wall time: 452 µs\n"
     ]
    }
   ],
   "source": [
    "%%time\n",
    "testidx = np.random.choice(ncells, 100)"
   ]
  },
  {
   "cell_type": "code",
   "execution_count": 10,
   "id": "8503c562-9348-4a51-857c-041a5a5a3f47",
   "metadata": {},
   "outputs": [
    {
     "name": "stdout",
     "output_type": "stream",
     "text": [
      "CPU times: user 1.62 s, sys: 80 ms, total: 1.7 s\n",
      "Wall time: 1.71 s\n"
     ]
    },
    {
     "data": {
      "text/plain": [
       "(100, 45768)"
      ]
     },
     "execution_count": 10,
     "metadata": {},
     "output_type": "execute_result"
    }
   ],
   "source": [
    "%%time\n",
    "z1['counts'].oindex[testidx,:].shape"
   ]
  },
  {
   "cell_type": "code",
   "execution_count": 11,
   "id": "c79b83ca-2666-4759-aa08-9f30e58e3f37",
   "metadata": {},
   "outputs": [
    {
     "name": "stdout",
     "output_type": "stream",
     "text": [
      "CPU times: user 4.12 ms, sys: 367 µs, total: 4.48 ms\n",
      "Wall time: 3.21 ms\n"
     ]
    },
    {
     "data": {
      "text/plain": [
       "(45768,)"
      ]
     },
     "execution_count": 11,
     "metadata": {},
     "output_type": "execute_result"
    }
   ],
   "source": [
    "%%time\n",
    "z1['counts'].oindex[testidx[0],:].shape"
   ]
  },
  {
   "cell_type": "code",
   "execution_count": 12,
   "id": "8e52c60b-c574-425c-a0c2-d358201c94fb",
   "metadata": {},
   "outputs": [
    {
     "name": "stdout",
     "output_type": "stream",
     "text": [
      "CPU times: user 0 ns, sys: 2.11 ms, total: 2.11 ms\n",
      "Wall time: 2.17 ms\n"
     ]
    },
    {
     "data": {
      "text/plain": [
       "()"
      ]
     },
     "execution_count": 12,
     "metadata": {},
     "output_type": "execute_result"
    }
   ],
   "source": [
    "%%time\n",
    "z1['l3_code'].oindex[testidx[0]].shape"
   ]
  },
  {
   "cell_type": "markdown",
   "id": "fec6630f-2357-4425-abcb-b35effce98cb",
   "metadata": {},
   "source": [
    "# split train and test"
   ]
  },
  {
   "cell_type": "code",
   "execution_count": 13,
   "id": "2859117b-a3f0-48b3-8a64-5a442adba817",
   "metadata": {},
   "outputs": [],
   "source": [
    "def split_train_test(zarr_file, keys_copy, keys_split, frac=0.9, random_seed=None):\n",
    "    \"\"\"randomly select frac vs 1-frac samples into training and test (validation) set.\n",
    "    Save them as separate zarr files\n",
    "    \"\"\"\n",
    "    assert frac <= 1 and frac >= 0\n",
    "    # the original zarr file\n",
    "    z = zarr.open(zarr_file, 'r')\n",
    "    size = len(z['counts'])\n",
    "    \n",
    "    path_train = zarr_file.replace('.zarr', '_train.zarr')\n",
    "    path_test = zarr_file.replace('.zarr', '_test.zarr')\n",
    "    print(f\"{zarr_file} -> \\n{path_train} and \\n{path_test}\\n\")\n",
    "    if random_seed: np.random.seed(random_seed)\n",
    "    cond_train = np.random.rand(size) < frac\n",
    "    ntrain = cond_train.sum()\n",
    "    ntest = (~cond_train).sum()\n",
    "    print(f\"{size}, {ntrain} ({ntrain/size:.3f}), {ntest} ({ntest/size:.3f})\")\n",
    "    \n",
    "    z_train = zarr.open(path_train, mode='w')\n",
    "    z_test = zarr.open(path_test, mode='w')\n",
    "    for key in keys_copy:\n",
    "        z_train[key] = z[key]\n",
    "        z_test[key] = z[key]\n",
    "\n",
    "    for key in keys_split:\n",
    "        # train\n",
    "        if z[key].ndim == 1:\n",
    "            chunksize = (10,)\n",
    "            dat = z[key].oindex[cond_train]\n",
    "        elif z[key].ndim == 2:\n",
    "            chunksize = (10,None)\n",
    "            dat = z[key].oindex[cond_train,:]\n",
    "        else:\n",
    "            raise ValueError('unimplemented')\n",
    "            \n",
    "        z_train.create_dataset(key, shape=dat.shape, chunks=chunksize)\n",
    "        z_train[key][:] = dat\n",
    "        \n",
    "        # test\n",
    "        if z[key].ndim == 1:\n",
    "            chunksize = (10,)\n",
    "            dat = z[key].oindex[~cond_train]\n",
    "        elif z[key].ndim == 2:\n",
    "            chunksize = (10,None)\n",
    "            dat = z[key].oindex[~cond_train,:]\n",
    "        else:\n",
    "            raise ValueError('unimplemented')\n",
    "            \n",
    "        z_test.create_dataset(key, shape=dat.shape, chunks=chunksize)\n",
    "        z_test[key][:] = dat\n",
    "        \n",
    "    return "
   ]
  },
  {
   "cell_type": "code",
   "execution_count": 14,
   "id": "c1f4f788-6e82-4fc5-b26b-6d08fc461167",
   "metadata": {},
   "outputs": [
    {
     "data": {
      "text/plain": [
       "(<zarr.hierarchy.Group '/' read-only>,\n",
       " ['counts',\n",
       "  'genes',\n",
       "  'l1_cat',\n",
       "  'l1_code',\n",
       "  'l2_cat',\n",
       "  'l2_code',\n",
       "  'l3_cat',\n",
       "  'l3_code',\n",
       "  'l5_cat',\n",
       "  'l5_code'])"
      ]
     },
     "execution_count": 14,
     "metadata": {},
     "output_type": "execute_result"
    }
   ],
   "source": [
    "z = zarr.open(output, mode='r')\n",
    "z, list(z.keys())"
   ]
  },
  {
   "cell_type": "code",
   "execution_count": 15,
   "id": "5ff19852-1f3c-4b09-acb4-cfbd3c991357",
   "metadata": {},
   "outputs": [
    {
     "data": {
      "text/plain": [
       "(['genes', 'l1_cat', 'l2_cat', 'l3_cat', 'l5_cat'],\n",
       " ['counts', 'l1_code', 'l2_code', 'l3_code', 'l5_code'])"
      ]
     },
     "execution_count": 15,
     "metadata": {},
     "output_type": "execute_result"
    }
   ],
   "source": [
    "#\n",
    "keys_copy = ['genes', 'l1_cat', 'l2_cat', 'l3_cat', 'l5_cat']\n",
    "keys_split = [key for key in z.keys() if key not in keys_copy]\n",
    "keys_copy, keys_split\n"
   ]
  },
  {
   "cell_type": "code",
   "execution_count": 16,
   "id": "77d2647a-a47e-472c-8782-aceb4a65dbd1",
   "metadata": {},
   "outputs": [
    {
     "name": "stdout",
     "output_type": "stream",
     "text": [
      "/bigstore/GeneralStorage/fangming/projects/dredfish/data/rna/scrna_ss_ctxhippo_a_exon_count_matrix_v4.zarr -> \n",
      "/bigstore/GeneralStorage/fangming/projects/dredfish/data/rna/scrna_ss_ctxhippo_a_exon_count_matrix_v4_train.zarr and \n",
      "/bigstore/GeneralStorage/fangming/projects/dredfish/data/rna/scrna_ss_ctxhippo_a_exon_count_matrix_v4_test.zarr\n",
      "\n",
      "73347, 66017 (0.900), 7330 (0.100)\n"
     ]
    }
   ],
   "source": [
    "split_train_test(output, keys_copy, keys_split, frac=0.9)"
   ]
  },
  {
   "cell_type": "markdown",
   "id": "c40a4f59-2ed9-430e-b95b-f4cce43d9e9a",
   "metadata": {},
   "source": [
    "# test if we can load train and val as well as the original"
   ]
  },
  {
   "cell_type": "code",
   "execution_count": 17,
   "id": "96a75c64-33bf-441b-a0fa-97ae0e7fd30f",
   "metadata": {},
   "outputs": [],
   "source": [
    "f_org = '/bigstore/GeneralStorage/fangming/projects/dredfish/data/rna/scrna_ss_ctxhippo_a_exon_count_matrix_v4.zarr'\n",
    "f_trn = '/bigstore/GeneralStorage/fangming/projects/dredfish/data/rna/scrna_ss_ctxhippo_a_exon_count_matrix_v4_train.zarr'\n",
    "f_tst = '/bigstore/GeneralStorage/fangming/projects/dredfish/data/rna/scrna_ss_ctxhippo_a_exon_count_matrix_v4_test.zarr'\n"
   ]
  },
  {
   "cell_type": "code",
   "execution_count": 18,
   "id": "96627774-cdc6-48f7-a363-9d8a4d839e3a",
   "metadata": {},
   "outputs": [
    {
     "data": {
      "text/plain": [
       "(<zarr.hierarchy.Group '/' read-only>,\n",
       " ['counts',\n",
       "  'genes',\n",
       "  'l1_cat',\n",
       "  'l1_code',\n",
       "  'l2_cat',\n",
       "  'l2_code',\n",
       "  'l3_cat',\n",
       "  'l3_code',\n",
       "  'l5_cat',\n",
       "  'l5_code'],\n",
       " <zarr.hierarchy.Group '/' read-only>,\n",
       " ['counts',\n",
       "  'genes',\n",
       "  'l1_cat',\n",
       "  'l1_code',\n",
       "  'l2_cat',\n",
       "  'l2_code',\n",
       "  'l3_cat',\n",
       "  'l3_code',\n",
       "  'l5_cat',\n",
       "  'l5_code'])"
      ]
     },
     "execution_count": 18,
     "metadata": {},
     "output_type": "execute_result"
    }
   ],
   "source": [
    "z_trn = zarr.open(f_trn, mode='r')\n",
    "z_tst = zarr.open(f_tst, mode='r')\n",
    "z_trn, list(z_trn.keys()), z_tst, list(z_tst.keys())"
   ]
  },
  {
   "cell_type": "code",
   "execution_count": 19,
   "id": "060690ac-5604-4775-86a8-1b0063edc69a",
   "metadata": {},
   "outputs": [
    {
     "data": {
      "text/plain": [
       "array(['0610005C13Rik', '0610006L08Rik', '0610007P14Rik', ..., 'n-R5s144',\n",
       "       'n-R5s146', 'n-R5s149'], dtype='<U28')"
      ]
     },
     "execution_count": 19,
     "metadata": {},
     "output_type": "execute_result"
    }
   ],
   "source": [
    "z_trn['genes'][:]"
   ]
  },
  {
   "cell_type": "code",
   "execution_count": 20,
   "id": "008c0d64-19b4-42bd-a953-89eb259b606c",
   "metadata": {},
   "outputs": [
    {
     "name": "stdout",
     "output_type": "stream",
     "text": [
      "CPU times: user 0 ns, sys: 9.34 ms, total: 9.34 ms\n",
      "Wall time: 5.53 ms\n"
     ]
    },
    {
     "data": {
      "text/plain": [
       "(array([  5.,   0., 668., ...,   0.,   0.,   0.]), (45768,))"
      ]
     },
     "execution_count": 20,
     "metadata": {},
     "output_type": "execute_result"
    }
   ],
   "source": [
    "%%time\n",
    "y = z_trn['counts'].oindex[975,:]\n",
    "y, y.shape"
   ]
  },
  {
   "cell_type": "code",
   "execution_count": 21,
   "id": "a49a97fb-0da8-4a07-8080-e5dc11e7500d",
   "metadata": {},
   "outputs": [
    {
     "name": "stdout",
     "output_type": "stream",
     "text": [
      "CPU times: user 3.64 ms, sys: 2.04 ms, total: 5.68 ms\n",
      "Wall time: 4.12 ms\n"
     ]
    },
    {
     "data": {
      "text/plain": [
       "(array([  0.,   0., 144., ...,   0.,   0.,   0.]), (45768,))"
      ]
     },
     "execution_count": 21,
     "metadata": {},
     "output_type": "execute_result"
    }
   ],
   "source": [
    "%%time\n",
    "y = z_tst['counts'].oindex[975,:]\n",
    "y, y.shape"
   ]
  },
  {
   "cell_type": "markdown",
   "id": "ddce439d-75a9-41c3-8cd5-0c4b1d2eb838",
   "metadata": {},
   "source": [
    "# check"
   ]
  },
  {
   "cell_type": "code",
   "execution_count": 22,
   "id": "463d1a9b-1662-437a-a611-4f214c01b5d1",
   "metadata": {},
   "outputs": [
    {
     "data": {
      "text/plain": [
       "(<zarr.hierarchy.Group '/' read-only>,\n",
       " ['counts',\n",
       "  'genes',\n",
       "  'l1_cat',\n",
       "  'l1_code',\n",
       "  'l2_cat',\n",
       "  'l2_code',\n",
       "  'l3_cat',\n",
       "  'l3_code',\n",
       "  'l5_cat',\n",
       "  'l5_code'],\n",
       " <zarr.hierarchy.Group '/' read-only>,\n",
       " ['counts',\n",
       "  'genes',\n",
       "  'l1_cat',\n",
       "  'l1_code',\n",
       "  'l2_cat',\n",
       "  'l2_code',\n",
       "  'l3_cat',\n",
       "  'l3_code',\n",
       "  'l5_cat',\n",
       "  'l5_code'])"
      ]
     },
     "execution_count": 22,
     "metadata": {},
     "output_type": "execute_result"
    }
   ],
   "source": [
    "z_org = zarr.open(f_org, mode='r')\n",
    "z_trn = zarr.open(f_trn, mode='r')\n",
    "z_tst = zarr.open(f_tst, mode='r')\n",
    "z_trn, list(z_trn.keys()), z_tst, list(z_tst.keys())"
   ]
  }
 ],
 "metadata": {
  "kernelspec": {
   "display_name": "Python 3 (ipykernel)",
   "language": "python",
   "name": "python3"
  },
  "language_info": {
   "codemirror_mode": {
    "name": "ipython",
    "version": 3
   },
   "file_extension": ".py",
   "mimetype": "text/x-python",
   "name": "python",
   "nbconvert_exporter": "python",
   "pygments_lexer": "ipython3",
   "version": "3.10.2"
  }
 },
 "nbformat": 4,
 "nbformat_minor": 5
}
