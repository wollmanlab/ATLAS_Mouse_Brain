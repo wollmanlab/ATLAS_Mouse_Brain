{
 "cells": [
  {
   "cell_type": "code",
   "execution_count": 5,
   "id": "c6d482af-34db-4165-9370-74d5b946b82c",
   "metadata": {},
   "outputs": [
    {
     "data": {
      "text/plain": [
       "<module 'dredFISH.Design.PNMF' from '/bigstore/GeneralStorage/fangming/projects/dredfish/packages/dredFISH/dredFISH/Design/PNMF.py'>"
      ]
     },
     "execution_count": 5,
     "metadata": {},
     "output_type": "execute_result"
    }
   ],
   "source": [
    "import numpy as np\n",
    "import pandas as pd\n",
    "import matplotlib.pyplot as plt\n",
    "from dredFISH.Design import PNMF\n",
    "\n",
    "import importlib\n",
    "importlib.reload(PNMF)"
   ]
  },
  {
   "cell_type": "code",
   "execution_count": 6,
   "id": "04cd16f2-2f88-449a-ad0e-7af85526075c",
   "metadata": {},
   "outputs": [
    {
     "data": {
      "text/plain": [
       "array([[1.76405235, 0.40015721, 0.97873798, 2.2408932 , 1.86755799,\n",
       "        0.97727788, 0.95008842, 0.15135721, 0.10321885, 0.4105985 ],\n",
       "       [0.14404357, 1.45427351, 0.76103773, 0.12167502, 0.44386323,\n",
       "        0.33367433, 1.49407907, 0.20515826, 0.3130677 , 0.85409574],\n",
       "       [2.55298982, 0.6536186 , 0.8644362 , 0.74216502, 2.26975462,\n",
       "        1.45436567, 0.04575852, 0.18718385, 1.53277921, 1.46935877],\n",
       "       [0.15494743, 0.37816252, 0.88778575, 1.98079647, 0.34791215,\n",
       "        0.15634897, 1.23029068, 1.20237985, 0.38732682, 0.30230275]])"
      ]
     },
     "execution_count": 6,
     "metadata": {},
     "output_type": "execute_result"
    }
   ],
   "source": [
    "np.random.seed(0)\n",
    "x = np.abs(np.random.randn(4,10)) # p by n\n",
    "x"
   ]
  },
  {
   "cell_type": "code",
   "execution_count": 7,
   "id": "a61695a5-a638-40d2-921d-c35f66d4481c",
   "metadata": {},
   "outputs": [],
   "source": [
    "w, rec = PNMF.get_PNMF(x, k=4)"
   ]
  },
  {
   "cell_type": "code",
   "execution_count": 8,
   "id": "a494fa63-d56c-4b11-83d4-d866de8398f2",
   "metadata": {},
   "outputs": [
    {
     "data": {
      "text/plain": [
       "[<matplotlib.lines.Line2D at 0x7fd65dad99f0>]"
      ]
     },
     "execution_count": 8,
     "metadata": {},
     "output_type": "execute_result"
    },
    {
     "data": {
      "image/png": "[encoded data removed]",
      "text/plain": [
       "<Figure size 432x288 with 1 Axes>"
      ]
     },
     "metadata": {
      "needs_background": "light"
     },
     "output_type": "display_data"
    }
   ],
   "source": [
    "plt.plot(rec[:,0], rec[:,1])"
   ]
  },
  {
   "cell_type": "code",
   "execution_count": null,
   "id": "39091892-db6a-4e19-97a1-55a3ba80d3fc",
   "metadata": {},
   "outputs": [],
   "source": []
  }
 ],
 "metadata": {
  "kernelspec": {
   "display_name": "Python 3 (ipykernel)",
   "language": "python",
   "name": "python3"
  },
  "language_info": {
   "codemirror_mode": {
    "name": "ipython",
    "version": 3
   },
   "file_extension": ".py",
   "mimetype": "text/x-python",
   "name": "python",
   "nbconvert_exporter": "python",
   "pygments_lexer": "ipython3",
   "version": "3.10.2"
  }
 },
 "nbformat": 4,
 "nbformat_minor": 5
}
