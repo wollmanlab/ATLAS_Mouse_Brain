{
 "cells": [
  {
   "cell_type": "code",
   "execution_count": 1,
   "id": "8c0cd74c-72e7-4fb9-9a39-d64a3f7e5523",
   "metadata": {},
   "outputs": [
    {
     "data": {
      "text/plain": [
       "<module 'dredFISH.Design.data_loader_scrna' from '/bigstore/GeneralStorage/fangming/projects/dredfish/packages/dredFISH/dredFISH/Design/data_loader_scrna.py'>"
      ]
     },
     "execution_count": 1,
     "metadata": {},
     "output_type": "execute_result"
    }
   ],
   "source": [
    "import anndata\n",
    "import pandas as pd\n",
    "import numpy as np\n",
    "import scanpy as sp\n",
    "import zarr\n",
    "import os\n",
    "import torch\n",
    "\n",
    "import importlib\n",
    "from dredFISH.Design import data_loader_scrna\n",
    "importlib.reload(data_loader_scrna)"
   ]
  },
  {
   "cell_type": "code",
   "execution_count": 2,
   "id": "d0bbc4a3-f813-422e-9307-c1d9704c9dfe",
   "metadata": {},
   "outputs": [
    {
     "name": "stdout",
     "output_type": "stream",
     "text": [
      "/bigstore/GeneralStorage/fangming/projects/dredfish/data/rna/scrna_ss_ctxhippo_a_exon_count_matrix_v3.zarr\n"
     ]
    }
   ],
   "source": [
    "dat_dir = '/bigstore/GeneralStorage/fangming/projects/dredfish/data/'\n",
    "zarr_file = os.path.join(dat_dir, 'rna', 'scrna_ss_ctxhippo_a_exon_count_matrix_v3.zarr')\n",
    "print(zarr_file)"
   ]
  },
  {
   "cell_type": "code",
   "execution_count": 3,
   "id": "7ea824fe-495b-45d0-98e4-d4849d4bf23b",
   "metadata": {},
   "outputs": [
    {
     "data": {
      "text/plain": [
       "(<zarr.hierarchy.Group '/' read-only>,\n",
       " ['counts',\n",
       "  'l1_cat',\n",
       "  'l1_code',\n",
       "  'l2_cat',\n",
       "  'l2_code',\n",
       "  'l3_cat',\n",
       "  'l3_code',\n",
       "  'l5_cat',\n",
       "  'l5_code',\n",
       "  'num_probe_limit'],\n",
       " (73347, 45768))"
      ]
     },
     "execution_count": 3,
     "metadata": {},
     "output_type": "execute_result"
    }
   ],
   "source": [
    "# check zarr\n",
    "# z1 = zarr.open(zarr_file, mode='a') \n",
    "z1 = zarr.open(zarr_file, mode='r') \n",
    "z1, list(z1.keys()), z1['counts'].shape"
   ]
  },
  {
   "cell_type": "code",
   "execution_count": 4,
   "id": "46c00829-7dd6-476c-8bcc-21e18a24ff79",
   "metadata": {},
   "outputs": [],
   "source": [
    "# # z1['num_probe_limit'] = \n",
    "# z1['num_probe_limit'] = np.ones(z1['counts'].shape[1]).astype(int)\n",
    "# z1['num_probe_limit']"
   ]
  },
  {
   "cell_type": "markdown",
   "id": "389d4fa2-99c7-4a09-95be-6c6368f74f4a",
   "metadata": {},
   "source": [
    "# check data loader"
   ]
  },
  {
   "cell_type": "code",
   "execution_count": 5,
   "id": "3ebf2517-19b9-4669-8c19-08e9dd9fd79b",
   "metadata": {},
   "outputs": [],
   "source": [
    "from torch.utils.data import DataLoader\n",
    "\n",
    "trn_data = data_loader_scrna.scRNAseqDataset(zarr_file, 'counts', 'l3_code', 'l3_cat')\n",
    "trn_dataloader = DataLoader(trn_data, batch_size=64, shuffle=True)\n",
    "\n",
    "# tst_data = data_loader_scrna.scRNAseqDataset(output, 'counts', 'l3')\n",
    "# test_dataloader = DataLoader(test_data, batch_size=64, shuffle=True)"
   ]
  },
  {
   "cell_type": "code",
   "execution_count": 6,
   "id": "b191a928-8b09-483a-a51a-c6f8b81e0a85",
   "metadata": {},
   "outputs": [
    {
     "data": {
      "text/plain": [
       "<zarr.core.Array '/l3_cat' (42,) <U15 read-only>"
      ]
     },
     "execution_count": 6,
     "metadata": {},
     "output_type": "execute_result"
    }
   ],
   "source": [
    "trn_dataloader.dataset.data['l3_cat']"
   ]
  },
  {
   "cell_type": "code",
   "execution_count": 7,
   "id": "c993b124-90f2-4c60-b501-a828034c9515",
   "metadata": {},
   "outputs": [
    {
     "data": {
      "text/plain": [
       "73347"
      ]
     },
     "execution_count": 7,
     "metadata": {},
     "output_type": "execute_result"
    }
   ],
   "source": [
    "len(trn_dataloader.dataset)"
   ]
  },
  {
   "cell_type": "code",
   "execution_count": 13,
   "id": "cd0cf5c8-316b-4a38-814d-51e1bcc80519",
   "metadata": {},
   "outputs": [
    {
     "name": "stdout",
     "output_type": "stream",
     "text": [
      "0 tensor([[  0,   0,   5,  ...,   0,   0,   0],\n",
      "        [  0,   0, 223,  ...,   0,   0,   0],\n",
      "        [  0,   0,  55,  ...,   0,   0,   0],\n",
      "        ...,\n",
      "        [  0,   0, 365,  ...,   0,   0,   0],\n",
      "        [  0,   0, 129,  ...,   0,   0,   0],\n",
      "        [  0,   0, 166,  ...,   0,   0,   0]], dtype=torch.int32) tensor([23, 20,  6, 24, 11, 28, 41, 24, 17, 38, 17, 15, 41, 17, 11, 41, 38, 28,\n",
      "        23, 22, 24, 11, 27, 41, 37, 24, 37, 24, 34, 38, 37, 38, 18, 24, 17, 17,\n",
      "        41, 21, 41, 24, 41, 28, 17, 41, 13, 22,  7, 41, 17, 41, 11, 17, 28, 17,\n",
      "         7,  0, 34, 17, 17, 11, 24, 34, 18, 24], dtype=torch.int8)\n",
      "0 torch.Size([64, 45768]) torch.Size([64])\n"
     ]
    }
   ],
   "source": [
    "for idx, (a, b) in enumerate(trn_dataloader):\n",
    "    print(idx, a, b)\n",
    "    print(idx, a.shape, b.shape)\n",
    "    break"
   ]
  },
  {
   "cell_type": "code",
   "execution_count": 9,
   "id": "6dbcd552-5092-4b5d-afc0-53b70aedbc82",
   "metadata": {},
   "outputs": [],
   "source": [
    "# a, b = trn_data.__getitem__(0)"
   ]
  },
  {
   "cell_type": "code",
   "execution_count": 10,
   "id": "36b6671e-284b-4637-b763-1033169d3a52",
   "metadata": {},
   "outputs": [
    {
     "data": {
      "text/plain": [
       "tensor([ 0.,  0., 32.,  ...,  0.,  0.,  0.], dtype=torch.float64)"
      ]
     },
     "execution_count": 10,
     "metadata": {},
     "output_type": "execute_result"
    }
   ],
   "source": [
    "# torch.tensor(a).double()"
   ]
  },
  {
   "cell_type": "code",
   "execution_count": 20,
   "id": "67f7dc2e-3d7f-4c6e-898d-d249eaeeb229",
   "metadata": {},
   "outputs": [],
   "source": [
    "c = a.double()"
   ]
  },
  {
   "cell_type": "code",
   "execution_count": 25,
   "id": "7340e6c6-0b06-4a10-a55f-e800f65f367f",
   "metadata": {},
   "outputs": [],
   "source": []
  },
  {
   "cell_type": "code",
   "execution_count": null,
   "id": "daabc198-b381-45ec-96e7-19d550d1a060",
   "metadata": {},
   "outputs": [],
   "source": []
  }
 ],
 "metadata": {
  "kernelspec": {
   "display_name": "Python 3 (ipykernel)",
   "language": "python",
   "name": "python3"
  },
  "language_info": {
   "codemirror_mode": {
    "name": "ipython",
    "version": 3
   },
   "file_extension": ".py",
   "mimetype": "text/x-python",
   "name": "python",
   "nbconvert_exporter": "python",
   "pygments_lexer": "ipython3",
   "version": "3.9.12"
  }
 },
 "nbformat": 4,
 "nbformat_minor": 5
}
