{
 "cells": [
  {
   "cell_type": "code",
   "execution_count": 1,
   "id": "4fb35650-0d6e-4bfd-a796-cccff97d5f61",
   "metadata": {},
   "outputs": [],
   "source": [
    "import numpy as np\n",
    "import pandas as pd\n",
    "import torch\n",
    "import os\n",
    "import zarr\n",
    "import anndata\n",
    "\n",
    "from dredFISH.Analysis import basicu"
   ]
  },
  {
   "cell_type": "code",
   "execution_count": 2,
   "id": "f88b051f-4389-4789-9715-27c9818e1662",
   "metadata": {},
   "outputs": [
    {
     "data": {
      "text/plain": [
       "(array(['Stmn3', 'Neurod6', 'Bex2', 'Lhx6', 'Dlx1', 'Tmem59l', 'Neurod2',\n",
       "        'Satb2', 'Ptk2b', 'Rab3a', 'Uchl1', 'Gng3', 'Dnm1', 'Fezf2',\n",
       "        'Dlx5', 'Lingo1', 'Nfix', 'Zfp36l1', 'Fxyd7', 'Scg5', 'Nxph3',\n",
       "        'Crym', 'Arx', 'Eno2', 'Nxph4', 'Ifitm3', 'Fcrls', 'Zcchc12',\n",
       "        'Rab3b', 'Acot7', 'Cpne4', 'Kcnv1', 'Prkar1b', 'Atp1a1', 'Cox6a2',\n",
       "        'Slc30a3', 'Igfbp6', 'Tagln3', 'Elmod1', 'Pnoc', 'Nsg1', 'Mllt11',\n",
       "        'Chgb', 'Atp2b4', 'Btbd11', 'Arpp19', 'Ttc9b', 'Sez6', 'Hs3st2',\n",
       "        'Nefl', 'Snap47', 'Hprt', 'Tesc', 'Pglyrp1', 'Atp6v1b2', 'Tac2',\n",
       "        'Cd63', 'Hsp90aa1', 'Syn1', 'Gli3', 'Adora1', 'Lgals1', 'Got1',\n",
       "        'Arhgap25', 'Serp2', 'Syt5', 'Sox17', 'Stx1a', 'Nr2f2', 'Dkkl1',\n",
       "        'Hpcal4', 'Prkcg', 'Rasgef1b', 'Dkk3', 'Cckbr', 'Bex1', 'Ngef',\n",
       "        'Tceal3', 'Tspan13', 'Kcnip3', 'Dusp14', 'Fstl4', 'S100a16', 'Cfh',\n",
       "        'Osbpl1a', 'Anxa3', 'Itpr1', 'Krt12', 'Pdzrn3', 'Gabrg2', 'Olfm2',\n",
       "        'Atp6v1c1', 'Pamr1', 'Atp5b', 'Igsf21', 'Kctd4', 'Pgam1', 'Vcam1',\n",
       "        'Rbfox3', 'Tubb2a', 'Eno1', 'Atp6v0e2', 'Tyro3', 'Atp5g3', 'Stmn4',\n",
       "        'Tuba4a', 'Cend1', 'Phyhip', 'Syngr3', 'Fam131a', 'Pacsin1', 'Ak5',\n",
       "        'Fkbp3', 'Kcnmb4', 'Afap1', 'Fyb', 'Ccl27a', 'Ppp1r14a', 'Galnt9',\n",
       "        'Ppp1r1b', 'Camk4', 'Rasl11b', 'Txnip', 'Pebp1', 'Slc38a3',\n",
       "        'Rasgrp2', 'Dlx2', '1500011B03Rik', 'Nefm', 'Atp6v1e1', 'Myl4',\n",
       "        'Mfge8', 'Scube1', 'Bcl11a', 'Slc26a4', 'Slfn5', 'Atp6v1d', 'Rbp4',\n",
       "        'Tpi1', 'Ensa'], dtype=object),\n",
       " (140,))"
      ]
     },
     "execution_count": 2,
     "metadata": {},
     "output_type": "execute_result"
    }
   ],
   "source": [
    "f = '/bigstore/GeneralStorage/fangming/projects/dredfish/data/rna/top_recon_genes_dpnmf_nn_n140.csv'\n",
    "genesp = pd.read_csv(f, header=None)[0].values\n",
    "genesp, genesp.shape"
   ]
  },
  {
   "cell_type": "code",
   "execution_count": 3,
   "id": "cac7f534-82f2-4c33-98b8-f253baa99610",
   "metadata": {},
   "outputs": [
    {
     "name": "stdout",
     "output_type": "stream",
     "text": [
      "/bigstore/GeneralStorage/fangming/projects/dredfish/data/rna/scrna_ss_ctxhippo_a_exon_count_matrix_v3.zarr\n",
      "<zarr.hierarchy.Group '/' read-only> ['counts', 'l1_cat', 'l1_code', 'l2_cat', 'l2_code', 'l3_cat', 'l3_code', 'l5_cat', 'l5_code', 'num_probe_limit']\n",
      "(73347, 45768)\n",
      "(73347, 45768)\n"
     ]
    },
    {
     "data": {
      "text/plain": [
       "array(['0610005C13Rik', '0610006L08Rik', '0610007P14Rik', ..., 'n-R5s144',\n",
       "       'n-R5s146', 'n-R5s149'], dtype=object)"
      ]
     },
     "execution_count": 3,
     "metadata": {},
     "output_type": "execute_result"
    }
   ],
   "source": [
    "dat_dir = '/bigstore/GeneralStorage/fangming/projects/dredfish/data/'\n",
    "zarr_file = os.path.join(dat_dir, 'rna', 'scrna_ss_ctxhippo_a_exon_count_matrix_v3.zarr')\n",
    "anndata_file = os.path.join(dat_dir, 'rna', 'scrna_ss_ctxhippo_a_exon_count_matrix_v2.h5ad')\n",
    "print(zarr_file)\n",
    "\n",
    "# z1 = zarr.open(zarr_file, mode='a') \n",
    "z1 = zarr.open(zarr_file, mode='r') \n",
    "print(z1, list(z1.keys()))\n",
    "print(z1['counts'].shape)\n",
    "\n",
    "adata = anndata.read(anndata_file, backed='r')\n",
    "print(adata.shape)\n",
    "\n",
    "# get NN genes\n",
    "nn_genes = adata.var.index.values\n",
    "nn_genes\n"
   ]
  },
  {
   "cell_type": "code",
   "execution_count": 4,
   "id": "6e05a61f-7c5d-40e4-ad32-127b84fe03ff",
   "metadata": {},
   "outputs": [
    {
     "data": {
      "text/plain": [
       "tensor([41659, 34572,  3954, 31581,  6749, 42716, 34570, 39807, 38280, 38466,\n",
       "        43820, 23403,  6867,  8196,  6754, 31616, 34595, 45333,  8512, 39863,\n",
       "        35061,  5866,  3344,  7465, 35062, 24525,  8169, 45169, 38467,  2408,\n",
       "         5749, 25530, 37948,  3482,  5707, 40611, 24592, 41940,  7397, 37592,\n",
       "        34924, 33714,  5223,  3496,  4112,  3319, 43590, 40192, 24336, 34527,\n",
       "        40964, 24309, 42231, 37196,  3542, 41899,  4855, 24379, 41821,  8857,\n",
       "         2593, 31547, 23445,  3200, 40100, 41864, 41214, 41695, 34869,  6726,\n",
       "        24303, 37956, 38602,  6724,  4690,  3953, 34614, 42097, 43506, 25475,\n",
       "         7030,  8467, 39727,  5173, 36633,  3021, 25335, 25827, 37102,  8579,\n",
       "        35139,  3543, 36780,  3502, 25004, 25549, 37176, 44065, 38646, 43629,\n",
       "         7463,  3539, 43700,  3510, 41660, 43625,  5059, 37275, 41837,  7807,\n",
       "        36742,  2713,  8290, 25510,  2622,  8513,  4707, 37784,  8622, 37795,\n",
       "         4390, 38614, 43688, 37109, 40666, 38607,  6751,    75, 34528,  3546,\n",
       "        34237, 32393, 39957,  3902, 40576, 40817,  3545, 38705, 42940,  7479])"
      ]
     },
     "execution_count": 4,
     "metadata": {},
     "output_type": "execute_result"
    }
   ],
   "source": [
    "# sub select the nn_genes\n",
    "selected_genes_idx = basicu.get_index_from_array(nn_genes, genesp)\n",
    "fout = os.path.join(dat_dir, 'rna', 'gidx_sub140_smrt_v1.pt')\n",
    "torch.save(torch.tensor(selected_genes_idx, dtype=int), fout)\n",
    "\n",
    "gsub_idx = torch.load(fout)\n",
    "gsub_idx"
   ]
  }
 ],
 "metadata": {
  "kernelspec": {
   "display_name": "Python 3 (ipykernel)",
   "language": "python",
   "name": "python3"
  },
  "language_info": {
   "codemirror_mode": {
    "name": "ipython",
    "version": 3
   },
   "file_extension": ".py",
   "mimetype": "text/x-python",
   "name": "python",
   "nbconvert_exporter": "python",
   "pygments_lexer": "ipython3",
   "version": "3.9.12"
  }
 },
 "nbformat": 4,
 "nbformat_minor": 5
}
