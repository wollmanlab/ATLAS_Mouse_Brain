{
 "cells": [
  {
   "cell_type": "code",
   "execution_count": 1,
   "id": "8c0cd74c-72e7-4fb9-9a39-d64a3f7e5523",
   "metadata": {},
   "outputs": [],
   "source": [
    "import anndata\n",
    "import pandas as pd\n",
    "import numpy as np\n",
    "import scanpy as sp\n",
    "import zarr\n",
    "import os"
   ]
  },
  {
   "cell_type": "code",
   "execution_count": 2,
   "id": "394dee95-e4a2-4d2a-b0ed-c5f6f7fa5754",
   "metadata": {},
   "outputs": [
    {
     "name": "stdout",
     "output_type": "stream",
     "text": [
      "CPU times: user 933 ms, sys: 29.6 s, total: 30.6 s\n",
      "Wall time: 30.7 s\n"
     ]
    },
    {
     "data": {
      "text/plain": [
       "AnnData object with n_obs × n_vars = 73347 × 45768\n",
       "    obs: 'donor_sex_id', 'donor_sex_label', 'donor_sex_color', 'region_id', 'region_label', 'region_color', 'platform_label', 'cluster_order', 'cluster_label', 'cluster_color', 'subclass_order', 'subclass_label', 'subclass_color', 'neighborhood_id', 'neighborhood_label', 'neighborhood_color', 'class_order', 'class_label', 'class_color', 'exp_component_name', 'external_donor_name_label', 'full_genotype_label', 'facs_population_plan_label', 'injection_roi_label', 'injection_materials_label', 'injection_method_label', 'injection_type_label', 'full_genotype_id', 'full_genotype_color', 'external_donor_name_id', 'external_donor_name_color', 'facs_population_plan_id', 'facs_population_plan_color', 'injection_materials_id', 'injection_materials_color', 'injection_method_id', 'injection_method_color', 'injection_roi_id', 'injection_roi_color', 'injection_type_id', 'injection_type_color', 'cell_type_accession_label', 'cell_type_alias_label', 'cell_type_alt_alias_label', 'cell_type_designation_label', 'cell_type_designation_id', 'cell_type_alt_alias_id', 'cell_type_alias_id', 'cell_type_accession_id', 'cell_type_designation_color', 'cell_type_alt_alias_color', 'cell_type_alias_color', 'cell_type_accession_color', 'cortical_layer_label', 'cortical_layer_order', 'cortical_layer_color', 'Lim1', 'Lim2'"
      ]
     },
     "execution_count": 2,
     "metadata": {},
     "output_type": "execute_result"
    }
   ],
   "source": [
    "%%time\n",
    "f = '/bigstore/GeneralStorage/fangming/projects/dredfish/data/rna/scrna_ss_ctxhippo_a_exon_count_matrix_v2.h5ad'\n",
    "# adata = anndata.read(f, backed='r')\n",
    "adata = anndata.read(f, backed=None)\n",
    "adata"
   ]
  },
  {
   "cell_type": "code",
   "execution_count": 3,
   "id": "da59d506-1f3b-4f3b-b3f9-946c92829e95",
   "metadata": {},
   "outputs": [
    {
     "name": "stdout",
     "output_type": "stream",
     "text": [
      "CPU times: user 2.89 ms, sys: 0 ns, total: 2.89 ms\n",
      "Wall time: 2.74 ms\n"
     ]
    },
    {
     "data": {
      "text/plain": [
       "array([11448,  9110, 12077, 10878, 41896, 17276, 36093, 28771, 20131,\n",
       "       20545, 29240, 45502, 42027,  5332, 32859, 14030, 22441,  6597,\n",
       "       18591, 37633,  5189, 14547, 37036, 14328, 10671, 20430, 20766,\n",
       "       27664,   367, 11037, 25616, 13560, 27532, 38069, 16022,  4722,\n",
       "        5291, 23501, 42493, 27661, 41672, 27166,  9990,  1984, 38477,\n",
       "       27870, 18191, 38084, 13321, 35655, 22835, 28225, 29229,   665,\n",
       "       11333, 20062, 16772, 42059, 39824, 23189, 25381, 32068, 22945,\n",
       "         212, 27422, 14880,  4861, 30911,  2289,  7380,   260, 29448,\n",
       "        7222,  5232, 39691, 11986, 37654, 12621, 33688, 28960,  8887,\n",
       "        9370, 20789,  3969, 17545, 18390, 35373, 13521,    86, 30673,\n",
       "       25107, 15051,   221, 15728, 15795,  3628, 16481, 29823, 10219,\n",
       "       18643])"
      ]
     },
     "execution_count": 3,
     "metadata": {},
     "output_type": "execute_result"
    }
   ],
   "source": [
    "%%time\n",
    "cells = adata.obs.index.values\n",
    "genes = adata.var.index.values\n",
    "ncells = len(cells)\n",
    "ngenes = len(genes)\n",
    "\n",
    "cellridx = np.random.choice(ncells, size=100, replace=False)\n",
    "generidx = np.random.choice(ngenes, size=100, replace=False)\n",
    "generidx"
   ]
  },
  {
   "cell_type": "markdown",
   "id": "b310bd45-3e3d-4466-ae64-31b73af853c0",
   "metadata": {},
   "source": [
    "# AnnData\n",
    "- need to load all data into memory before random selection\n",
    "- takes ~2s to select a random 100 cells\n",
    "- could take ~0.1s if saved as csr."
   ]
  },
  {
   "cell_type": "code",
   "execution_count": 4,
   "id": "8134d311-eee6-47c7-a1bd-2f81adeee26c",
   "metadata": {},
   "outputs": [
    {
     "data": {
      "text/plain": [
       "(array([33589, 26760, 39076, 25752, 44713, 21302, 14998, 31791, 11332,\n",
       "          456,  7549, 11724, 30072, 26029, 15869,  4792, 41331, 29291,\n",
       "          706, 24543, 27179,  7698, 34855, 42923, 18898, 31414, 35637,\n",
       "        41437, 35020, 36953, 30870,  5709,  4928,  8295,  9048, 18978,\n",
       "        27990, 22454,  4005, 29952, 30668,  9334, 24242, 18958, 12522,\n",
       "        17074, 39429, 29932,  3672,  5652, 35328,  6603, 42417, 17482,\n",
       "        39214, 11741,  4686, 18429, 29910, 19414,  4729,  4849, 24902,\n",
       "        40490, 33275, 17971, 16059, 18346, 28177, 31368, 18885, 34235,\n",
       "        43936, 40903, 34405, 43653, 30388, 17237, 14181, 32714, 30063,\n",
       "        26835, 44600, 32680, 39871,  9703, 12757, 21710,  1324, 40528,\n",
       "        11376,  3840, 24552, 16814, 32157, 16462, 39423, 17011, 34592,\n",
       "        41755]),\n",
       " array([946, 675, 213, 508, 763, 752,  79, 677,  16, 937, 872, 895, 109,\n",
       "        403, 791,  84, 688, 273,  61, 335, 800, 815, 768, 189,  30,  13,\n",
       "        359, 647, 346, 341, 607, 792, 587,  67, 902, 725, 370, 622, 420,\n",
       "        206, 361, 351, 689, 849,  22, 241, 443, 139, 467, 659, 233,  39,\n",
       "        115, 820, 314, 764, 684, 888, 641,  92,   9, 312, 407, 428, 507,\n",
       "         29,  88, 681, 732, 635,  52, 495, 557, 935, 930, 705, 392, 769,\n",
       "        354, 914, 211, 601, 695, 486, 856, 736, 563, 734, 364, 974, 945,\n",
       "        373, 957, 606, 523, 411, 673, 208, 818, 640]))"
      ]
     },
     "execution_count": 4,
     "metadata": {},
     "output_type": "execute_result"
    }
   ],
   "source": [
    "# idx = np.random.choice(ncells, size=100, replace=False)\n",
    "idx = np.random.choice(ngenes, size=100, replace=False)\n",
    "idx2 = np.random.choice(1000, size=100, replace=False)\n",
    "idx, idx2"
   ]
  },
  {
   "cell_type": "code",
   "execution_count": 5,
   "id": "444827b7-ecda-43b3-91dc-e4f44cfd71eb",
   "metadata": {},
   "outputs": [
    {
     "name": "stdout",
     "output_type": "stream",
     "text": [
      "CPU times: user 1.68 s, sys: 75.7 ms, total: 1.75 s\n",
      "Wall time: 1.75 s\n"
     ]
    },
    {
     "data": {
      "text/plain": [
       "<100x45768 sparse matrix of type '<class 'numpy.float32'>'\n",
       "\twith 1001849 stored elements in Compressed Sparse Column format>"
      ]
     },
     "execution_count": 5,
     "metadata": {},
     "output_type": "execute_result"
    }
   ],
   "source": [
    "%%time\n",
    "b = adata[idx]\n",
    "b.X"
   ]
  },
  {
   "cell_type": "code",
   "execution_count": 6,
   "id": "d9bf0e1f-44a8-4e41-9cf5-d50c7ae9abc5",
   "metadata": {},
   "outputs": [
    {
     "name": "stdout",
     "output_type": "stream",
     "text": [
      "CPU times: user 99.8 ms, sys: 2.63 ms, total: 102 ms\n",
      "Wall time: 99.8 ms\n"
     ]
    },
    {
     "data": {
      "text/plain": [
       "<73347x100 sparse matrix of type '<class 'numpy.float32'>'\n",
       "\twith 1295419 stored elements in Compressed Sparse Column format>"
      ]
     },
     "execution_count": 6,
     "metadata": {},
     "output_type": "execute_result"
    }
   ],
   "source": [
    "%%time\n",
    "c = adata[:,idx]\n",
    "c.X"
   ]
  },
  {
   "cell_type": "markdown",
   "id": "3e2fd731-5d34-4c81-94ab-21ace280ef26",
   "metadata": {},
   "source": [
    "# Zarr persistent array\n",
    "- do not load all in, fast to init (must have) \n",
    "- fast to random access and retrieve 1 item (must have)\n",
    "- this allows us to use PyTorch's DataLoader and its iterator and shuffled data strategy\n",
    "\n",
    "If we want it to be faster, we may use this strategy: \n",
    "- do we need random access? or just shuffle and stream through?"
   ]
  },
  {
   "cell_type": "code",
   "execution_count": 7,
   "id": "f9c0152f-41a6-4b98-8162-28da76dfa2ff",
   "metadata": {},
   "outputs": [
    {
     "name": "stdout",
     "output_type": "stream",
     "text": [
      "/bigstore/GeneralStorage/fangming/projects/dredfish/data/rna_ss.zarr\n"
     ]
    }
   ],
   "source": [
    "dat_dir = '/bigstore/GeneralStorage/fangming/projects/dredfish/data/'\n",
    "output = os.path.join(dat_dir, 'rna_ss.zarr')\n",
    "print(output)\n",
    "# zarr.save(output, z)\n",
    "z1 = zarr.open(\n",
    "          output, \n",
    "          mode='w', \n",
    "          shape=(ncells, ngenes), \n",
    "          chunks=(1000,None), # chunk = 1 abolishes the difference between idx and idx2; but is still overall slower.\n",
    "          dtype='i4',\n",
    "    )\n",
    "# z1[:] = np.array(adata.X.toarray())"
   ]
  },
  {
   "cell_type": "code",
   "execution_count": 8,
   "id": "7ea824fe-495b-45d0-98e4-d4849d4bf23b",
   "metadata": {},
   "outputs": [
    {
     "name": "stdout",
     "output_type": "stream",
     "text": [
      "CPU times: user 526 µs, sys: 3.14 ms, total: 3.67 ms\n",
      "Wall time: 2.29 ms\n"
     ]
    },
    {
     "data": {
      "text/plain": [
       "<zarr.core.Array (73347, 45768) int32 read-only>"
      ]
     },
     "execution_count": 8,
     "metadata": {},
     "output_type": "execute_result"
    }
   ],
   "source": [
    "%%time\n",
    "z2 = zarr.open(output, mode='r')\n",
    "z2"
   ]
  },
  {
   "cell_type": "code",
   "execution_count": 9,
   "id": "6584fdcd-ac93-480a-acf2-fc6671646278",
   "metadata": {},
   "outputs": [
    {
     "name": "stdout",
     "output_type": "stream",
     "text": [
      "CPU times: user 172 µs, sys: 1.02 ms, total: 1.2 ms\n",
      "Wall time: 909 µs\n"
     ]
    },
    {
     "data": {
      "text/plain": [
       "(45768,)"
      ]
     },
     "execution_count": 9,
     "metadata": {},
     "output_type": "execute_result"
    }
   ],
   "source": [
    "%%time\n",
    "z2.oindex[idx[0],:].shape"
   ]
  },
  {
   "cell_type": "code",
   "execution_count": 10,
   "id": "7b05ba9e-149f-4ee6-84f1-023aec2ba18b",
   "metadata": {},
   "outputs": [
    {
     "name": "stdout",
     "output_type": "stream",
     "text": [
      "CPU times: user 316 ms, sys: 31.3 ms, total: 347 ms\n",
      "Wall time: 355 ms\n"
     ]
    },
    {
     "data": {
      "text/plain": [
       "(100, 45768)"
      ]
     },
     "execution_count": 10,
     "metadata": {},
     "output_type": "execute_result"
    }
   ],
   "source": [
    "%%time\n",
    "z2.oindex[idx,:].shape"
   ]
  },
  {
   "cell_type": "code",
   "execution_count": 11,
   "id": "467ee2ff-847c-4282-8b1b-fc44eab58be3",
   "metadata": {},
   "outputs": [
    {
     "name": "stdout",
     "output_type": "stream",
     "text": [
      "CPU times: user 20.6 ms, sys: 11.5 ms, total: 32.2 ms\n",
      "Wall time: 27.8 ms\n"
     ]
    },
    {
     "data": {
      "text/plain": [
       "(100, 45768)"
      ]
     },
     "execution_count": 11,
     "metadata": {},
     "output_type": "execute_result"
    }
   ],
   "source": [
    "%%time\n",
    "z2.oindex[idx2,:].shape"
   ]
  },
  {
   "cell_type": "code",
   "execution_count": null,
   "id": "83ac9ff8-5d6d-4a89-be75-23c2d8a12edd",
   "metadata": {},
   "outputs": [],
   "source": []
  }
 ],
 "metadata": {
  "kernelspec": {
   "display_name": "Python 3 (ipykernel)",
   "language": "python",
   "name": "python3"
  },
  "language_info": {
   "codemirror_mode": {
    "name": "ipython",
    "version": 3
   },
   "file_extension": ".py",
   "mimetype": "text/x-python",
   "name": "python",
   "nbconvert_exporter": "python",
   "pygments_lexer": "ipython3",
   "version": "3.9.12"
  }
 },
 "nbformat": 4,
 "nbformat_minor": 5
}
