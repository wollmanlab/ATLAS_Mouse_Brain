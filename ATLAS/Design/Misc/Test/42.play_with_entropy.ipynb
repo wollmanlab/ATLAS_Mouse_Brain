{
 "cells": [
  {
   "cell_type": "code",
   "execution_count": 1,
   "id": "b7721d0d-f211-4e44-956d-b69b33305f84",
   "metadata": {},
   "outputs": [],
   "source": [
    "import numpy as np"
   ]
  },
  {
   "cell_type": "code",
   "execution_count": 2,
   "id": "f0e6326a-f41f-44b5-8371-18bbe56c6720",
   "metadata": {},
   "outputs": [
    {
     "data": {
      "text/plain": [
       "1.0"
      ]
     },
     "execution_count": 2,
     "metadata": {},
     "output_type": "execute_result"
    }
   ],
   "source": [
    "np.log(np.e)"
   ]
  },
  {
   "cell_type": "code",
   "execution_count": 3,
   "id": "78047cce-a579-4829-bcf1-a833a1d3eedd",
   "metadata": {},
   "outputs": [
    {
     "data": {
      "text/plain": [
       "0.6931471805599453"
      ]
     },
     "execution_count": 3,
     "metadata": {},
     "output_type": "execute_result"
    }
   ],
   "source": [
    "np.log(2)"
   ]
  },
  {
   "cell_type": "code",
   "execution_count": 5,
   "id": "ddb1f9da-6aff-4999-9193-1f52d42faf50",
   "metadata": {},
   "outputs": [
    {
     "data": {
      "text/plain": [
       "2.8378770664093453"
      ]
     },
     "execution_count": 5,
     "metadata": {},
     "output_type": "execute_result"
    }
   ],
   "source": [
    "1+np.log(2*np.pi)"
   ]
  },
  {
   "cell_type": "code",
   "execution_count": 7,
   "id": "759af7cf-9d46-4b21-b927-578c237046f2",
   "metadata": {},
   "outputs": [
    {
     "data": {
      "text/plain": [
       "0.6931471805599453"
      ]
     },
     "execution_count": 7,
     "metadata": {},
     "output_type": "execute_result"
    }
   ],
   "source": [
    "lmd = 2\n",
    "np.log(lmd)"
   ]
  },
  {
   "cell_type": "code",
   "execution_count": 8,
   "id": "be86b903-6df1-4b17-8ba9-1861d31b957b",
   "metadata": {},
   "outputs": [
    {
     "data": {
      "text/plain": [
       "16.94546082454102"
      ]
     },
     "execution_count": 8,
     "metadata": {},
     "output_type": "execute_result"
    }
   ],
   "source": [
    "np.exp(2.83)"
   ]
  },
  {
   "cell_type": "code",
   "execution_count": null,
   "id": "aefc2e2f-a2b4-4f2d-b8cd-3eb291956fd6",
   "metadata": {},
   "outputs": [],
   "source": []
  }
 ],
 "metadata": {
  "kernelspec": {
   "display_name": "Python 3 (ipykernel)",
   "language": "python",
   "name": "python3"
  },
  "language_info": {
   "codemirror_mode": {
    "name": "ipython",
    "version": 3
   },
   "file_extension": ".py",
   "mimetype": "text/x-python",
   "name": "python",
   "nbconvert_exporter": "python",
   "pygments_lexer": "ipython3",
   "version": "3.10.2"
  }
 },
 "nbformat": 4,
 "nbformat_minor": 5
}
