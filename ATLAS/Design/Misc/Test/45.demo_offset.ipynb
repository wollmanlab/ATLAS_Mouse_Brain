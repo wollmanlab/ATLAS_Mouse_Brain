{
 "cells": [
  {
   "cell_type": "code",
   "execution_count": 1,
   "id": "6b101c15-bada-490c-adb6-19a64a2e047f",
   "metadata": {},
   "outputs": [],
   "source": [
    "import numpy as np\n",
    "import matplotlib.pyplot as plt\n",
    "import seaborn as sns\n",
    "from scipy.optimize import minimize"
   ]
  },
  {
   "cell_type": "code",
   "execution_count": 2,
   "id": "d0715567-c451-411c-9af2-e4c2657c43c8",
   "metadata": {},
   "outputs": [],
   "source": [
    "def get_pairs(nx, ny):\n",
    "    \"\"\"return indices for all pairs {i,j}: (i_x, i_y, j_x, j_y)\n",
    "    \"\"\"\n",
    "    pairs = []\n",
    "    for x in range(nx):\n",
    "        for y in range(ny):\n",
    "            if x+1 < nx:\n",
    "                pair = [x, y, x+1, y]\n",
    "                pairs.append(pair)\n",
    "            if x-1 >= 0:\n",
    "                pair = [x, y, x-1, y]\n",
    "                pairs.append(pair)\n",
    "            if y+1 < ny:\n",
    "                pair = [x, y, x, y+1]\n",
    "                pairs.append(pair)\n",
    "            if y-1 >= 0:\n",
    "                pair = [x, y, x, y-1]\n",
    "                pairs.append(pair)\n",
    "    pairs = np.array(pairs)\n",
    "    \n",
    "    return pairs\n",
    "\n",
    "def cost_func(ofst, a=None, pairs=[], d_pairs=[]):\n",
    "    \"\"\"ofst is the (flattened) offset matrix \n",
    "    with the same number of dimension (nx*ny) as the image (a).\n",
    "    \"\"\"\n",
    "    assert len(pairs)>0\n",
    "    assert len(pairs) == len(d_pairs)\n",
    "    assert a is not None\n",
    "    nx, ny = a.shape\n",
    "    \n",
    "    i_x, i_y, j_x, j_y = (pairs[:,0], \n",
    "                          pairs[:,1],\n",
    "                          pairs[:,2],\n",
    "                          pairs[:,3],\n",
    "                         )\n",
    "    \n",
    "    idx_i = i_x*ny + i_y\n",
    "    idx_j = j_x*ny + j_y\n",
    "    \n",
    "    obj = np.sum(np.power(d_pairs + ofst[idx_i] - ofst[idx_j], 2))\n",
    "        \n",
    "    return obj"
   ]
  },
  {
   "cell_type": "markdown",
   "id": "66851234-fb9e-4965-904f-a4c1695492ac",
   "metadata": {},
   "source": [
    "# a toy example"
   ]
  },
  {
   "cell_type": "code",
   "execution_count": 3,
   "id": "7c922c90-31a2-4de1-89c0-67caa4b7b340",
   "metadata": {},
   "outputs": [],
   "source": [
    "nx, ny = 3,4\n",
    "a = np.random.randn(nx, ny)\n",
    "a = a - np.mean(a)"
   ]
  },
  {
   "cell_type": "code",
   "execution_count": 4,
   "id": "c3e6850f-3b36-4df0-bb7e-a6e636a462aa",
   "metadata": {},
   "outputs": [
    {
     "data": {
      "text/plain": [
       "<AxesSubplot:>"
      ]
     },
     "execution_count": 4,
     "metadata": {},
     "output_type": "execute_result"
    },
    {
     "data": {
      "image/png": "[encoded data removed]",
      "text/plain": [
       "<Figure size 432x288 with 2 Axes>"
      ]
     },
     "metadata": {
      "needs_background": "light"
     },
     "output_type": "display_data"
    }
   ],
   "source": [
    "sns.heatmap(a, cmap='coolwarm')"
   ]
  },
  {
   "cell_type": "code",
   "execution_count": 5,
   "id": "d1e83616-dea6-41c6-9008-0b6ee6ddfe0a",
   "metadata": {},
   "outputs": [
    {
     "name": "stdout",
     "output_type": "stream",
     "text": [
      "(34, 4) (34,)\n"
     ]
    }
   ],
   "source": [
    "# get all pairs\n",
    "pairs = get_pairs(nx, ny)\n",
    "# get Overlap difference for all pairs\n",
    "d_pairs = a[pairs[:,0], pairs[:,1]] - a[pairs[:,2], pairs[:,3]]\n",
    "print(pairs.shape, d_pairs.shape)"
   ]
  },
  {
   "cell_type": "code",
   "execution_count": 6,
   "id": "892e575a-07ca-4036-aba1-f5b5e71fc99e",
   "metadata": {},
   "outputs": [
    {
     "data": {
      "text/plain": [
       "(9.013352139732264e-32, 175.17713721101285)"
      ]
     },
     "execution_count": 6,
     "metadata": {},
     "output_type": "execute_result"
    }
   ],
   "source": [
    "# sanity check offset by negative a should give 0\n",
    "cost0 = cost_func(-a.reshape(-1,), a=a, pairs=pairs, d_pairs=d_pairs)\n",
    "# sanity check offset by other things will give nonzero\n",
    "cost1 = cost_func(np.random.randn(nx*ny), a=a, pairs=pairs, d_pairs=d_pairs)\n",
    "cost0, cost1"
   ]
  },
  {
   "cell_type": "code",
   "execution_count": 7,
   "id": "8de371ef-ee11-4ee3-8f36-91ea87046edc",
   "metadata": {},
   "outputs": [
    {
     "data": {
      "text/plain": [
       "      fun: 0.010914950598092448\n",
       " hess_inv: array([[41.81403665, 41.69744043, 41.64165154, 41.6217145 , 41.7053105 ,\n",
       "        41.66189817, 41.62936254, 41.61206859, 41.65847889, 41.63940858,\n",
       "        41.61549318, 41.59955787],\n",
       "       [41.69744043, 41.75682903, 41.67685345, 41.64868517, 41.66217827,\n",
       "        41.67063964, 41.64807447, 41.63253192, 41.63731735, 41.63897409,\n",
       "        41.62717579, 41.61627807],\n",
       "       [41.64165154, 41.67685345, 41.76412516, 41.70977444, 41.62900111,\n",
       "        41.64769959, 41.67761751, 41.67169809, 41.61734008, 41.62992602,\n",
       "        41.64413104, 41.64580407],\n",
       "       [41.6217145 , 41.64868517, 41.70977444, 41.8288595 , 41.61544134,\n",
       "        41.63550983, 41.67317739, 41.7184165 , 41.60990002, 41.62499919,\n",
       "        41.65025281, 41.67375733],\n",
       "       [41.7053105 , 41.66217827, 41.62900111, 41.61544134, 41.77271832,\n",
       "        41.67692705, 41.63278764, 41.61313898, 41.70464642, 41.66347042,\n",
       "        41.62679265, 41.60609337],\n",
       "       [41.66189817, 41.67063964, 41.64769959, 41.63550983, 41.67692705,\n",
       "        41.72660007, 41.66009827, 41.63573794, 41.66130934, 41.67178922,\n",
       "        41.64579033, 41.62733501],\n",
       "       [41.62936254, 41.64807447, 41.67761751, 41.67317739, 41.63278764,\n",
       "        41.66009827, 41.73327709, 41.68575369, 41.62871197, 41.64874575,\n",
       "        41.67697517, 41.66947319],\n",
       "       [41.61206859, 41.63253192, 41.67169809, 41.7184165 , 41.61313898,\n",
       "        41.63573794, 41.68575369, 41.7836211 , 41.61181379, 41.63292965,\n",
       "        41.67126133, 41.71609387],\n",
       "       [41.65847889, 41.63731735, 41.61734008, 41.60990002, 41.70464642,\n",
       "        41.66130934, 41.62871197, 41.61181379, 41.81263434, 41.69823013,\n",
       "        41.63830434, 41.61062133],\n",
       "       [41.63940858, 41.63897409, 41.62992602, 41.62499919, 41.66347042,\n",
       "        41.67178922, 41.64874575, 41.63292965, 41.69823013, 41.7591104 ,\n",
       "        41.67576245, 41.64102681],\n",
       "       [41.61549318, 41.62717579, 41.64413104, 41.65025281, 41.62679265,\n",
       "        41.64579033, 41.67697517, 41.67126133, 41.63830434, 41.67576245,\n",
       "        41.76206251, 41.70394491],\n",
       "       [41.59955787, 41.61627807, 41.64580407, 41.67375733, 41.60609337,\n",
       "        41.62733501, 41.66947319, 41.71609387, 41.61062133, 41.64102681,\n",
       "        41.70394491, 41.82218181]])\n",
       "      jac: array([ 6.96745701e-07,  7.01169483e-07,  3.73460352e-07, -1.75694004e-06,\n",
       "       -3.84054147e-07,  6.05592504e-07, -1.25635415e-06, -1.05332583e-06,\n",
       "        1.15856528e-06, -5.03961928e-07,  1.86730176e-07,  1.24110375e-06])\n",
       "  message: 'Optimization terminated successfully.'\n",
       "     nfev: 468\n",
       "      nit: 29\n",
       "     njev: 36\n",
       "   status: 0\n",
       "  success: True\n",
       "        x: array([-0.5933568 ,  0.64574765,  0.79602571,  0.129997  ,  1.39448985,\n",
       "        1.21264403, -2.07693433, -0.56333381, -1.17281625,  0.22788271,\n",
       "        0.0995467 , -0.10039398])"
      ]
     },
     "execution_count": 7,
     "metadata": {},
     "output_type": "execute_result"
    }
   ],
   "source": [
    "# optimize the ofst by the cost function and regularization (to promote small ofst)\n",
    "res = minimize(lambda ofst: cost_func(ofst, a=a, pairs=pairs, d_pairs=d_pairs)+1e-3*ofst.dot(ofst), \n",
    "               np.random.randn(nx*ny),\n",
    "              )\n",
    "# result\n",
    "res_offset = res.x.reshape(nx, ny)\n",
    "res"
   ]
  },
  {
   "cell_type": "code",
   "execution_count": 8,
   "id": "f9bb079a-2838-4e7f-a568-f8aecb61272c",
   "metadata": {},
   "outputs": [
    {
     "data": {
      "image/png": "[encoded data removed]",
      "text/plain": [
       "<Figure size 864x288 with 6 Axes>"
      ]
     },
     "metadata": {
      "needs_background": "light"
     },
     "output_type": "display_data"
    }
   ],
   "source": [
    "fig, axs = plt.subplots(1,3,figsize=(4*3,4))\n",
    "ax = axs[0]\n",
    "sns.heatmap(a,            cmap='coolwarm', ax=ax, vmax=1, vmin=-1)\n",
    "ax.set_title('original')\n",
    "ax = axs[1]\n",
    "sns.heatmap(res_offset,   cmap='coolwarm', ax=ax, vmax=1, vmin=-1)\n",
    "ax.set_title('offset')\n",
    "ax = axs[2]\n",
    "sns.heatmap(a+res_offset, cmap='coolwarm', ax=ax, vmax=1, vmin=-1)\n",
    "ax.set_title('original + offset')\n",
    "plt.show()"
   ]
  },
  {
   "cell_type": "markdown",
   "id": "aee243bc-fa49-49aa-a8ff-a3a40f7f16c9",
   "metadata": {},
   "source": [
    "# a larger toy example"
   ]
  },
  {
   "cell_type": "code",
   "execution_count": 9,
   "id": "d5574548-01f7-45bf-9d1f-79ab8fe74bcb",
   "metadata": {},
   "outputs": [],
   "source": [
    "nx, ny = 20,20 \n",
    "# FUTURE: more than 20x20 becomes much slower than 10 seconds with scipy.optmize; \n",
    "# which can be resolved by specialized quadratic programming.\n",
    "a = np.random.randn(nx, ny)\n",
    "a = a - np.mean(a)"
   ]
  },
  {
   "cell_type": "code",
   "execution_count": 10,
   "id": "b4dba3da-2c68-4cb4-9352-5ed9f13ad015",
   "metadata": {},
   "outputs": [
    {
     "data": {
      "text/plain": [
       "<AxesSubplot:>"
      ]
     },
     "execution_count": 10,
     "metadata": {},
     "output_type": "execute_result"
    },
    {
     "data": {
      "image/png": "[encoded data removed]",
      "text/plain": [
       "<Figure size 432x288 with 2 Axes>"
      ]
     },
     "metadata": {
      "needs_background": "light"
     },
     "output_type": "display_data"
    }
   ],
   "source": [
    "sns.heatmap(a, cmap='coolwarm')"
   ]
  },
  {
   "cell_type": "code",
   "execution_count": 11,
   "id": "1f0899b5-82e6-4736-a8f9-690d126fde19",
   "metadata": {},
   "outputs": [
    {
     "name": "stdout",
     "output_type": "stream",
     "text": [
      "(1520, 4) (1520,)\n"
     ]
    }
   ],
   "source": [
    "# get all pairs\n",
    "pairs = get_pairs(nx, ny)\n",
    "# get Overlap difference for all pairs\n",
    "d_pairs = a[pairs[:,0], pairs[:,1]] - a[pairs[:,2], pairs[:,3]]\n",
    "print(pairs.shape, d_pairs.shape)"
   ]
  },
  {
   "cell_type": "code",
   "execution_count": 12,
   "id": "7a54ed4c-5a1d-4014-975c-b0252725db8a",
   "metadata": {},
   "outputs": [
    {
     "data": {
      "text/plain": [
       "(9.026580871037774e-30, 5665.599930189538)"
      ]
     },
     "execution_count": 12,
     "metadata": {},
     "output_type": "execute_result"
    }
   ],
   "source": [
    "# sanity check offset by negative a should give 0\n",
    "cost0 = cost_func(-a.reshape(-1,), a=a, pairs=pairs, d_pairs=d_pairs)\n",
    "# sanity check offset by other things will give nonzero\n",
    "cost1 = cost_func(np.random.randn(nx*ny), a=a, pairs=pairs, d_pairs=d_pairs)\n",
    "cost0, cost1"
   ]
  },
  {
   "cell_type": "code",
   "execution_count": 13,
   "id": "028f7abc-6c7c-416f-a30b-6b0765f56e48",
   "metadata": {},
   "outputs": [
    {
     "name": "stdout",
     "output_type": "stream",
     "text": [
      "CPU times: user 4min 13s, sys: 15.3 s, total: 4min 28s\n",
      "Wall time: 8.83 s\n"
     ]
    }
   ],
   "source": [
    "%%time\n",
    "# optimize the ofst by the cost function and regularization (to promote small ofst)\n",
    "res = minimize(lambda ofst: cost_func(ofst, a=a, pairs=pairs, d_pairs=d_pairs)+1e-3*ofst.dot(ofst), \n",
    "               np.random.randn(nx*ny),\n",
    "              )\n",
    "# result\n",
    "res_offset = res.x.reshape(nx, ny)\n",
    "# res"
   ]
  },
  {
   "cell_type": "code",
   "execution_count": 14,
   "id": "6528478b-5a8f-4a99-8d6a-cf6c9fede50e",
   "metadata": {},
   "outputs": [
    {
     "data": {
      "image/png": "[encoded data removed]",
      "text/plain": [
       "<Figure size 864x288 with 6 Axes>"
      ]
     },
     "metadata": {
      "needs_background": "light"
     },
     "output_type": "display_data"
    }
   ],
   "source": [
    "fig, axs = plt.subplots(1,3,figsize=(4*3,4))\n",
    "ax = axs[0]\n",
    "sns.heatmap(a,            cmap='coolwarm', ax=ax, vmax=1, vmin=-1)\n",
    "ax.set_title('original')\n",
    "ax = axs[1]\n",
    "sns.heatmap(res_offset,   cmap='coolwarm', ax=ax, vmax=1, vmin=-1)\n",
    "ax.set_title('offset')\n",
    "ax = axs[2]\n",
    "sns.heatmap(a+res_offset, cmap='coolwarm', ax=ax, vmax=1, vmin=-1)\n",
    "ax.set_title('original + offset')\n",
    "plt.show()"
   ]
  },
  {
   "cell_type": "code",
   "execution_count": null,
   "id": "430cdbc7-ddf9-4bd6-8106-809ebe7c0cb7",
   "metadata": {},
   "outputs": [],
   "source": []
  }
 ],
 "metadata": {
  "kernelspec": {
   "display_name": "Python 3 (ipykernel)",
   "language": "python",
   "name": "python3"
  },
  "language_info": {
   "codemirror_mode": {
    "name": "ipython",
    "version": 3
   },
   "file_extension": ".py",
   "mimetype": "text/x-python",
   "name": "python",
   "nbconvert_exporter": "python",
   "pygments_lexer": "ipython3",
   "version": "3.10.2"
  }
 },
 "nbformat": 4,
 "nbformat_minor": 5
}
