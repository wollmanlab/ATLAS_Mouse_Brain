{
 "cells": [
  {
   "cell_type": "code",
   "execution_count": 1,
   "id": "802d2447-a810-4d04-b6f5-d7f962cc19a6",
   "metadata": {},
   "outputs": [],
   "source": [
    "from typing import Union\n",
    "import scanpy as sc\n",
    "import anndata\n",
    "import logging\n",
    "import os\n",
    "import numpy as np\n",
    "import pandas as pd\n",
    "import json\n",
    "import sys\n",
    "# import scanpy.external as sce\n",
    "logging.basicConfig(level=logging.INFO)\n",
    "\n",
    "from sklearn.neighbors import KNeighborsClassifier\n",
    "from sklearn.neural_network import MLPClassifier\n",
    "from sklearn.model_selection import train_test_split\n",
    "from sklearn.metrics import classification_report\n",
    "from sklearn.decomposition import PCA\n",
    "\n",
    "from scipy import stats\n",
    "import pingouin\n",
    "\n",
    "import matplotlib.pyplot as plt\n",
    "import seaborn as sns\n",
    "\n",
    "import umap\n",
    "\n",
    "# from PySpots.fish_helpers import *\n",
    "from dredFISH.Analysis import basicu\n",
    "from dredFISH.Analysis import regu\n",
    "from dredFISH.Analysis import celltypeu\n",
    "from dredFISH.Analysis import evalu\n",
    "from dredFISH.Analysis import TissueGraph as tgh\n",
    "\n",
    "import importlib\n",
    "importlib.reload(tgh)\n",
    "importlib.reload(celltypeu)\n",
    "importlib.reload(evalu)\n",
    "importlib.reload(basicu)\n",
    "sc.set_figure_params(figsize=(7, 7))"
   ]
  },
  {
   "cell_type": "code",
   "execution_count": 4,
   "id": "3b0a3968-213f-461d-adaf-01cd6ef9745d",
   "metadata": {},
   "outputs": [],
   "source": [
    "f = '/bigstore/GeneralStorage/fangming/projects/dredfish/data/rna/scrna_ss_ctxhippo_a_exon_DPNMF_genes_matrix.h5ad'\n",
    "adata = anndata.read(f)\n",
    "adata\n",
    "\n",
    "f = '/bigstore/GeneralStorage/fangming/projects/dredfish/data/rna/scrna_ss_ctxhippo_a_exon_scvi_matrix.npy'\n",
    "adata.obsm['X_scVI'] = np.load(f)\n",
    "\n",
    "f = '/bigstore/GeneralStorage/fangming/projects/dredfish/data/rna/scrna_ss_ctxhippo_a_exon_scvi_umap_matrix.npy'\n",
    "adata.obsm['X_scVI_umap'] = np.load(f)"
   ]
  },
  {
   "cell_type": "code",
   "execution_count": 6,
   "id": "746f8cdf-6817-4f6c-95ac-9ee47d874c3e",
   "metadata": {},
   "outputs": [],
   "source": [
    "output = '/bigstore/GeneralStorage/fangming/projects/dredfish/data/rna/scrna_ss_ctxhippo_a_exon_DPNMF_genes_with_scVI_matrix.h5ad'\n",
    "adata.write(output)"
   ]
  },
  {
   "cell_type": "code",
   "execution_count": null,
   "id": "78969eb2-2005-4409-8566-96b87181b782",
   "metadata": {},
   "outputs": [],
   "source": []
  }
 ],
 "metadata": {
  "kernelspec": {
   "display_name": "Python 3 (ipykernel)",
   "language": "python",
   "name": "python3"
  },
  "language_info": {
   "codemirror_mode": {
    "name": "ipython",
    "version": 3
   },
   "file_extension": ".py",
   "mimetype": "text/x-python",
   "name": "python",
   "nbconvert_exporter": "python",
   "pygments_lexer": "ipython3",
   "version": "3.9.12"
  }
 },
 "nbformat": 4,
 "nbformat_minor": 5
}
