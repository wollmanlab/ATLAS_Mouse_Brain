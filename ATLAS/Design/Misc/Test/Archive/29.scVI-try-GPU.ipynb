{
 "cells": [
  {
   "cell_type": "code",
   "execution_count": 1,
   "id": "1d35953c-121a-4bb4-82bb-a2f6fd1d4156",
   "metadata": {},
   "outputs": [
    {
     "name": "stderr",
     "output_type": "stream",
     "text": [
      "INFO:pytorch_lightning.utilities.seed:Global seed set to 0\n"
     ]
    }
   ],
   "source": [
    "import scanpy as sc\n",
    "import anndata\n",
    "import logging\n",
    "import os\n",
    "import numpy as np\n",
    "import pandas as pd\n",
    "import json\n",
    "# import scanpy.external as sce\n",
    "logging.basicConfig(level=logging.INFO)\n",
    "import scvi\n",
    "\n",
    "from sklearn.neighbors import KNeighborsClassifier\n",
    "from sklearn.neural_network import MLPClassifier\n",
    "from sklearn.model_selection import train_test_split\n",
    "from sklearn.metrics import classification_report\n",
    "\n",
    "import matplotlib.pyplot as plt\n",
    "import seaborn as sns\n",
    "import umap\n",
    "\n",
    "# from PySpots.fish_helpers import *\n",
    "from dredFISH.Analysis import basicu\n",
    "from dredFISH.Analysis import regu \n",
    "from dredFISH.Analysis import celltypeu\n",
    "from dredFISH.Analysis import TissueGraph_basics as tgh\n",
    "# from dredFISH.Analysis import powerplots\n",
    "\n",
    "import importlib\n",
    "importlib.reload(tgh)\n",
    "importlib.reload(celltypeu)\n",
    "importlib.reload(basicu)\n",
    "sc.set_figure_params(figsize=(7, 7))"
   ]
  },
  {
   "cell_type": "code",
   "execution_count": 2,
   "id": "bb1c1b61-7d41-4dfd-b0d8-1a8fb20b7b10",
   "metadata": {},
   "outputs": [
    {
     "name": "stderr",
     "output_type": "stream",
     "text": [
      "INFO:root:hi\n"
     ]
    }
   ],
   "source": [
    "logging.info('hi')"
   ]
  },
  {
   "cell_type": "markdown",
   "id": "48af8f0a-6582-418d-a85a-45875be5c27c",
   "metadata": {},
   "source": [
    "# file paths and load data"
   ]
  },
  {
   "cell_type": "code",
   "execution_count": 3,
   "id": "d2ce3b27-70bf-474e-8114-70403223c3df",
   "metadata": {},
   "outputs": [
    {
     "name": "stdout",
     "output_type": "stream",
     "text": [
      "/bigstore/GeneralStorage/fangming/projects/dredfish/data_dump/noHarmony_March30_v4_isocortex_hpf.csv\n",
      "/bigstore/GeneralStorage/fangming/projects/dredfish/data_dump/Joint_UMAP_isocortex_hpf_April14.csv\n",
      "/bigstore/GeneralStorage/fangming/projects/dredfish/data_dump/Joint_UMAP_isocortex_hpf_subsamp100_level1_April14.csv\n"
     ]
    }
   ],
   "source": [
    "prj_dir = '/bigstore/GeneralStorage/fangming/projects/dredfish/'\n",
    "dat_dir = prj_dir + 'data/'\n",
    "res_dir = prj_dir + 'data_dump/'\n",
    "fig_dir = prj_dir + 'figures/'\n",
    "\n",
    "input_csv = f'{res_dir}noHarmony_March30_v4_isocortex_hpf.csv'\n",
    "print(input_csv)\n",
    "\n",
    "output_csv = f'{res_dir}Joint_UMAP_isocortex_hpf_April14.csv'\n",
    "output2_csv = f'{res_dir}Joint_UMAP_isocortex_hpf_subsamp100_level1_April14.csv'\n",
    "print(output_csv)\n",
    "print(output2_csv)\n",
    "\n",
    "# dredFISH data\n",
    "dataset = 'DPNMF_PolyA_2021Nov19' # dataset tag\n",
    "base_path = '/bigstore/Images2021/gaby/dredFISH/DPNMF_PolyA_2021Nov19/'\n",
    "fish_path = f'{base_path}fishdata_2022Mar23/' # Zach's new version\n",
    "# anndata_path = f'{base_path}results/raw_fishdata_Mar30.h5ad'\n",
    "anndata_path = '/bigstore/GeneralStorage/fangming/projects/dredfish/data_dump/DPNMF_PolyA_2021Nov19_v2_results_anndata.h5ad'\n",
    "# anndata_path = ''\n",
    "\n",
    "# allen data\n",
    "scrna_path = '/bigstore/GeneralStorage/fangming/projects/dredfish/data/rna/scrna_ss_ctxhippo_a_exon_DPNMF_matrix.h5ad'\n",
    "\n",
    "# allen tree\n",
    "allen_tree_path='/bigstore/GeneralStorage/fangming/reference/allen_ccf/structures.json'\n",
    "\n",
    "# analysis metadata\n",
    "meta_path = '/bigstore/GeneralStorage/fangming/projects/dredfish/data_dump/analysis_meta_Mar31.json'\n"
   ]
  },
  {
   "cell_type": "code",
   "execution_count": 4,
   "id": "e3ddd1fb-7e73-462d-9501-1ef999f910f1",
   "metadata": {},
   "outputs": [
    {
     "name": "stdout",
     "output_type": "stream",
     "text": [
      "from AnnData\n"
     ]
    },
    {
     "name": "stderr",
     "output_type": "stream",
     "text": [
      "INFO:root:113758 cells, minimum counts = 1248.0\n"
     ]
    },
    {
     "name": "stdout",
     "output_type": "stream",
     "text": [
      "CPU times: user 889 ms, sys: 148 ms, total: 1.04 s\n",
      "Wall time: 1.04 s\n"
     ]
    }
   ],
   "source": [
    "%%time\n",
    "# results\n",
    "dftypes = pd.read_csv(input_csv, index_col=0)\n",
    "dftypes = dftypes.filter(regex=r'^Level_[0-9]', axis=1)\n",
    "levels = dftypes.columns.values\n",
    "\n",
    "# load dredFISH\n",
    "TMG = tgh.TissueMultiGraph(name=dataset)\n",
    "# load raw counts data\n",
    "if os.path.isfile(anndata_path):\n",
    "    print('from AnnData')\n",
    "    TMG.load_from_anndata(anndata_path)\n",
    "else:\n",
    "    print('from FishData')\n",
    "    TMG.load_from_fishdata(fish_path, dataset, output_path=anndata_path)\n",
    "# normalize (optional for spatial registration)\n",
    "TMG.normalize_data(norm_cell=True, norm_bit=False)\n",
    "\n",
    "### for now\n",
    "data = TMG.data\n",
    "data.obs = data.obs.join(dftypes)\n",
    "\n",
    "# print(data)\n",
    "    \n",
    "# allen scrna matrix\n",
    "ref_data = anndata.read_h5ad(scrna_path)\n",
    "# print(ref_data)\n",
    "\n",
    "# allen tree\n",
    "allen_tree, allen_maps = regu.load_allen_tree(allen_tree_path)\n",
    "\n",
    "# analysis\n",
    "with open(meta_path, 'r') as fh:\n",
    "    meta = json.load(fh)\n"
   ]
  },
  {
   "cell_type": "code",
   "execution_count": 5,
   "id": "a2f206a3-3962-440d-a9c7-64424bc6c06f",
   "metadata": {},
   "outputs": [
    {
     "data": {
      "text/plain": [
       "AnnData object with n_obs × n_vars = 73347 × 24\n",
       "    obs: 'donor_sex_id', 'donor_sex_label', 'donor_sex_color', 'region_id', 'region_label', 'region_color', 'platform_label', 'cluster_order', 'Level_5_cluster_label', 'cluster_color', 'subclass_order', 'Level_3_subclass_label', 'subclass_color', 'neighborhood_id', 'Level_2_neighborhood_label', 'neighborhood_color', 'class_order', 'Level_1_class_label', 'class_color', 'exp_component_name', 'external_donor_name_label', 'full_genotype_label', 'facs_population_plan_label', 'injection_roi_label', 'injection_materials_label', 'injection_method_label', 'injection_type_label', 'full_genotype_id', 'full_genotype_color', 'external_donor_name_id', 'external_donor_name_color', 'facs_population_plan_id', 'facs_population_plan_color', 'injection_materials_id', 'injection_materials_color', 'injection_method_id', 'injection_method_color', 'injection_roi_id', 'injection_roi_color', 'injection_type_id', 'injection_type_color', 'cell_type_accession_label', 'cell_type_alias_label', 'cell_type_alt_alias_label', 'cell_type_designation_label', 'cell_type_designation_id', 'cell_type_alt_alias_id', 'cell_type_alias_id', 'cell_type_accession_id', 'cell_type_designation_color', 'cell_type_alt_alias_color', 'cell_type_alias_color', 'cell_type_accession_color', 'cortical_layer_label', 'cortical_layer_order', 'cortical_layer_color', 'Lim1', 'Lim2'"
      ]
     },
     "execution_count": 5,
     "metadata": {},
     "output_type": "execute_result"
    }
   ],
   "source": [
    "ref_data.obs = ref_data.obs.rename({\n",
    "                                    'class_label': 'Level_1_class_label',\n",
    "                                    'neighborhood_label': 'Level_2_neighborhood_label',\n",
    "                                    'subclass_label': 'Level_3_subclass_label',\n",
    "                                    'cluster_label': 'Level_5_cluster_label',\n",
    "                                    }, axis=1)\n",
    "ref_data"
   ]
  },
  {
   "cell_type": "code",
   "execution_count": 6,
   "id": "3be1a8f9-d0d5-48c1-a3ba-1175fbbe6ffc",
   "metadata": {},
   "outputs": [
    {
     "data": {
      "text/plain": [
       "View of AnnData object with n_obs × n_vars = 44075 × 24\n",
       "    obs: 'label', 'pixel_x', 'pixel_y', 'nuclei_size', 'nuclei_signal', 'cytoplasm_size', 'cytoplasm_signal', 'total_size', 'total_signal', 'posname', 'posname_stage_x', 'posname_stage_y', 'cell_name', 'stage_x', 'stage_y', 'coord_x', 'coord_y', 'region_id', 'region_color', 'region_acronym', 'Level_1_class_label', 'Level_2_neighborhood_label', 'Level_3_subclass_label'\n",
       "    obsm: 'stage'\n",
       "    layers: 'cytoplasm_vectors', 'nuclei_vectors', 'total_vectors', 'norm_cell'"
      ]
     },
     "execution_count": 6,
     "metadata": {},
     "output_type": "execute_result"
    }
   ],
   "source": [
    "# select specific regions\n",
    "selected_regions = ['Isocortex', 'HPF']\n",
    "selected_all_sids = regu.expand_regions(allen_tree, selected_regions, 'acronym')\n",
    "\n",
    "# selected cells\n",
    "cond_cells = data.obs['region_id'].isin(selected_all_sids)\n",
    "data = data[cond_cells]\n",
    "data"
   ]
  },
  {
   "cell_type": "code",
   "execution_count": 7,
   "id": "fb1aca63-34cf-48c4-a3a3-4939b22a1a5b",
   "metadata": {},
   "outputs": [],
   "source": [
    "def get_umap(Xcell, Ycell, \n",
    "             Xidx, Yidx, \n",
    "             Xname, Yname,\n",
    "             **kwargs):\n",
    "    \"\"\"\n",
    "    \"\"\"\n",
    "    # run UMAP\n",
    "    embed = umap.UMAP(**kwargs).fit_transform(\n",
    "        np.vstack([Xcell, Ycell])\n",
    "        )\n",
    "\n",
    "    dfembed = pd.DataFrame(index=np.hstack([Xidx, Yidx])) \n",
    "    dfembed['dataset'] = [Xname]*len(Xidx) + [Yname]*len(Yidx) \n",
    "    dfembed['embed_1'] = embed[:,0]\n",
    "    dfembed['embed_2'] = embed[:,1]\n",
    "    \n",
    "    return dfembed "
   ]
  },
  {
   "cell_type": "code",
   "execution_count": 8,
   "id": "a0b63a68-ff73-4abc-9e2b-c9232b93954b",
   "metadata": {},
   "outputs": [
    {
     "data": {
      "text/plain": [
       "((73347, 24), (44075, 24))"
      ]
     },
     "execution_count": 8,
     "metadata": {},
     "output_type": "execute_result"
    }
   ],
   "source": [
    "\n",
    "Xname = 'scRNA-seq'\n",
    "Yname = 'dredFISH'\n",
    "X = ref_data.X\n",
    "Y = data.layers['norm_cell']\n",
    "# level = 'Level_1_class_label'\n",
    "# n = 100\n",
    "\n",
    "# dfsub, xidx = basicu.stratified_sample(ref_data.obs, level, n, return_idx=True)\n",
    "# Xcell = basicu.zscore(X[xidx], axis=0)\n",
    "Xcell = basicu.zscore(X, axis=0)\n",
    "Ycell = basicu.zscore(Y, axis=0)\n",
    "\n",
    "Xcell.shape, Ycell.shape"
   ]
  },
  {
   "cell_type": "code",
   "execution_count": 9,
   "id": "d23f9604-6a66-4ae4-9bf6-377720d1d248",
   "metadata": {},
   "outputs": [],
   "source": [
    "# run scVI"
   ]
  },
  {
   "cell_type": "code",
   "execution_count": 10,
   "id": "e65a6c83-2e3e-4641-9d3f-54db8ec3f598",
   "metadata": {},
   "outputs": [],
   "source": [
    "adata = sc.read(\n",
    "    \"/bigstore/GeneralStorage/fangming/projects/dredfish/data_dump/lung_atlas.h5ad\",\n",
    "    backup_url=\"https://figshare.com/ndownloader/files/24539942\",\n",
    ")\n"
   ]
  },
  {
   "cell_type": "code",
   "execution_count": 11,
   "id": "704fb962-07fc-46c1-863d-8ea936ed33ca",
   "metadata": {},
   "outputs": [
    {
     "name": "stderr",
     "output_type": "stream",
     "text": [
      "/home/fangming/anaconda3/envs/scvi_v3p9/lib/python3.9/site-packages/scanpy/preprocessing/_highly_variable_genes.py:62: UserWarning:\n",
      "\n",
      "`flavor='seurat_v3'` expects raw count data, but non-integers were found.\n",
      "\n"
     ]
    }
   ],
   "source": [
    "adata.raw = adata  # keep full dimension safe\n",
    "sc.pp.highly_variable_genes(\n",
    "    adata,\n",
    "    flavor=\"seurat_v3\",\n",
    "    n_top_genes=2000,\n",
    "    layer=\"counts\",\n",
    "    batch_key=\"batch\",\n",
    "    subset=True\n",
    ")"
   ]
  },
  {
   "cell_type": "code",
   "execution_count": 12,
   "id": "2279d4c6-62d6-4448-8ac0-a58faf7fe56e",
   "metadata": {},
   "outputs": [
    {
     "name": "stderr",
     "output_type": "stream",
     "text": [
      "INFO:absl:Unable to initialize backend 'tpu_driver': NOT_FOUND: Unable to find driver in registry given worker: \n",
      "INFO:absl:Unable to initialize backend 'gpu': NOT_FOUND: Could not find registered platform with name: \"cuda\". Available platform names are: Interpreter Host\n",
      "INFO:absl:Unable to initialize backend 'tpu': INVALID_ARGUMENT: TpuPlatform is not available.\n",
      "/home/fangming/anaconda3/envs/scvi_v3p9/lib/python3.9/site-packages/scvi/data/fields/_layer_field.py:78: UserWarning:\n",
      "\n",
      "adata.layers[counts] does not contain unnormalized count data. Are you sure this is what you want?\n",
      "\n"
     ]
    }
   ],
   "source": [
    "scvi.model.SCVI.setup_anndata(adata, layer=\"counts\", batch_key=\"batch\")"
   ]
  },
  {
   "cell_type": "code",
   "execution_count": 13,
   "id": "8a53c909-cb5f-4246-b8b8-70a8be00dde1",
   "metadata": {},
   "outputs": [],
   "source": [
    "vae = scvi.model.SCVI(adata, n_layers=2, n_latent=30, gene_likelihood=\"nb\")"
   ]
  },
  {
   "cell_type": "code",
   "execution_count": 14,
   "id": "e15f195f-8126-4d3b-81f0-50c168f11d91",
   "metadata": {},
   "outputs": [
    {
     "name": "stderr",
     "output_type": "stream",
     "text": [
      "INFO:torch.distributed.nn.jit.instantiator:Created a temporary directory at /tmp/tmponbnace2\n",
      "INFO:torch.distributed.nn.jit.instantiator:Writing /tmp/tmponbnace2/_remote_module_non_sriptable.py\n",
      "/home/fangming/anaconda3/envs/scvi_v3p9/lib/python3.9/site-packages/torch/cuda/__init__.py:82: UserWarning:\n",
      "\n",
      "CUDA initialization: The NVIDIA driver on your system is too old (found version 10000). Please update your GPU driver by downloading and installing a new version from the URL: http://www.nvidia.com/Download/index.aspx Alternatively, go to: https://pytorch.org to install a PyTorch version that has been compiled with your version of the CUDA driver. (Triggered internally at  /opt/conda/conda-bld/pytorch_1646755849709/work/c10/cuda/CUDAFunctions.cpp:112.)\n",
      "\n",
      "INFO:pytorch_lightning.utilities.distributed:GPU available: False, used: False\n",
      "INFO:pytorch_lightning.utilities.distributed:TPU available: False, using: 0 TPU cores\n",
      "INFO:pytorch_lightning.utilities.distributed:IPU available: False, using: 0 IPUs\n"
     ]
    },
    {
     "name": "stdout",
     "output_type": "stream",
     "text": [
      "Epoch 5/246:   2%|▏         | 4/246 [01:11<1:11:15, 17.67s/it, loss=623, v_num=1]CPU times: user 36min 33s, sys: 1min 32s, total: 38min 6s\n",
      "Wall time: 1min 14s\n"
     ]
    },
    {
     "name": "stderr",
     "output_type": "stream",
     "text": [
      "/home/fangming/anaconda3/envs/scvi_v3p9/lib/python3.9/site-packages/pytorch_lightning/trainer/trainer.py:688: UserWarning:\n",
      "\n",
      "Detected KeyboardInterrupt, attempting graceful shutdown...\n",
      "\n"
     ]
    }
   ],
   "source": [
    "%%time\n",
    "vae.train()\n",
    "# need to use python 3.9"
   ]
  },
  {
   "cell_type": "code",
   "execution_count": 16,
   "id": "10d409eb-e6e4-42de-9314-71ff650cc46c",
   "metadata": {},
   "outputs": [
    {
     "data": {
      "text/plain": [
       "False"
      ]
     },
     "execution_count": 16,
     "metadata": {},
     "output_type": "execute_result"
    }
   ],
   "source": [
    "# try GPU pytorch\n",
    "import torch\n",
    "torch.cuda.is_available()"
   ]
  },
  {
   "cell_type": "code",
   "execution_count": null,
   "id": "f6aede8b-72d9-4e31-af31-9021e1f4bf41",
   "metadata": {},
   "outputs": [],
   "source": []
  },
  {
   "cell_type": "code",
   "execution_count": null,
   "id": "3c93b374-a262-4d82-a8da-09d770fb98de",
   "metadata": {},
   "outputs": [],
   "source": [
    "obs_df = pd.DataFrame(index=np.hstack([\n",
    "    ref_data.obs.index, \n",
    "    data.obs.index, \n",
    "    ]))\n",
    "obs_df['dataset'] = [Xname]*len(Xcell) + [Yname]*len(Ycell) \n",
    "\n",
    "adata_merged = anndata.AnnData(\n",
    "    X=np.vstack([Xcell,Ycell]),\n",
    "    obs=obs_df,\n",
    ")\n",
    "adata_merged.obsm['norm_bit'] = np.vstack([Xcell, Ycell])\n",
    "adata_merged"
   ]
  },
  {
   "cell_type": "code",
   "execution_count": null,
   "id": "c183484f-5693-447e-b282-a6df3d83a587",
   "metadata": {},
   "outputs": [],
   "source": [
    "%%time\n",
    "\n",
    "kwargs = dict(verbose=True)\n",
    "sce.pp.harmony_integrate(adata_merged, 'dataset', \n",
    "                         basis='norm_bit', \n",
    "                         adjusted_basis='harmony',\n",
    "                         **kwargs,\n",
    "                        )\n",
    "\n"
   ]
  },
  {
   "cell_type": "code",
   "execution_count": null,
   "id": "203e1183-b0e8-4dc6-9967-60214657ebf6",
   "metadata": {},
   "outputs": [],
   "source": [
    "%%time\n",
    "\n",
    "Xcell_adj = adata_merged[adata_merged.obs['dataset']=='scRNA-seq'].obsm['harmony']\n",
    "Ycell_adj = adata_merged[adata_merged.obs['dataset']=='dredFISH'].obsm['harmony']\n",
    "print(Xcell_adj.shape, Ycell_adj.shape)\n",
    "\n",
    "dfembed = get_umap(Xcell_adj, Ycell_adj, \n",
    "                   ref_data.obs.index.values,\n",
    "                   data.obs.index.values,\n",
    "                   'scRNA-seq', 'dredFISH',\n",
    "                   metric='correlation',\n",
    "                   verbose=True,\n",
    "                 )\n",
    "output2_csv = f'{res_dir}Joint_UMAP_harmony_correlation_April14.csv'\n",
    "print(output2_csv)\n",
    "dfembed.to_csv(output2_csv, index=True, header=True)\n",
    "dfembed"
   ]
  },
  {
   "cell_type": "code",
   "execution_count": null,
   "id": "f059f056-7d03-45fb-a70b-ab37279deb25",
   "metadata": {},
   "outputs": [],
   "source": [
    "dfembed"
   ]
  },
  {
   "cell_type": "code",
   "execution_count": null,
   "id": "affda281-56d1-4a19-b7d2-6082f186c1cc",
   "metadata": {},
   "outputs": [],
   "source": [
    "fig, ax = plt.subplots(figsize=(8,6))\n",
    "sns.scatterplot(data=dfembed.sample(frac=1), \n",
    "                x='embed_1', y='embed_2', hue='dataset',\n",
    "                s=1, \n",
    "                edgecolor=\"none\",\n",
    "               )\n",
    "ax.axis('off')\n",
    "ax.set_aspect('equal')\n",
    "plt.show()"
   ]
  },
  {
   "cell_type": "code",
   "execution_count": null,
   "id": "806245e4-2776-4562-9027-8802cbdb4577",
   "metadata": {},
   "outputs": [],
   "source": []
  },
  {
   "cell_type": "code",
   "execution_count": null,
   "id": "e1f0b11e-6f73-4a54-84cb-cea5f85a7582",
   "metadata": {},
   "outputs": [],
   "source": []
  }
 ],
 "metadata": {
  "kernelspec": {
   "display_name": "Python 3 (ipykernel)",
   "language": "python",
   "name": "python3"
  },
  "language_info": {
   "codemirror_mode": {
    "name": "ipython",
    "version": 3
   },
   "file_extension": ".py",
   "mimetype": "text/x-python",
   "name": "python",
   "nbconvert_exporter": "python",
   "pygments_lexer": "ipython3",
   "version": "3.9.12"
  }
 },
 "nbformat": 4,
 "nbformat_minor": 5
}
