{
 "cells": [
  {
   "cell_type": "code",
   "execution_count": 1,
   "id": "1d35953c-121a-4bb4-82bb-a2f6fd1d4156",
   "metadata": {},
   "outputs": [
    {
     "name": "stderr",
     "output_type": "stream",
     "text": [
      "INFO:pytorch_lightning.utilities.seed:Global seed set to 0\n"
     ]
    }
   ],
   "source": [
    "import scanpy as sc\n",
    "import anndata\n",
    "import logging\n",
    "import os\n",
    "import numpy as np\n",
    "import pandas as pd\n",
    "import json\n",
    "# import scanpy.external as sce\n",
    "logging.basicConfig(level=logging.INFO)\n",
    "import scvi\n",
    "import torch\n",
    "\n",
    "from sklearn.neighbors import KNeighborsClassifier\n",
    "from sklearn.neural_network import MLPClassifier\n",
    "from sklearn.model_selection import train_test_split\n",
    "from sklearn.metrics import classification_report\n",
    "\n",
    "import matplotlib.pyplot as plt\n",
    "import seaborn as sns\n",
    "import umap\n",
    "\n",
    "# from PySpots.fish_helpers import *\n",
    "from dredFISH.Analysis import basicu\n",
    "from dredFISH.Analysis import regu \n",
    "from dredFISH.Analysis import celltypeu\n",
    "from dredFISH.Analysis import TissueGraph_basics as tgh\n",
    "# from dredFISH.Analysis import powerplots\n",
    "\n",
    "import importlib\n",
    "importlib.reload(tgh)\n",
    "importlib.reload(celltypeu)\n",
    "importlib.reload(basicu)\n",
    "sc.set_figure_params(figsize=(7, 7))"
   ]
  },
  {
   "cell_type": "code",
   "execution_count": 2,
   "id": "bb1c1b61-7d41-4dfd-b0d8-1a8fb20b7b10",
   "metadata": {},
   "outputs": [
    {
     "name": "stderr",
     "output_type": "stream",
     "text": [
      "INFO:root:hi\n"
     ]
    }
   ],
   "source": [
    "logging.info('hi')"
   ]
  },
  {
   "cell_type": "markdown",
   "id": "48af8f0a-6582-418d-a85a-45875be5c27c",
   "metadata": {},
   "source": [
    "# file paths and load data"
   ]
  },
  {
   "cell_type": "code",
   "execution_count": 3,
   "id": "d2ce3b27-70bf-474e-8114-70403223c3df",
   "metadata": {},
   "outputs": [],
   "source": [
    "prj_dir = '/bigstore/GeneralStorage/fangming/projects/dredfish/'\n",
    "dat_dir = prj_dir + 'data/'\n",
    "res_dir = prj_dir + 'data_dump/'\n",
    "\n",
    "# allen data\n",
    "# scrna_path = '/bigstore/GeneralStorage/fangming/projects/dredfish/data/rna/scrna_ss_ctxhippo_a_exon_DPNMF_matrix.h5ad'\n",
    "scrna_path = '/bigstore/GeneralStorage/fangming/projects/dredfish/data/rna/scrna_ss_ctxhippo_a_exon_DPNMF_genes_matrix.h5ad'\n",
    "\n",
    "# analysis metadata\n",
    "meta_path = '/bigstore/GeneralStorage/fangming/projects/dredfish/data_dump/analysis_meta_Mar31.json'"
   ]
  },
  {
   "cell_type": "code",
   "execution_count": 4,
   "id": "e3ddd1fb-7e73-462d-9501-1ef999f910f1",
   "metadata": {},
   "outputs": [
    {
     "name": "stdout",
     "output_type": "stream",
     "text": [
      "CPU times: user 484 ms, sys: 2.77 s, total: 3.26 s\n",
      "Wall time: 3.27 s\n"
     ]
    },
    {
     "data": {
      "text/plain": [
       "AnnData object with n_obs × n_vars = 73347 × 5576\n",
       "    obs: 'donor_sex_id', 'donor_sex_label', 'donor_sex_color', 'region_id', 'region_label', 'region_color', 'platform_label', 'cluster_order', 'cluster_label', 'cluster_color', 'subclass_order', 'subclass_label', 'subclass_color', 'neighborhood_id', 'neighborhood_label', 'neighborhood_color', 'class_order', 'class_label', 'class_color', 'exp_component_name', 'external_donor_name_label', 'full_genotype_label', 'facs_population_plan_label', 'injection_roi_label', 'injection_materials_label', 'injection_method_label', 'injection_type_label', 'full_genotype_id', 'full_genotype_color', 'external_donor_name_id', 'external_donor_name_color', 'facs_population_plan_id', 'facs_population_plan_color', 'injection_materials_id', 'injection_materials_color', 'injection_method_id', 'injection_method_color', 'injection_roi_id', 'injection_roi_color', 'injection_type_id', 'injection_type_color', 'cell_type_accession_label', 'cell_type_alias_label', 'cell_type_alt_alias_label', 'cell_type_designation_label', 'cell_type_designation_id', 'cell_type_alt_alias_id', 'cell_type_alias_id', 'cell_type_accession_id', 'cell_type_designation_color', 'cell_type_alt_alias_color', 'cell_type_alias_color', 'cell_type_accession_color', 'cortical_layer_label', 'cortical_layer_order', 'cortical_layer_color', 'Lim1', 'Lim2'"
      ]
     },
     "execution_count": 4,
     "metadata": {},
     "output_type": "execute_result"
    }
   ],
   "source": [
    "%%time\n",
    "\n",
    "# allen scrna matrix\n",
    "ref_data = anndata.read_h5ad(scrna_path)\n",
    "\n",
    "# analysis\n",
    "with open(meta_path, 'r') as fh:\n",
    "    meta = json.load(fh)\n",
    "ref_data"
   ]
  },
  {
   "cell_type": "code",
   "execution_count": 5,
   "id": "a2f206a3-3962-440d-a9c7-64424bc6c06f",
   "metadata": {},
   "outputs": [
    {
     "data": {
      "text/plain": [
       "AnnData object with n_obs × n_vars = 73347 × 5576\n",
       "    obs: 'donor_sex_id', 'donor_sex_label', 'donor_sex_color', 'region_id', 'region_label', 'region_color', 'platform_label', 'cluster_order', 'Level_5_cluster_label', 'cluster_color', 'subclass_order', 'Level_3_subclass_label', 'subclass_color', 'neighborhood_id', 'Level_2_neighborhood_label', 'neighborhood_color', 'class_order', 'Level_1_class_label', 'class_color', 'exp_component_name', 'external_donor_name_label', 'full_genotype_label', 'facs_population_plan_label', 'injection_roi_label', 'injection_materials_label', 'injection_method_label', 'injection_type_label', 'full_genotype_id', 'full_genotype_color', 'external_donor_name_id', 'external_donor_name_color', 'facs_population_plan_id', 'facs_population_plan_color', 'injection_materials_id', 'injection_materials_color', 'injection_method_id', 'injection_method_color', 'injection_roi_id', 'injection_roi_color', 'injection_type_id', 'injection_type_color', 'cell_type_accession_label', 'cell_type_alias_label', 'cell_type_alt_alias_label', 'cell_type_designation_label', 'cell_type_designation_id', 'cell_type_alt_alias_id', 'cell_type_alias_id', 'cell_type_accession_id', 'cell_type_designation_color', 'cell_type_alt_alias_color', 'cell_type_alias_color', 'cell_type_accession_color', 'cortical_layer_label', 'cortical_layer_order', 'cortical_layer_color', 'Lim1', 'Lim2'"
      ]
     },
     "execution_count": 5,
     "metadata": {},
     "output_type": "execute_result"
    }
   ],
   "source": [
    "ref_data.obs = ref_data.obs.rename({\n",
    "                                    'class_label': 'Level_1_class_label',\n",
    "                                    'neighborhood_label': 'Level_2_neighborhood_label',\n",
    "                                    'subclass_label': 'Level_3_subclass_label',\n",
    "                                    'cluster_label': 'Level_5_cluster_label',\n",
    "                                    }, axis=1)\n",
    "ref_data"
   ]
  },
  {
   "cell_type": "code",
   "execution_count": 6,
   "id": "fb1aca63-34cf-48c4-a3a3-4939b22a1a5b",
   "metadata": {},
   "outputs": [],
   "source": [
    "def get_umap(Xcell, Ycell, \n",
    "             Xidx, Yidx, \n",
    "             Xname, Yname,\n",
    "             **kwargs):\n",
    "    \"\"\"\n",
    "    \"\"\"\n",
    "    # run UMAP\n",
    "    embed = umap.UMAP(**kwargs).fit_transform(\n",
    "        np.vstack([Xcell, Ycell])\n",
    "        )\n",
    "\n",
    "    dfembed = pd.DataFrame(index=np.hstack([Xidx, Yidx])) \n",
    "    dfembed['dataset'] = [Xname]*len(Xidx) + [Yname]*len(Yidx) \n",
    "    dfembed['embed_1'] = embed[:,0]\n",
    "    dfembed['embed_2'] = embed[:,1]\n",
    "    \n",
    "    return dfembed "
   ]
  },
  {
   "cell_type": "code",
   "execution_count": 7,
   "id": "a0b63a68-ff73-4abc-9e2b-c9232b93954b",
   "metadata": {},
   "outputs": [
    {
     "data": {
      "text/plain": [
       "AnnData object with n_obs × n_vars = 73347 × 5576\n",
       "    obs: 'donor_sex_id', 'donor_sex_label', 'donor_sex_color', 'region_id', 'region_label', 'region_color', 'platform_label', 'cluster_order', 'Level_5_cluster_label', 'cluster_color', 'subclass_order', 'Level_3_subclass_label', 'subclass_color', 'neighborhood_id', 'Level_2_neighborhood_label', 'neighborhood_color', 'class_order', 'Level_1_class_label', 'class_color', 'exp_component_name', 'external_donor_name_label', 'full_genotype_label', 'facs_population_plan_label', 'injection_roi_label', 'injection_materials_label', 'injection_method_label', 'injection_type_label', 'full_genotype_id', 'full_genotype_color', 'external_donor_name_id', 'external_donor_name_color', 'facs_population_plan_id', 'facs_population_plan_color', 'injection_materials_id', 'injection_materials_color', 'injection_method_id', 'injection_method_color', 'injection_roi_id', 'injection_roi_color', 'injection_type_id', 'injection_type_color', 'cell_type_accession_label', 'cell_type_alias_label', 'cell_type_alt_alias_label', 'cell_type_designation_label', 'cell_type_designation_id', 'cell_type_alt_alias_id', 'cell_type_alias_id', 'cell_type_accession_id', 'cell_type_designation_color', 'cell_type_alt_alias_color', 'cell_type_alias_color', 'cell_type_accession_color', 'cortical_layer_label', 'cortical_layer_order', 'cortical_layer_color', 'Lim1', 'Lim2'"
      ]
     },
     "execution_count": 7,
     "metadata": {},
     "output_type": "execute_result"
    }
   ],
   "source": [
    "adata = ref_data.copy()\n",
    "X = adata.X.todense().astype(int) # within the support of Poisson\n",
    "adata.X = X \n",
    "adata"
   ]
  },
  {
   "cell_type": "code",
   "execution_count": 8,
   "id": "2279d4c6-62d6-4448-8ac0-a58faf7fe56e",
   "metadata": {},
   "outputs": [
    {
     "name": "stderr",
     "output_type": "stream",
     "text": [
      "INFO:absl:Unable to initialize backend 'tpu_driver': NOT_FOUND: Unable to find driver in registry given worker: \n",
      "INFO:absl:Unable to initialize backend 'gpu': NOT_FOUND: Could not find registered platform with name: \"cuda\". Available platform names are: Interpreter Host\n",
      "INFO:absl:Unable to initialize backend 'tpu': INVALID_ARGUMENT: TpuPlatform is not available.\n"
     ]
    },
    {
     "data": {
      "text/html": [
       "<pre style=\"white-space:pre;overflow-x:auto;line-height:normal;font-family:Menlo,'DejaVu Sans Mono',consolas,'Courier New',monospace\">SCVI Model with the following params: \n",
       "n_hidden: <span style=\"color: #008080; text-decoration-color: #008080; font-weight: bold\">128</span>, n_latent: <span style=\"color: #008080; text-decoration-color: #008080; font-weight: bold\">10</span>, n_layers: <span style=\"color: #008080; text-decoration-color: #008080; font-weight: bold\">2</span>, dropout_rate: <span style=\"color: #008080; text-decoration-color: #008080; font-weight: bold\">0.1</span>, dispersion: gene, \n",
       "gene_likelihood: poisson, latent_distribution: normal\n",
       "Training status: Not Trained\n",
       "</pre>\n"
      ],
      "text/plain": [
       "SCVI Model with the following params: \n",
       "n_hidden: \u001b[1;36m128\u001b[0m, n_latent: \u001b[1;36m10\u001b[0m, n_layers: \u001b[1;36m2\u001b[0m, dropout_rate: \u001b[1;36m0.1\u001b[0m, dispersion: gene, \n",
       "gene_likelihood: poisson, latent_distribution: normal\n",
       "Training status: Not Trained\n"
      ]
     },
     "metadata": {},
     "output_type": "display_data"
    },
    {
     "data": {
      "text/plain": []
     },
     "execution_count": 8,
     "metadata": {},
     "output_type": "execute_result"
    }
   ],
   "source": [
    "scvi.model.SCVI.setup_anndata(adata, layer=None, batch_key=None)\n",
    "vae = scvi.model.SCVI(adata, n_layers=2, n_latent=10, gene_likelihood=\"poisson\")\n",
    "vae"
   ]
  },
  {
   "cell_type": "code",
   "execution_count": 9,
   "id": "fda00b91-c4a9-4eb2-acde-ae4829e6ed41",
   "metadata": {},
   "outputs": [
    {
     "name": "stderr",
     "output_type": "stream",
     "text": [
      "INFO:torch.distributed.nn.jit.instantiator:Created a temporary directory at /tmp/tmpd8elt4g6\n",
      "INFO:torch.distributed.nn.jit.instantiator:Writing /tmp/tmpd8elt4g6/_remote_module_non_sriptable.py\n",
      "/home/fangming/anaconda3/envs/scvi_v3p9/lib/python3.9/site-packages/torch/cuda/__init__.py:82: UserWarning:\n",
      "\n",
      "CUDA initialization: Unexpected error from cudaGetDeviceCount(). Did you run some cuda functions before calling NumCudaDevices() that might have already set an error? Error 803: system has unsupported display driver / cuda driver combination (Triggered internally at  /opt/conda/conda-bld/pytorch_1646755849709/work/c10/cuda/CUDAFunctions.cpp:112.)\n",
      "\n",
      "INFO:pytorch_lightning.utilities.distributed:GPU available: False, used: False\n",
      "INFO:pytorch_lightning.utilities.distributed:TPU available: False, using: 0 TPU cores\n",
      "INFO:pytorch_lightning.utilities.distributed:IPU available: False, using: 0 IPUs\n"
     ]
    },
    {
     "name": "stdout",
     "output_type": "stream",
     "text": [
      "Epoch 109/109: 100%|██████████| 109/109 [1:28:26<00:00, 48.69s/it, loss=9.22e+04, v_num=1]\n"
     ]
    }
   ],
   "source": [
    "# vae.train(max_epochs=3)\n",
    "vae.train()"
   ]
  },
  {
   "cell_type": "code",
   "execution_count": 10,
   "id": "ed2ba19f-4436-478d-9896-8e6456ed8418",
   "metadata": {},
   "outputs": [],
   "source": [
    "z = vae.get_latent_representation()\n",
    "rho_scvi = vae.get_normalized_expression() # fraction of gene expression for each cell (sums to 1)\n",
    "Xhat = vae.posterior_predictive_sample()"
   ]
  },
  {
   "cell_type": "code",
   "execution_count": 11,
   "id": "7afa0871-bd8f-4743-b300-646287fa7fa6",
   "metadata": {},
   "outputs": [],
   "source": [
    "def get_mse(y_true, y_pred):\n",
    "    \"\"\"\n",
    "    \"\"\"\n",
    "    mse = np.power(y_true-y_pred, 2).mean()\n",
    "    return mse\n",
    "\n",
    "def get_r2(y_true, y_pred):\n",
    "    \"\"\"\n",
    "    \"\"\"\n",
    "    # r2 = 1-(np.power(y_true-y_pred, 2).mean()/np.power(y_true-np.mean(y_true, axis=0), 2).mean())\n",
    "    r2 = 1 - np.linalg.norm(y_true-y_pred)**2/np.linalg.norm(y_true-np.mean(y_true, axis=0))**2\n",
    "    return r2"
   ]
  },
  {
   "cell_type": "code",
   "execution_count": 12,
   "id": "281c4c93-c851-4c65-908b-f3aaeab28b15",
   "metadata": {},
   "outputs": [],
   "source": [
    "Xn = np.log10(X+1)\n",
    "Xhatn = np.log10(Xhat+1)"
   ]
  },
  {
   "cell_type": "code",
   "execution_count": 13,
   "id": "6148c0b0-1660-42c9-8b26-51a25abac56d",
   "metadata": {},
   "outputs": [
    {
     "data": {
      "text/plain": [
       "(-0.07345723245886493, 0.41912773934075853)"
      ]
     },
     "execution_count": 13,
     "metadata": {},
     "output_type": "execute_result"
    }
   ],
   "source": [
    "# this used all data; we need to split to train vs test to make it fair\n",
    "mse = get_mse(Xn, Xhatn) \n",
    "r2 = get_r2(Xn, Xhatn)\n",
    "r2, mse"
   ]
  },
  {
   "cell_type": "code",
   "execution_count": 17,
   "id": "6d76658e-eef1-4e69-b48f-357ce936a4ce",
   "metadata": {},
   "outputs": [],
   "source": [
    "# save\n",
    "output_model_dir = '/bigstore/GeneralStorage/fangming/projects/dredfish/data/rna/scvi_model_fulldata_April21'\n",
    "prefix = ''\n",
    "vae.save(output_model_dir, prefix, overwrite=False, save_anndata=False)"
   ]
  },
  {
   "cell_type": "code",
   "execution_count": 18,
   "id": "a502e177-6068-4403-be7d-cfc9783b2477",
   "metadata": {},
   "outputs": [
    {
     "name": "stdout",
     "output_type": "stream",
     "text": [
      "\u001b[34mINFO    \u001b[0m File \u001b[35m/bigstore/GeneralStorage/fangming/projects/dredfish/data/rna/scvi_model_fulldat\u001b[0m\n",
      "         \u001b[35ma_April21/\u001b[0m\u001b[95mmodel.pt\u001b[0m already downloaded                                               \n"
     ]
    },
    {
     "data": {
      "text/html": [
       "<pre style=\"white-space:pre;overflow-x:auto;line-height:normal;font-family:Menlo,'DejaVu Sans Mono',consolas,'Courier New',monospace\">SCVI Model with the following params: \n",
       "n_hidden: <span style=\"color: #008080; text-decoration-color: #008080; font-weight: bold\">128</span>, n_latent: <span style=\"color: #008080; text-decoration-color: #008080; font-weight: bold\">10</span>, n_layers: <span style=\"color: #008080; text-decoration-color: #008080; font-weight: bold\">2</span>, dropout_rate: <span style=\"color: #008080; text-decoration-color: #008080; font-weight: bold\">0.1</span>, dispersion: gene, \n",
       "gene_likelihood: poisson, latent_distribution: normal\n",
       "Training status: Trained\n",
       "</pre>\n"
      ],
      "text/plain": [
       "SCVI Model with the following params: \n",
       "n_hidden: \u001b[1;36m128\u001b[0m, n_latent: \u001b[1;36m10\u001b[0m, n_layers: \u001b[1;36m2\u001b[0m, dropout_rate: \u001b[1;36m0.1\u001b[0m, dispersion: gene, \n",
       "gene_likelihood: poisson, latent_distribution: normal\n",
       "Training status: Trained\n"
      ]
     },
     "metadata": {},
     "output_type": "display_data"
    },
    {
     "data": {
      "text/plain": []
     },
     "execution_count": 18,
     "metadata": {},
     "output_type": "execute_result"
    }
   ],
   "source": [
    "# test reload\n",
    "vae2 = scvi.model.SCVI.load(dir_path=output_model_dir, prefix=prefix, adata=adata)\n",
    "vae2"
   ]
  },
  {
   "cell_type": "code",
   "execution_count": null,
   "id": "ddb6a74b-af89-4e2b-b5e2-b01b66c99615",
   "metadata": {},
   "outputs": [],
   "source": []
  }
 ],
 "metadata": {
  "kernelspec": {
   "display_name": "Python 3 (ipykernel)",
   "language": "python",
   "name": "python3"
  },
  "language_info": {
   "codemirror_mode": {
    "name": "ipython",
    "version": 3
   },
   "file_extension": ".py",
   "mimetype": "text/x-python",
   "name": "python",
   "nbconvert_exporter": "python",
   "pygments_lexer": "ipython3",
   "version": "3.9.12"
  }
 },
 "nbformat": 4,
 "nbformat_minor": 5
}
