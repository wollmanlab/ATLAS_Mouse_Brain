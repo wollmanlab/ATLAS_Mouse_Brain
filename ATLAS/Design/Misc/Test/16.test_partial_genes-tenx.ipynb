{
 "cells": [
  {
   "cell_type": "code",
   "execution_count": 1,
   "id": "4fb35650-0d6e-4bfd-a796-cccff97d5f61",
   "metadata": {},
   "outputs": [],
   "source": [
    "import numpy as np\n",
    "import pandas as pd\n",
    "import torch\n",
    "import os\n",
    "import zarr\n",
    "import anndata\n",
    "import h5py\n",
    "\n",
    "from dredFISH.Analysis import basicu"
   ]
  },
  {
   "cell_type": "code",
   "execution_count": 2,
   "id": "f88b051f-4389-4789-9715-27c9818e1662",
   "metadata": {},
   "outputs": [
    {
     "data": {
      "text/plain": [
       "(array(['Stmn3', 'Neurod6', 'Bex2', 'Lhx6', 'Dlx1', 'Tmem59l', 'Neurod2',\n",
       "        'Satb2', 'Ptk2b', 'Rab3a', 'Uchl1', 'Gng3', 'Dnm1', 'Fezf2',\n",
       "        'Dlx5', 'Lingo1', 'Nfix', 'Zfp36l1', 'Fxyd7', 'Scg5', 'Nxph3',\n",
       "        'Crym', 'Arx', 'Eno2', 'Nxph4', 'Ifitm3', 'Fcrls', 'Zcchc12',\n",
       "        'Rab3b', 'Acot7', 'Cpne4', 'Kcnv1', 'Prkar1b', 'Atp1a1', 'Cox6a2',\n",
       "        'Slc30a3', 'Igfbp6', 'Tagln3', 'Elmod1', 'Pnoc', 'Nsg1', 'Mllt11',\n",
       "        'Chgb', 'Atp2b4', 'Btbd11', 'Arpp19', 'Ttc9b', 'Sez6', 'Hs3st2',\n",
       "        'Nefl', 'Snap47', 'Hprt', 'Tesc', 'Pglyrp1', 'Atp6v1b2', 'Tac2',\n",
       "        'Cd63', 'Hsp90aa1', 'Syn1', 'Gli3', 'Adora1', 'Lgals1', 'Got1',\n",
       "        'Arhgap25', 'Serp2', 'Syt5', 'Sox17', 'Stx1a', 'Nr2f2', 'Dkkl1',\n",
       "        'Hpcal4', 'Prkcg', 'Rasgef1b', 'Dkk3', 'Cckbr', 'Bex1', 'Ngef',\n",
       "        'Tceal3', 'Tspan13', 'Kcnip3', 'Dusp14', 'Fstl4', 'S100a16', 'Cfh',\n",
       "        'Osbpl1a', 'Anxa3', 'Itpr1', 'Krt12', 'Pdzrn3', 'Gabrg2', 'Olfm2',\n",
       "        'Atp6v1c1', 'Pamr1', 'Atp5b', 'Igsf21', 'Kctd4', 'Pgam1', 'Vcam1',\n",
       "        'Rbfox3', 'Tubb2a', 'Eno1', 'Atp6v0e2', 'Tyro3', 'Atp5g3', 'Stmn4',\n",
       "        'Tuba4a', 'Cend1', 'Phyhip', 'Syngr3', 'Fam131a', 'Pacsin1', 'Ak5',\n",
       "        'Fkbp3', 'Kcnmb4', 'Afap1', 'Fyb', 'Ccl27a', 'Ppp1r14a', 'Galnt9',\n",
       "        'Ppp1r1b', 'Camk4', 'Rasl11b', 'Txnip', 'Pebp1', 'Slc38a3',\n",
       "        'Rasgrp2', 'Dlx2', '1500011B03Rik', 'Nefm', 'Atp6v1e1', 'Myl4',\n",
       "        'Mfge8', 'Scube1', 'Bcl11a', 'Slc26a4', 'Slfn5', 'Atp6v1d', 'Rbp4',\n",
       "        'Tpi1', 'Ensa'], dtype=object),\n",
       " (140,))"
      ]
     },
     "execution_count": 2,
     "metadata": {},
     "output_type": "execute_result"
    }
   ],
   "source": [
    "f = '/bigstore/GeneralStorage/fangming/projects/dredfish/data/rna/top_recon_genes_dpnmf_nn_n140.csv'\n",
    "genesp = pd.read_csv(f, header=None)[0].values\n",
    "genesp, genesp.shape"
   ]
  },
  {
   "cell_type": "code",
   "execution_count": 3,
   "id": "cac7f534-82f2-4c33-98b8-f253baa99610",
   "metadata": {},
   "outputs": [
    {
     "name": "stdout",
     "output_type": "stream",
     "text": [
      "/bigstore/GeneralStorage/fangming/projects/dredfish/data/rna/scrna_10x_ctxhippo_a_exon_count_matrix_v2.zarr\n",
      "<zarr.hierarchy.Group '/' read-only> ['counts', 'l1_cat', 'l1_code', 'l2_cat', 'l2_code', 'l3_cat', 'l3_code', 'l5_cat', 'l5_code', 'num_probe_limit']\n",
      "(1169213, 31053)\n",
      "(31053,)\n"
     ]
    },
    {
     "data": {
      "text/plain": [
       "array(['Xkr4', 'Gm1992', 'Gm37381', ..., 'CAAA01118383.1', 'Vmn2r122',\n",
       "       'CAAA01147332.1'], dtype='<U29')"
      ]
     },
     "execution_count": 3,
     "metadata": {},
     "output_type": "execute_result"
    }
   ],
   "source": [
    "dat_dir = '/bigstore/GeneralStorage/fangming/projects/dredfish/data/'\n",
    "zarr_file = os.path.join(dat_dir, 'rna', 'scrna_10x_ctxhippo_a_exon_count_matrix_v2.zarr')\n",
    "f = '/bigstore/binfo/mouse/Brain/Sequencing/Allen_10X_CtxHippo/source/expression_matrix.hdf5'\n",
    "print(zarr_file)\n",
    "\n",
    "z1 = zarr.open(zarr_file, mode='r') \n",
    "print(z1, list(z1.keys()))\n",
    "print(z1['counts'].shape)\n",
    "\n",
    "\n",
    "with h5py.File(f, 'r') as fh:\n",
    "    # genes\n",
    "    genes = fh['data']['gene'][()]\n",
    "    genes = np.array([gene.decode() for gene in genes])\n",
    "    print(genes.shape)\n",
    "\n",
    "# get NN genes\n",
    "nn_genes = genes\n",
    "nn_genes"
   ]
  },
  {
   "cell_type": "code",
   "execution_count": 4,
   "id": "6e05a61f-7c5d-40e4-ad32-127b84fe03ff",
   "metadata": {},
   "outputs": [
    {
     "data": {
      "text/plain": [
       "(tensor([ 4078, 10691,  4948,  2219,  2448, 16721, 22191,   352, 18710, 16739,\n",
       "          8890, 30364,  2142, 17678, 10178, 19806, 16927, 24812, 12703,  3061,\n",
       "         22102, 13980,  4696, 11557, 15874, 14354,  5698,  4335,  7423,  8237,\n",
       "         20375, 25779,  9920,  6093, 14166,  8608, 26561, 27180, 19766, 18697,\n",
       "          8738,  5956,  3373,  1045, 15449, 20067, 12538, 21815, 14001, 18734,\n",
       "         21379,  4460,  9520, 12235, 16676, 15883, 15948, 25201,  4251, 22917,\n",
       "          1056, 26100, 30773, 11172, 18845, 11962,     4,  9789, 13202, 12969,\n",
       "          7633, 11916,  9184, 13891, 13749,  4953,   698,  4959, 24488,  3262,\n",
       "         21950, 21244,  5828,  1141, 29599,  9160, 11337, 22235, 11317, 21080,\n",
       "         19203, 25738,  2927, 15899,  8001, 18838, 30748,  6268, 22710, 23219,\n",
       "          8210, 10576,  3141,  2484, 18713,   557, 14377, 18778, 27848, 26901,\n",
       "         27973,  6585, 24649, 15715,  8709, 25546,  6841, 12612,  9363, 22192,\n",
       "         29690,  8949,  6022,  9509, 20454, 30304,  2449,  9448, 18733, 11482,\n",
       "         22452, 13269, 26239, 20970, 24450, 21917, 24795, 30698, 11560,  5973]),\n",
       " torch.Size([140]))"
      ]
     },
     "execution_count": 4,
     "metadata": {},
     "output_type": "execute_result"
    }
   ],
   "source": [
    "# sub select the nn_genes\n",
    "selected_genes_idx = basicu.get_index_from_array(nn_genes, genesp)\n",
    "fout = os.path.join(dat_dir, 'rna', 'gidx_sub140_tenx_v1.pt')\n",
    "torch.save(torch.tensor(selected_genes_idx, dtype=int), fout)\n",
    "\n",
    "gsub_idx = torch.load(fout)\n",
    "gsub_idx, gsub_idx.shape"
   ]
  },
  {
   "cell_type": "code",
   "execution_count": null,
   "id": "13718a9f-2380-4c8c-85c7-77613ecdc5ce",
   "metadata": {},
   "outputs": [],
   "source": []
  }
 ],
 "metadata": {
  "kernelspec": {
   "display_name": "Python 3 (ipykernel)",
   "language": "python",
   "name": "python3"
  },
  "language_info": {
   "codemirror_mode": {
    "name": "ipython",
    "version": 3
   },
   "file_extension": ".py",
   "mimetype": "text/x-python",
   "name": "python",
   "nbconvert_exporter": "python",
   "pygments_lexer": "ipython3",
   "version": "3.9.12"
  }
 },
 "nbformat": 4,
 "nbformat_minor": 5
}
