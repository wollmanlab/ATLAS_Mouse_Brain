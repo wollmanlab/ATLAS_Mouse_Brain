{
 "cells": [
  {
   "cell_type": "code",
   "execution_count": 1,
   "id": "d0087b2e-2bf9-44e0-b878-9093e98d4c05",
   "metadata": {},
   "outputs": [],
   "source": [
    "import json\n",
    "import sys\n",
    "import os\n",
    "import numpy as np\n",
    "import skimage\n",
    "from scipy import ndimage\n",
    "from scipy import special\n",
    "from scipy import sparse\n",
    "import anndata\n",
    "import nibabel as nib\n",
    "import pandas as pd\n",
    "import datashader as ds\n",
    "import time\n",
    "from sklearn.decomposition import PCA\n",
    "import collections\n",
    "import pickle as pkl\n",
    "import zarr\n",
    "import h5py\n",
    "import anndata as ad\n",
    "\n",
    "import ants\n",
    "import nibabel as nib\n",
    "\n",
    "from dredFISH.Analysis.__init__plots import *\n",
    "sns.set_style('white')\n",
    "\n",
    "from dredFISH.Analysis import basicu\n",
    "\n",
    "sys.path.insert(0, '/home/fangming/projects/dredfish/packages/PySpots')\n",
    "from MERFISH_Objects.FISHData import *"
   ]
  },
  {
   "cell_type": "markdown",
   "id": "ed2db464-bb94-4bdd-8bc6-39c7148eaf9b",
   "metadata": {},
   "source": [
    "# Load data"
   ]
  },
  {
   "cell_type": "code",
   "execution_count": 2,
   "id": "a865e806-b3bf-4bbf-bc75-749d11e41ad0",
   "metadata": {},
   "outputs": [],
   "source": [
    "prj_dir = '/bigstore/GeneralStorage/fangming/projects/neural_net/'\n",
    "dat_dir = prj_dir + 'data_dump/'\n",
    "# res_dir = prj_dir + 'data_dump/'"
   ]
  },
  {
   "cell_type": "code",
   "execution_count": 3,
   "id": "6d5922ff-a6cc-4a7b-a15a-19467da9455e",
   "metadata": {},
   "outputs": [
    {
     "name": "stdout",
     "output_type": "stream",
     "text": [
      "(73347, 45768)\n"
     ]
    },
    {
     "data": {
      "text/plain": [
       "(10861, 24)"
      ]
     },
     "execution_count": 3,
     "metadata": {},
     "output_type": "execute_result"
    }
   ],
   "source": [
    "# allen matrix\n",
    "f = f'/bigstore/GeneralStorage/fangming/projects/dredfish/data/rna/scrna_ss_ctxhippo_a_exon_count_matrix_v2.h5ad'\n",
    "scrna = ad.read_h5ad(f)\n",
    "print(scrna.shape)\n",
    "\n",
    "# # DPNMF matrix \n",
    "# f = f'{dat_dir}dpnmf.csv' \n",
    "# pmat = pd.read_csv(f, index_col=0)\n",
    "# print(pmat.shape)\n",
    "\n",
    "# genes\n",
    "f = '/bigstore/binfo/mouse/Brain/DRedFISH/Allen_V3_Reference' + '/10X/genes.npy' \n",
    "tenx_genes = np.load(f)\n",
    "f = '/bigstore/binfo/mouse/Brain/DRedFISH/Allen_V3_Reference' + '/SmartSeq/genes.npy' \n",
    "smrt_genes = np.load(f)\n",
    "np.all(tenx_genes == smrt_genes)\n",
    "genes = tenx_genes\n",
    "\n",
    "f = '/bigstore/GeneralStorage/fangming/projects/neural_net/scripts/results/embmat=max-half_nrml-90000.0-1.27E+05-24-0-2.60E-09-0.01-1.0.json'\n",
    "with open(f, 'r') as fh:\n",
    "    embmat = np.array(json.load(fh))\n",
    "    pmat = pd.DataFrame(embmat, index=genes)\n",
    "    \n",
    "pmat.shape"
   ]
  },
  {
   "cell_type": "code",
   "execution_count": 17,
   "id": "40075793-5713-4fdb-a6c7-f0573bcae6f8",
   "metadata": {},
   "outputs": [],
   "source": [
    "# analysis metadata\n",
    "meta_path = '/bigstore/GeneralStorage/fangming/projects/dredfish/data_dump/analysis_meta_Mar31.json'\n",
    "# analysis\n",
    "with open(meta_path, 'r') as fh:\n",
    "    meta = json.load(fh)"
   ]
  },
  {
   "cell_type": "code",
   "execution_count": 4,
   "id": "5b13d439-a1cc-41f0-bb68-abda145c5ba7",
   "metadata": {},
   "outputs": [
    {
     "name": "stdout",
     "output_type": "stream",
     "text": [
      "(2852,) (45768,) (2852,)\n"
     ]
    }
   ],
   "source": [
    "# for each allen cluster, get their DPNMF measurements\n",
    "\n",
    "# remove genes with zero counts\n",
    "pmat = pmat[pmat.sum(axis=1) > 0]\n",
    "# 5818 genes, 5576 overlap with Allen SS \n",
    "genes = np.intersect1d(pmat.index.values, scrna.var.index.values)\n",
    "genes_idx = basicu.get_index_from_array(scrna.var.index.values, genes)\n",
    "print(np.unique(pmat.index.values).shape, np.unique(scrna.var.index.values).shape, genes.shape)\n",
    "\n",
    "pmat = pmat.loc[genes]"
   ]
  },
  {
   "cell_type": "code",
   "execution_count": 5,
   "id": "b5bb62dc-9752-43dc-a622-031030659ade",
   "metadata": {},
   "outputs": [
    {
     "name": "stdout",
     "output_type": "stream",
     "text": [
      "CPU times: user 1min 29s, sys: 2min 12s, total: 3min 42s\n",
      "Wall time: 3min 43s\n"
     ]
    }
   ],
   "source": [
    "%%time\n",
    "Xcell = scrna.X\n",
    "\n",
    "# correct for library size (each cluster has the same total counts)\n",
    "Xc_norm = basicu.sparse_libsize_norm(Xcell)\n",
    "\n",
    "# projection\n",
    "Xcr_norm = Xc_norm[:,genes_idx].dot(pmat)\n",
    "\n",
    "# save as an anndata\n",
    "adata = ad.AnnData(\n",
    "    X=Xcr_norm,\n",
    "    obs=scrna.obs,\n",
    ")\n",
    "adata"
   ]
  },
  {
   "cell_type": "code",
   "execution_count": 11,
   "id": "3e31b9a1-6364-4ea9-8da7-d6d6be593c8e",
   "metadata": {},
   "outputs": [],
   "source": [
    "output = f'{dat_dir}/smrt_nn_v1_April26.h5ad'\n",
    "adata.write(output)\n",
    "!chmod 444 $output"
   ]
  },
  {
   "cell_type": "code",
   "execution_count": 12,
   "id": "9214c6fa-d2e1-4dea-afc9-548b448af784",
   "metadata": {},
   "outputs": [
    {
     "data": {
      "text/plain": [
       "AnnData object with n_obs × n_vars = 73347 × 24\n",
       "    obs: 'donor_sex_id', 'donor_sex_label', 'donor_sex_color', 'region_id', 'region_label', 'region_color', 'platform_label', 'cluster_order', 'cluster_label', 'cluster_color', 'subclass_order', 'subclass_label', 'subclass_color', 'neighborhood_id', 'neighborhood_label', 'neighborhood_color', 'class_order', 'class_label', 'class_color', 'exp_component_name', 'external_donor_name_label', 'full_genotype_label', 'facs_population_plan_label', 'injection_roi_label', 'injection_materials_label', 'injection_method_label', 'injection_type_label', 'full_genotype_id', 'full_genotype_color', 'external_donor_name_id', 'external_donor_name_color', 'facs_population_plan_id', 'facs_population_plan_color', 'injection_materials_id', 'injection_materials_color', 'injection_method_id', 'injection_method_color', 'injection_roi_id', 'injection_roi_color', 'injection_type_id', 'injection_type_color', 'cell_type_accession_label', 'cell_type_alias_label', 'cell_type_alt_alias_label', 'cell_type_designation_label', 'cell_type_designation_id', 'cell_type_alt_alias_id', 'cell_type_alias_id', 'cell_type_accession_id', 'cell_type_designation_color', 'cell_type_alt_alias_color', 'cell_type_alias_color', 'cell_type_accession_color', 'cortical_layer_label', 'cortical_layer_order', 'cortical_layer_color', 'Lim1', 'Lim2'"
      ]
     },
     "execution_count": 12,
     "metadata": {},
     "output_type": "execute_result"
    }
   ],
   "source": [
    "adata"
   ]
  }
 ],
 "metadata": {
  "kernelspec": {
   "display_name": "Python 3 (ipykernel)",
   "language": "python",
   "name": "python3"
  },
  "language_info": {
   "codemirror_mode": {
    "name": "ipython",
    "version": 3
   },
   "file_extension": ".py",
   "mimetype": "text/x-python",
   "name": "python",
   "nbconvert_exporter": "python",
   "pygments_lexer": "ipython3",
   "version": "3.10.2"
  }
 },
 "nbformat": 4,
 "nbformat_minor": 5
}
