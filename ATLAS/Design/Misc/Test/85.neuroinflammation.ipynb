{
 "cells": [
  {
   "cell_type": "code",
   "execution_count": 3,
   "id": "1e835765-4712-4e7b-803d-9ce6deb5fc47",
   "metadata": {},
   "outputs": [],
   "source": [
    "import numpy as np\n",
    "import pandas as pd"
   ]
  },
  {
   "cell_type": "code",
   "execution_count": 4,
   "id": "22c6fd27-7915-4fb7-97bb-67fbd5b921df",
   "metadata": {},
   "outputs": [
    {
     "data": {
      "text/html": [
       "<div>\n",
       "<style scoped>\n",
       "    .dataframe tbody tr th:only-of-type {\n",
       "        vertical-align: middle;\n",
       "    }\n",
       "\n",
       "    .dataframe tbody tr th {\n",
       "        vertical-align: top;\n",
       "    }\n",
       "\n",
       "    .dataframe thead th {\n",
       "        text-align: right;\n",
       "    }\n",
       "</style>\n",
       "<table border=\"1\" class=\"dataframe\">\n",
       "  <thead>\n",
       "    <tr style=\"text-align: right;\">\n",
       "      <th></th>\n",
       "      <th>MGI Gene/Marker ID</th>\n",
       "      <th>Gene</th>\n",
       "    </tr>\n",
       "  </thead>\n",
       "  <tbody>\n",
       "    <tr>\n",
       "      <th>0</th>\n",
       "      <td>MGI:99677</td>\n",
       "      <td>Adcy1</td>\n",
       "    </tr>\n",
       "    <tr>\n",
       "      <th>1</th>\n",
       "      <td>MGI:1341110</td>\n",
       "      <td>Adcy8</td>\n",
       "    </tr>\n",
       "    <tr>\n",
       "      <th>2</th>\n",
       "      <td>MGI:99402</td>\n",
       "      <td>Adora2a</td>\n",
       "    </tr>\n",
       "    <tr>\n",
       "      <th>3</th>\n",
       "      <td>MGI:893592</td>\n",
       "      <td>Ager</td>\n",
       "    </tr>\n",
       "    <tr>\n",
       "      <th>4</th>\n",
       "      <td>MGI:893592</td>\n",
       "      <td>Ager</td>\n",
       "    </tr>\n",
       "    <tr>\n",
       "      <th>...</th>\n",
       "      <td>...</td>\n",
       "      <td>...</td>\n",
       "    </tr>\n",
       "    <tr>\n",
       "      <th>138</th>\n",
       "      <td>MGI:2147036</td>\n",
       "      <td>Ttbk1</td>\n",
       "    </tr>\n",
       "    <tr>\n",
       "      <th>139</th>\n",
       "      <td>MGI:1277211</td>\n",
       "      <td>Tyrobp</td>\n",
       "    </tr>\n",
       "    <tr>\n",
       "      <th>140</th>\n",
       "      <td>MGI:1277211</td>\n",
       "      <td>Tyrobp</td>\n",
       "    </tr>\n",
       "    <tr>\n",
       "      <th>141</th>\n",
       "      <td>MGI:1921622</td>\n",
       "      <td>Ulk4</td>\n",
       "    </tr>\n",
       "    <tr>\n",
       "      <th>142</th>\n",
       "      <td>MGI:2178798</td>\n",
       "      <td>Vps54</td>\n",
       "    </tr>\n",
       "  </tbody>\n",
       "</table>\n",
       "<p>143 rows × 2 columns</p>\n",
       "</div>"
      ],
      "text/plain": [
       "    MGI Gene/Marker ID     Gene\n",
       "0            MGI:99677    Adcy1\n",
       "1          MGI:1341110    Adcy8\n",
       "2            MGI:99402  Adora2a\n",
       "3           MGI:893592     Ager\n",
       "4           MGI:893592     Ager\n",
       "..                 ...      ...\n",
       "138        MGI:2147036    Ttbk1\n",
       "139        MGI:1277211   Tyrobp\n",
       "140        MGI:1277211   Tyrobp\n",
       "141        MGI:1921622     Ulk4\n",
       "142        MGI:2178798    Vps54\n",
       "\n",
       "[143 rows x 2 columns]"
      ]
     },
     "execution_count": 4,
     "metadata": {},
     "output_type": "execute_result"
    }
   ],
   "source": [
    "# GO:0150076 neuroinflammatory response \n",
    "# https://www.ebi.ac.uk/QuickGO/term/GO:0150076\n",
    "\n",
    "f = '/bigstore/GeneralStorage/fangming/projects/dredfish/res_seq/GO_term_neuroinflammation.csv'\n",
    "df = pd.read_csv(f)\n",
    "df"
   ]
  },
  {
   "cell_type": "code",
   "execution_count": 5,
   "id": "2660430d-6e06-4108-b605-fb4c4c7f6dc2",
   "metadata": {},
   "outputs": [
    {
     "data": {
      "text/plain": [
       "0        Adcy1\n",
       "1        Adcy8\n",
       "2      Adora2a\n",
       "3         Ager\n",
       "4         Ager\n",
       "        ...   \n",
       "138      Ttbk1\n",
       "139     Tyrobp\n",
       "140     Tyrobp\n",
       "141       Ulk4\n",
       "142      Vps54\n",
       "Name: Gene, Length: 143, dtype: object"
      ]
     },
     "execution_count": 5,
     "metadata": {},
     "output_type": "execute_result"
    }
   ],
   "source": [
    "df['Gene']"
   ]
  },
  {
   "cell_type": "code",
   "execution_count": null,
   "id": "57c6e386-f0f1-407c-abcc-2427f7b0ff86",
   "metadata": {},
   "outputs": [],
   "source": []
  }
 ],
 "metadata": {
  "kernelspec": {
   "display_name": "Python 3 (ipykernel)",
   "language": "python",
   "name": "python3"
  },
  "language_info": {
   "codemirror_mode": {
    "name": "ipython",
    "version": 3
   },
   "file_extension": ".py",
   "mimetype": "text/x-python",
   "name": "python",
   "nbconvert_exporter": "python",
   "pygments_lexer": "ipython3",
   "version": "3.10.2"
  }
 },
 "nbformat": 4,
 "nbformat_minor": 5
}
