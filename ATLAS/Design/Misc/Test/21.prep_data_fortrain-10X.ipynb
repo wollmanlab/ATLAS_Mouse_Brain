{
 "cells": [
  {
   "cell_type": "code",
   "execution_count": 78,
   "id": "8c0cd74c-72e7-4fb9-9a39-d64a3f7e5523",
   "metadata": {},
   "outputs": [],
   "source": [
    "import anndata\n",
    "import pandas as pd\n",
    "import numpy as np\n",
    "import scanpy as sp\n",
    "import h5py\n",
    "import zarr\n",
    "import os\n",
    "import tqdm\n",
    "import time\n",
    "\n",
    "from dredFISH.Analysis import basicu"
   ]
  },
  {
   "cell_type": "code",
   "execution_count": 79,
   "id": "394dee95-e4a2-4d2a-b0ed-c5f6f7fa5754",
   "metadata": {},
   "outputs": [
    {
     "name": "stdout",
     "output_type": "stream",
     "text": [
      "CPU times: user 2.09 s, sys: 545 ms, total: 2.64 s\n",
      "Wall time: 2.63 s\n"
     ]
    },
    {
     "data": {
      "text/plain": [
       "AnnData object with n_obs × n_vars = 1169213 × 24 backed at '/bigstore/GeneralStorage/fangming/projects/dredfish/data/rna/scrna_10x_ctxhippo_a_DPNMF_matrix.h5ad'\n",
       "    obs: 'donor_sex_id', 'donor_sex_label', 'donor_sex_color', 'region_id', 'region_label', 'region_color', 'platform_label', 'cluster_order', 'cluster_label', 'cluster_color', 'subclass_order', 'subclass_label', 'subclass_color', 'neighborhood_id', 'neighborhood_label', 'neighborhood_color', 'class_order', 'class_label', 'class_color', 'exp_component_name', 'external_donor_name_label', 'full_genotype_label', 'facs_population_plan_label', 'injection_roi_label', 'injection_materials_label', 'injection_method_label', 'injection_type_label', 'full_genotype_id', 'full_genotype_color', 'external_donor_name_id', 'external_donor_name_color', 'facs_population_plan_id', 'facs_population_plan_color', 'injection_materials_id', 'injection_materials_color', 'injection_method_id', 'injection_method_color', 'injection_roi_id', 'injection_roi_color', 'injection_type_id', 'injection_type_color', 'cell_type_accession_label', 'cell_type_alias_label', 'cell_type_alt_alias_label', 'cell_type_designation_label', 'cell_type_designation_id', 'cell_type_alt_alias_id', 'cell_type_alias_id', 'cell_type_accession_id', 'cell_type_designation_color', 'cell_type_alt_alias_color', 'cell_type_alias_color', 'cell_type_accession_color', 'cortical_layer_label', 'cortical_layer_order', 'cortical_layer_color', 'Lim1', 'Lim2'"
      ]
     },
     "execution_count": 79,
     "metadata": {},
     "output_type": "execute_result"
    }
   ],
   "source": [
    "%%time\n",
    "f = '/bigstore/GeneralStorage/fangming/projects/dredfish/data/rna/scrna_10x_ctxhippo_a_DPNMF_matrix.h5ad'\n",
    "adata = anndata.read(f, backed='r')\n",
    "adata"
   ]
  },
  {
   "cell_type": "code",
   "execution_count": 80,
   "id": "d98df8c7-f3d5-4769-9b9e-4a75001fe3df",
   "metadata": {},
   "outputs": [
    {
     "data": {
      "text/plain": [
       "array(['ACGCAGCAGACCGGAT-L8TX_180221_01_C11',\n",
       "       'CCATGTCAGCGCTTAT-L8TX_180221_01_C11',\n",
       "       'GCGCAGTAGTGTCTCA-L8TX_180712_01_H05', ...,\n",
       "       'TTTGTCATCCTCAACC-L8TX_180115_01_E08',\n",
       "       'TTTGTCATCGACAGCC-L8TX_180115_01_E08',\n",
       "       'TTTGTCATCGTGGTCG-L8TX_180115_01_E08'], dtype=object)"
      ]
     },
     "execution_count": 80,
     "metadata": {},
     "output_type": "execute_result"
    }
   ],
   "source": [
    "cells_meta = adata.obs.index.values\n",
    "cells_meta"
   ]
  },
  {
   "cell_type": "code",
   "execution_count": 81,
   "id": "ab0b5cda-6985-4bf8-93ea-4a914b94ea2e",
   "metadata": {},
   "outputs": [
    {
     "name": "stdout",
     "output_type": "stream",
     "text": [
      "<KeysViewHDF5 ['data']>\n",
      "<KeysViewHDF5 ['counts', 'gene', 'samples', 'shape']>\n",
      "(31053,)\n",
      "(1169320,)\n"
     ]
    }
   ],
   "source": [
    "f = '/bigstore/binfo/mouse/Brain/Sequencing/Allen_10X_CtxHippo/source/expression_matrix.hdf5'\n",
    "with h5py.File(f, 'r') as fh:\n",
    "    print(fh.keys())\n",
    "    print(fh['data'].keys())\n",
    "    \n",
    "    # genes\n",
    "    genes = fh['data']['gene'][()]\n",
    "    genes = np.array([gene.decode() for gene in genes])\n",
    "    print(genes.shape)\n",
    "    \n",
    "    # cells\n",
    "    cells_inmat = fh['data']['samples'][()]\n",
    "    cells_inmat = np.array([cell.decode() for cell in cells_inmat])\n",
    "    print(cells_inmat.shape)\n",
    "    \n",
    "    # counts (actual data -- be careful)"
   ]
  },
  {
   "cell_type": "code",
   "execution_count": 82,
   "id": "bd7beba6-bbac-407e-9f17-0f9465bbdde3",
   "metadata": {},
   "outputs": [
    {
     "name": "stdout",
     "output_type": "stream",
     "text": [
      "CPU times: user 889 ms, sys: 124 ms, total: 1.01 s\n",
      "Wall time: 1.01 s\n"
     ]
    },
    {
     "data": {
      "text/plain": [
       "(array([      0,       1,       2, ..., 1169317, 1169318, 1169319]),\n",
       " (1169213,))"
      ]
     },
     "execution_count": 82,
     "metadata": {},
     "output_type": "execute_result"
    }
   ],
   "source": [
    "%%time\n",
    "cellidx_in = np.sort(basicu.get_index_from_array(cells_inmat, cells_meta))\n",
    "cellidx_in, cellidx_in.shape"
   ]
  },
  {
   "cell_type": "code",
   "execution_count": 83,
   "id": "cac7c3b6-f94a-4820-8fa4-c89abb27c1f1",
   "metadata": {},
   "outputs": [
    {
     "data": {
      "text/plain": [
       "(array(['AAACCTGAGAAACGCC-L8TX_180221_01_F09',\n",
       "        'AAACCTGAGAAGGTTT-L8TX_180221_01_F09',\n",
       "        'AAACCTGAGAGTAATC-L8TX_180221_01_F09', ...,\n",
       "        'TTTGTCAGTGAGGCTA-L8TX_200611_02_A05',\n",
       "        'TTTGTCATCAGGCGAA-L8TX_200611_02_A05',\n",
       "        'TTTGTCATCGTCTGAA-L8TX_200611_02_A05'], dtype='<U35'),\n",
       " (1169213,))"
      ]
     },
     "execution_count": 83,
     "metadata": {},
     "output_type": "execute_result"
    }
   ],
   "source": [
    "cellname_in = cells_inmat[cellidx_in]\n",
    "cellname_in, cellname_in.shape"
   ]
  },
  {
   "cell_type": "code",
   "execution_count": 84,
   "id": "d0bbc4a3-f813-422e-9307-c1d9704c9dfe",
   "metadata": {},
   "outputs": [
    {
     "name": "stdout",
     "output_type": "stream",
     "text": [
      "/bigstore/GeneralStorage/fangming/projects/dredfish/data/rna/scrna_10x_ctxhippo_a_exon_count_matrix_v2.zarr\n"
     ]
    }
   ],
   "source": [
    "dat_dir = '/bigstore/GeneralStorage/fangming/projects/dredfish/data/'\n",
    "output = os.path.join(dat_dir, 'rna', 'scrna_10x_ctxhippo_a_exon_count_matrix_v2.zarr')\n",
    "print(output)"
   ]
  },
  {
   "cell_type": "code",
   "execution_count": 85,
   "id": "7ea824fe-495b-45d0-98e4-d4849d4bf23b",
   "metadata": {},
   "outputs": [
    {
     "name": "stdout",
     "output_type": "stream",
     "text": [
      "CPU times: user 30 µs, sys: 4 µs, total: 34 µs\n",
      "Wall time: 40.1 µs\n"
     ]
    },
    {
     "data": {
      "text/plain": [
       "(1169213, 31053)"
      ]
     },
     "execution_count": 85,
     "metadata": {},
     "output_type": "execute_result"
    }
   ],
   "source": [
    "%%time\n",
    "ncells = len(cellname_in)\n",
    "ngenes = len(genes)\n",
    "ncells, ngenes"
   ]
  },
  {
   "cell_type": "code",
   "execution_count": 86,
   "id": "4718d15f-fd96-425f-848d-6a844db5377c",
   "metadata": {
    "tags": []
   },
   "outputs": [
    {
     "name": "stdout",
     "output_type": "stream",
     "text": [
      "CPU times: user 1.11 ms, sys: 4.13 ms, total: 5.24 ms\n",
      "Wall time: 2.98 ms\n"
     ]
    }
   ],
   "source": [
    "%%time\n",
    "# create a zarr file (dir)\n",
    "chunksize = 100\n",
    "z1 = zarr.open(output, mode='a')\n",
    "\n",
    "# # create count matrix\n",
    "# z1.create_dataset('counts', \n",
    "#                   shape=(ncells, ngenes), \n",
    "#                   chunks=(chunksize, None), \n",
    "#                   dtype='i4',\n",
    "#                  )"
   ]
  },
  {
   "cell_type": "code",
   "execution_count": 10,
   "id": "63618971-f192-4d50-94ae-f54332e4acdb",
   "metadata": {},
   "outputs": [
    {
     "data": {
      "text/plain": [
       "(1169213, 31053)"
      ]
     },
     "execution_count": 10,
     "metadata": {},
     "output_type": "execute_result"
    }
   ],
   "source": [
    "z1['counts'].shape"
   ]
  },
  {
   "cell_type": "code",
   "execution_count": 14,
   "id": "f2d96232-e934-499b-92a5-c99e92c0e4f6",
   "metadata": {},
   "outputs": [
    {
     "name": "stderr",
     "output_type": "stream",
     "text": [
      "0it [00:00, ?it/s]\n"
     ]
    },
    {
     "name": "stdout",
     "output_type": "stream",
     "text": [
      "0 100000 (100000,) 0 99999\n"
     ]
    },
    {
     "name": "stderr",
     "output_type": "stream",
     "text": [
      "0it [00:00, ?it/s]\n"
     ]
    },
    {
     "name": "stdout",
     "output_type": "stream",
     "text": [
      "100000 200000 (100000,) 100000 200014\n"
     ]
    },
    {
     "name": "stderr",
     "output_type": "stream",
     "text": [
      "0it [00:00, ?it/s]\n"
     ]
    },
    {
     "name": "stdout",
     "output_type": "stream",
     "text": [
      "200000 300000 (100000,) 200015 300106\n"
     ]
    },
    {
     "name": "stderr",
     "output_type": "stream",
     "text": [
      "0it [00:00, ?it/s]\n"
     ]
    },
    {
     "name": "stdout",
     "output_type": "stream",
     "text": [
      "300000 400000 (100000,) 300107 400106\n"
     ]
    },
    {
     "name": "stderr",
     "output_type": "stream",
     "text": [
      "0it [00:00, ?it/s]\n"
     ]
    },
    {
     "name": "stdout",
     "output_type": "stream",
     "text": [
      "400000 500000 (100000,) 400107 500106\n"
     ]
    },
    {
     "name": "stderr",
     "output_type": "stream",
     "text": [
      "0it [00:00, ?it/s]\n"
     ]
    },
    {
     "name": "stdout",
     "output_type": "stream",
     "text": [
      "500000 600000 (100000,) 500107 600106\n"
     ]
    },
    {
     "name": "stderr",
     "output_type": "stream",
     "text": [
      "0it [00:00, ?it/s]\n"
     ]
    },
    {
     "name": "stdout",
     "output_type": "stream",
     "text": [
      "600000 700000 (100000,) 600107 700106\n"
     ]
    },
    {
     "name": "stderr",
     "output_type": "stream",
     "text": [
      "0it [00:00, ?it/s]\n"
     ]
    },
    {
     "name": "stdout",
     "output_type": "stream",
     "text": [
      "700000 800000 (100000,) 700107 800106\n"
     ]
    },
    {
     "name": "stderr",
     "output_type": "stream",
     "text": [
      "0it [00:00, ?it/s]\n"
     ]
    },
    {
     "name": "stdout",
     "output_type": "stream",
     "text": [
      "800000 900000 (100000,) 800107 900106\n"
     ]
    },
    {
     "name": "stderr",
     "output_type": "stream",
     "text": [
      "0it [00:00, ?it/s]\n"
     ]
    },
    {
     "name": "stdout",
     "output_type": "stream",
     "text": [
      "900000 1000000 (100000,) 900107 1000106\n"
     ]
    },
    {
     "name": "stderr",
     "output_type": "stream",
     "text": [
      "0it [00:00, ?it/s]\n"
     ]
    },
    {
     "name": "stdout",
     "output_type": "stream",
     "text": [
      "1000000 1100000 (100000,) 1000107 1100106\n"
     ]
    },
    {
     "name": "stderr",
     "output_type": "stream",
     "text": [
      "0it [00:00, ?it/s]\n"
     ]
    },
    {
     "name": "stdout",
     "output_type": "stream",
     "text": [
      "1100000 1169213 (69213,) 1100107 1169319\n"
     ]
    },
    {
     "name": "stderr",
     "output_type": "stream",
     "text": [
      "0it [00:00, ?it/s]"
     ]
    },
    {
     "name": "stdout",
     "output_type": "stream",
     "text": [
      "CPU times: user 25min 55s, sys: 1min 16s, total: 27min 12s\n",
      "Wall time: 25min 3s\n"
     ]
    },
    {
     "name": "stderr",
     "output_type": "stream",
     "text": [
      "\n"
     ]
    }
   ],
   "source": [
    "%%time\n",
    "readchunksize = 100000\n",
    "curr_head = 0\n",
    "with h5py.File(f, 'r') as fh:\n",
    "    while tqdm.tqdm(curr_head < ncells):\n",
    "        l, r = curr_head, curr_head+readchunksize\n",
    "        r = min(ncells, r)\n",
    "        curr_head += readchunksize\n",
    "            \n",
    "        subidx = cellidx_in[l:r]\n",
    "        print(l,r, subidx.shape, subidx[0], subidx[-1])\n",
    "        \n",
    "        mat = fh['data']['counts'][:,subidx].T  # [gene, cell] -> [cell, gene]\n",
    "        z1['counts'].oindex[l:r,:] = mat\n",
    "        \n",
    "        # break"
   ]
  },
  {
   "cell_type": "code",
   "execution_count": 33,
   "id": "623a5155-cf4b-4427-ad31-564c5ee62d13",
   "metadata": {},
   "outputs": [
    {
     "data": {
      "text/plain": [
       "(<zarr.core.Array '/counts' (1169213, 31053) int32>, 1169213)"
      ]
     },
     "execution_count": 33,
     "metadata": {},
     "output_type": "execute_result"
    }
   ],
   "source": [
    "z1['counts'], ncells"
   ]
  },
  {
   "cell_type": "markdown",
   "id": "5ad2f0c1-007b-4790-93c1-1042e39897d9",
   "metadata": {},
   "source": [
    "# Annotation"
   ]
  },
  {
   "cell_type": "code",
   "execution_count": 87,
   "id": "44d1ec6e-8c8f-4df2-a534-605ddc6c96c4",
   "metadata": {},
   "outputs": [],
   "source": [
    "# create probe limit\n",
    "z1.create_dataset(\n",
    "    'num_probe_limit',\n",
    "    shape=(ngenes,), \n",
    "    chunks=(chunksize,), \n",
    "    dtype='i4',\n",
    "    overwrite=True,\n",
    ")\n",
    "z1['num_probe_limit'][:] = np.repeat([100], ngenes)"
   ]
  },
  {
   "cell_type": "code",
   "execution_count": 22,
   "id": "0b1ab2dc-b130-4b7e-ad69-53723f724c01",
   "metadata": {},
   "outputs": [
    {
     "data": {
      "text/html": [
       "<div>\n",
       "<style scoped>\n",
       "    .dataframe tbody tr th:only-of-type {\n",
       "        vertical-align: middle;\n",
       "    }\n",
       "\n",
       "    .dataframe tbody tr th {\n",
       "        vertical-align: top;\n",
       "    }\n",
       "\n",
       "    .dataframe thead th {\n",
       "        text-align: right;\n",
       "    }\n",
       "</style>\n",
       "<table border=\"1\" class=\"dataframe\">\n",
       "  <thead>\n",
       "    <tr style=\"text-align: right;\">\n",
       "      <th></th>\n",
       "      <th>donor_sex_id</th>\n",
       "      <th>donor_sex_label</th>\n",
       "      <th>donor_sex_color</th>\n",
       "      <th>region_id</th>\n",
       "      <th>region_label</th>\n",
       "      <th>region_color</th>\n",
       "      <th>platform_label</th>\n",
       "      <th>cluster_order</th>\n",
       "      <th>cluster_label</th>\n",
       "      <th>cluster_color</th>\n",
       "      <th>...</th>\n",
       "      <th>cell_type_accession_id</th>\n",
       "      <th>cell_type_designation_color</th>\n",
       "      <th>cell_type_alt_alias_color</th>\n",
       "      <th>cell_type_alias_color</th>\n",
       "      <th>cell_type_accession_color</th>\n",
       "      <th>cortical_layer_label</th>\n",
       "      <th>cortical_layer_order</th>\n",
       "      <th>cortical_layer_color</th>\n",
       "      <th>Lim1</th>\n",
       "      <th>Lim2</th>\n",
       "    </tr>\n",
       "    <tr>\n",
       "      <th>sample_name</th>\n",
       "      <th></th>\n",
       "      <th></th>\n",
       "      <th></th>\n",
       "      <th></th>\n",
       "      <th></th>\n",
       "      <th></th>\n",
       "      <th></th>\n",
       "      <th></th>\n",
       "      <th></th>\n",
       "      <th></th>\n",
       "      <th></th>\n",
       "      <th></th>\n",
       "      <th></th>\n",
       "      <th></th>\n",
       "      <th></th>\n",
       "      <th></th>\n",
       "      <th></th>\n",
       "      <th></th>\n",
       "      <th></th>\n",
       "      <th></th>\n",
       "      <th></th>\n",
       "    </tr>\n",
       "  </thead>\n",
       "  <tbody>\n",
       "    <tr>\n",
       "      <th>AAACCTGAGAAACGCC-L8TX_180221_01_F09</th>\n",
       "      <td>2</td>\n",
       "      <td>M</td>\n",
       "      <td>#ADC4C3</td>\n",
       "      <td>19</td>\n",
       "      <td>ACA</td>\n",
       "      <td>#FFDE17</td>\n",
       "      <td>10X</td>\n",
       "      <td>168</td>\n",
       "      <td>168_L2/3 IT CTX</td>\n",
       "      <td>#02F970</td>\n",
       "      <td>...</td>\n",
       "      <td>168</td>\n",
       "      <td>#02F970</td>\n",
       "      <td>#02F970</td>\n",
       "      <td>#02F970</td>\n",
       "      <td>#02F970</td>\n",
       "      <td>NaN</td>\n",
       "      <td>1</td>\n",
       "      <td>#FF7373</td>\n",
       "      <td>3.155724</td>\n",
       "      <td>-6.148659</td>\n",
       "    </tr>\n",
       "    <tr>\n",
       "      <th>AAACCTGAGAAGGTTT-L8TX_180221_01_F09</th>\n",
       "      <td>2</td>\n",
       "      <td>M</td>\n",
       "      <td>#ADC4C3</td>\n",
       "      <td>19</td>\n",
       "      <td>ACA</td>\n",
       "      <td>#FFDE17</td>\n",
       "      <td>10X</td>\n",
       "      <td>168</td>\n",
       "      <td>168_L2/3 IT CTX</td>\n",
       "      <td>#02F970</td>\n",
       "      <td>...</td>\n",
       "      <td>168</td>\n",
       "      <td>#02F970</td>\n",
       "      <td>#02F970</td>\n",
       "      <td>#02F970</td>\n",
       "      <td>#02F970</td>\n",
       "      <td>NaN</td>\n",
       "      <td>1</td>\n",
       "      <td>#FF7373</td>\n",
       "      <td>0.640433</td>\n",
       "      <td>-6.071972</td>\n",
       "    </tr>\n",
       "    <tr>\n",
       "      <th>AAACCTGAGAGTAATC-L8TX_180221_01_F09</th>\n",
       "      <td>2</td>\n",
       "      <td>M</td>\n",
       "      <td>#ADC4C3</td>\n",
       "      <td>19</td>\n",
       "      <td>ACA</td>\n",
       "      <td>#FFDE17</td>\n",
       "      <td>10X</td>\n",
       "      <td>189</td>\n",
       "      <td>189_L4/5 IT CTX</td>\n",
       "      <td>#09CCC6</td>\n",
       "      <td>...</td>\n",
       "      <td>189</td>\n",
       "      <td>#09CCC6</td>\n",
       "      <td>#09CCC6</td>\n",
       "      <td>#09CCC6</td>\n",
       "      <td>#09CCC6</td>\n",
       "      <td>NaN</td>\n",
       "      <td>1</td>\n",
       "      <td>#FF7373</td>\n",
       "      <td>5.952353</td>\n",
       "      <td>-1.614315</td>\n",
       "    </tr>\n",
       "    <tr>\n",
       "      <th>AAACCTGAGCCTTGAT-L8TX_180221_01_F09</th>\n",
       "      <td>2</td>\n",
       "      <td>M</td>\n",
       "      <td>#ADC4C3</td>\n",
       "      <td>19</td>\n",
       "      <td>ACA</td>\n",
       "      <td>#FFDE17</td>\n",
       "      <td>10X</td>\n",
       "      <td>290</td>\n",
       "      <td>290_L6 CT CTX</td>\n",
       "      <td>#3E98A5</td>\n",
       "      <td>...</td>\n",
       "      <td>290</td>\n",
       "      <td>#3E98A5</td>\n",
       "      <td>#3E98A5</td>\n",
       "      <td>#3E98A5</td>\n",
       "      <td>#3E98A5</td>\n",
       "      <td>NaN</td>\n",
       "      <td>1</td>\n",
       "      <td>#FF7373</td>\n",
       "      <td>15.818063</td>\n",
       "      <td>-3.473572</td>\n",
       "    </tr>\n",
       "    <tr>\n",
       "      <th>AAACCTGAGTGGTAAT-L8TX_180221_01_F09</th>\n",
       "      <td>2</td>\n",
       "      <td>M</td>\n",
       "      <td>#ADC4C3</td>\n",
       "      <td>19</td>\n",
       "      <td>ACA</td>\n",
       "      <td>#FFDE17</td>\n",
       "      <td>10X</td>\n",
       "      <td>265</td>\n",
       "      <td>265_L5/6 NP CTX</td>\n",
       "      <td>#45BE72</td>\n",
       "      <td>...</td>\n",
       "      <td>265</td>\n",
       "      <td>#45BE72</td>\n",
       "      <td>#45BE72</td>\n",
       "      <td>#45BE72</td>\n",
       "      <td>#45BE72</td>\n",
       "      <td>NaN</td>\n",
       "      <td>1</td>\n",
       "      <td>#FF7373</td>\n",
       "      <td>14.517274</td>\n",
       "      <td>2.286561</td>\n",
       "    </tr>\n",
       "    <tr>\n",
       "      <th>...</th>\n",
       "      <td>...</td>\n",
       "      <td>...</td>\n",
       "      <td>...</td>\n",
       "      <td>...</td>\n",
       "      <td>...</td>\n",
       "      <td>...</td>\n",
       "      <td>...</td>\n",
       "      <td>...</td>\n",
       "      <td>...</td>\n",
       "      <td>...</td>\n",
       "      <td>...</td>\n",
       "      <td>...</td>\n",
       "      <td>...</td>\n",
       "      <td>...</td>\n",
       "      <td>...</td>\n",
       "      <td>...</td>\n",
       "      <td>...</td>\n",
       "      <td>...</td>\n",
       "      <td>...</td>\n",
       "      <td>...</td>\n",
       "      <td>...</td>\n",
       "    </tr>\n",
       "    <tr>\n",
       "      <th>TTTGTCAGTCGCGGTT-L8TX_200611_02_A05</th>\n",
       "      <td>1</td>\n",
       "      <td>F</td>\n",
       "      <td>#565353</td>\n",
       "      <td>21</td>\n",
       "      <td>TEa-PERI-ECT</td>\n",
       "      <td>#76CBE2</td>\n",
       "      <td>10X</td>\n",
       "      <td>18</td>\n",
       "      <td>18_Lamp5</td>\n",
       "      <td>#D97C80</td>\n",
       "      <td>...</td>\n",
       "      <td>18</td>\n",
       "      <td>#D97C80</td>\n",
       "      <td>#D97C80</td>\n",
       "      <td>#D97C80</td>\n",
       "      <td>#D97C80</td>\n",
       "      <td>NaN</td>\n",
       "      <td>1</td>\n",
       "      <td>#FF7373</td>\n",
       "      <td>5.398016</td>\n",
       "      <td>12.946978</td>\n",
       "    </tr>\n",
       "    <tr>\n",
       "      <th>TTTGTCAGTCTAGGTT-L8TX_200611_02_A05</th>\n",
       "      <td>1</td>\n",
       "      <td>F</td>\n",
       "      <td>#565353</td>\n",
       "      <td>21</td>\n",
       "      <td>TEa-PERI-ECT</td>\n",
       "      <td>#76CBE2</td>\n",
       "      <td>10X</td>\n",
       "      <td>265</td>\n",
       "      <td>265_L5/6 NP CTX</td>\n",
       "      <td>#45BE72</td>\n",
       "      <td>...</td>\n",
       "      <td>265</td>\n",
       "      <td>#45BE72</td>\n",
       "      <td>#45BE72</td>\n",
       "      <td>#45BE72</td>\n",
       "      <td>#45BE72</td>\n",
       "      <td>NaN</td>\n",
       "      <td>1</td>\n",
       "      <td>#FF7373</td>\n",
       "      <td>14.953689</td>\n",
       "      <td>3.713908</td>\n",
       "    </tr>\n",
       "    <tr>\n",
       "      <th>TTTGTCAGTGAGGCTA-L8TX_200611_02_A05</th>\n",
       "      <td>1</td>\n",
       "      <td>F</td>\n",
       "      <td>#565353</td>\n",
       "      <td>21</td>\n",
       "      <td>TEa-PERI-ECT</td>\n",
       "      <td>#76CBE2</td>\n",
       "      <td>10X</td>\n",
       "      <td>162</td>\n",
       "      <td>162_L2/3 IT CTX</td>\n",
       "      <td>#0E993B</td>\n",
       "      <td>...</td>\n",
       "      <td>162</td>\n",
       "      <td>#0E993B</td>\n",
       "      <td>#0E993B</td>\n",
       "      <td>#0E993B</td>\n",
       "      <td>#0E993B</td>\n",
       "      <td>NaN</td>\n",
       "      <td>1</td>\n",
       "      <td>#FF7373</td>\n",
       "      <td>0.225908</td>\n",
       "      <td>-7.700701</td>\n",
       "    </tr>\n",
       "    <tr>\n",
       "      <th>TTTGTCATCAGGCGAA-L8TX_200611_02_A05</th>\n",
       "      <td>1</td>\n",
       "      <td>F</td>\n",
       "      <td>#565353</td>\n",
       "      <td>21</td>\n",
       "      <td>TEa-PERI-ECT</td>\n",
       "      <td>#76CBE2</td>\n",
       "      <td>10X</td>\n",
       "      <td>68</td>\n",
       "      <td>68_Sst</td>\n",
       "      <td>#D96C07</td>\n",
       "      <td>...</td>\n",
       "      <td>68</td>\n",
       "      <td>#D96C07</td>\n",
       "      <td>#D96C07</td>\n",
       "      <td>#D96C07</td>\n",
       "      <td>#D96C07</td>\n",
       "      <td>NaN</td>\n",
       "      <td>1</td>\n",
       "      <td>#FF7373</td>\n",
       "      <td>-4.532272</td>\n",
       "      <td>16.658345</td>\n",
       "    </tr>\n",
       "    <tr>\n",
       "      <th>TTTGTCATCGTCTGAA-L8TX_200611_02_A05</th>\n",
       "      <td>1</td>\n",
       "      <td>F</td>\n",
       "      <td>#565353</td>\n",
       "      <td>21</td>\n",
       "      <td>TEa-PERI-ECT</td>\n",
       "      <td>#76CBE2</td>\n",
       "      <td>10X</td>\n",
       "      <td>282</td>\n",
       "      <td>282_L6 CT CTX</td>\n",
       "      <td>#296B98</td>\n",
       "      <td>...</td>\n",
       "      <td>282</td>\n",
       "      <td>#296B98</td>\n",
       "      <td>#296B98</td>\n",
       "      <td>#296B98</td>\n",
       "      <td>#296B98</td>\n",
       "      <td>NaN</td>\n",
       "      <td>1</td>\n",
       "      <td>#FF7373</td>\n",
       "      <td>18.259407</td>\n",
       "      <td>-2.629788</td>\n",
       "    </tr>\n",
       "  </tbody>\n",
       "</table>\n",
       "<p>1169213 rows × 58 columns</p>\n",
       "</div>"
      ],
      "text/plain": [
       "                                     donor_sex_id donor_sex_label  \\\n",
       "sample_name                                                         \n",
       "AAACCTGAGAAACGCC-L8TX_180221_01_F09             2               M   \n",
       "AAACCTGAGAAGGTTT-L8TX_180221_01_F09             2               M   \n",
       "AAACCTGAGAGTAATC-L8TX_180221_01_F09             2               M   \n",
       "AAACCTGAGCCTTGAT-L8TX_180221_01_F09             2               M   \n",
       "AAACCTGAGTGGTAAT-L8TX_180221_01_F09             2               M   \n",
       "...                                           ...             ...   \n",
       "TTTGTCAGTCGCGGTT-L8TX_200611_02_A05             1               F   \n",
       "TTTGTCAGTCTAGGTT-L8TX_200611_02_A05             1               F   \n",
       "TTTGTCAGTGAGGCTA-L8TX_200611_02_A05             1               F   \n",
       "TTTGTCATCAGGCGAA-L8TX_200611_02_A05             1               F   \n",
       "TTTGTCATCGTCTGAA-L8TX_200611_02_A05             1               F   \n",
       "\n",
       "                                    donor_sex_color  region_id  region_label  \\\n",
       "sample_name                                                                    \n",
       "AAACCTGAGAAACGCC-L8TX_180221_01_F09         #ADC4C3         19           ACA   \n",
       "AAACCTGAGAAGGTTT-L8TX_180221_01_F09         #ADC4C3         19           ACA   \n",
       "AAACCTGAGAGTAATC-L8TX_180221_01_F09         #ADC4C3         19           ACA   \n",
       "AAACCTGAGCCTTGAT-L8TX_180221_01_F09         #ADC4C3         19           ACA   \n",
       "AAACCTGAGTGGTAAT-L8TX_180221_01_F09         #ADC4C3         19           ACA   \n",
       "...                                             ...        ...           ...   \n",
       "TTTGTCAGTCGCGGTT-L8TX_200611_02_A05         #565353         21  TEa-PERI-ECT   \n",
       "TTTGTCAGTCTAGGTT-L8TX_200611_02_A05         #565353         21  TEa-PERI-ECT   \n",
       "TTTGTCAGTGAGGCTA-L8TX_200611_02_A05         #565353         21  TEa-PERI-ECT   \n",
       "TTTGTCATCAGGCGAA-L8TX_200611_02_A05         #565353         21  TEa-PERI-ECT   \n",
       "TTTGTCATCGTCTGAA-L8TX_200611_02_A05         #565353         21  TEa-PERI-ECT   \n",
       "\n",
       "                                    region_color platform_label  \\\n",
       "sample_name                                                       \n",
       "AAACCTGAGAAACGCC-L8TX_180221_01_F09      #FFDE17            10X   \n",
       "AAACCTGAGAAGGTTT-L8TX_180221_01_F09      #FFDE17            10X   \n",
       "AAACCTGAGAGTAATC-L8TX_180221_01_F09      #FFDE17            10X   \n",
       "AAACCTGAGCCTTGAT-L8TX_180221_01_F09      #FFDE17            10X   \n",
       "AAACCTGAGTGGTAAT-L8TX_180221_01_F09      #FFDE17            10X   \n",
       "...                                          ...            ...   \n",
       "TTTGTCAGTCGCGGTT-L8TX_200611_02_A05      #76CBE2            10X   \n",
       "TTTGTCAGTCTAGGTT-L8TX_200611_02_A05      #76CBE2            10X   \n",
       "TTTGTCAGTGAGGCTA-L8TX_200611_02_A05      #76CBE2            10X   \n",
       "TTTGTCATCAGGCGAA-L8TX_200611_02_A05      #76CBE2            10X   \n",
       "TTTGTCATCGTCTGAA-L8TX_200611_02_A05      #76CBE2            10X   \n",
       "\n",
       "                                     cluster_order    cluster_label  \\\n",
       "sample_name                                                           \n",
       "AAACCTGAGAAACGCC-L8TX_180221_01_F09            168  168_L2/3 IT CTX   \n",
       "AAACCTGAGAAGGTTT-L8TX_180221_01_F09            168  168_L2/3 IT CTX   \n",
       "AAACCTGAGAGTAATC-L8TX_180221_01_F09            189  189_L4/5 IT CTX   \n",
       "AAACCTGAGCCTTGAT-L8TX_180221_01_F09            290    290_L6 CT CTX   \n",
       "AAACCTGAGTGGTAAT-L8TX_180221_01_F09            265  265_L5/6 NP CTX   \n",
       "...                                            ...              ...   \n",
       "TTTGTCAGTCGCGGTT-L8TX_200611_02_A05             18         18_Lamp5   \n",
       "TTTGTCAGTCTAGGTT-L8TX_200611_02_A05            265  265_L5/6 NP CTX   \n",
       "TTTGTCAGTGAGGCTA-L8TX_200611_02_A05            162  162_L2/3 IT CTX   \n",
       "TTTGTCATCAGGCGAA-L8TX_200611_02_A05             68           68_Sst   \n",
       "TTTGTCATCGTCTGAA-L8TX_200611_02_A05            282    282_L6 CT CTX   \n",
       "\n",
       "                                    cluster_color  ...  \\\n",
       "sample_name                                        ...   \n",
       "AAACCTGAGAAACGCC-L8TX_180221_01_F09       #02F970  ...   \n",
       "AAACCTGAGAAGGTTT-L8TX_180221_01_F09       #02F970  ...   \n",
       "AAACCTGAGAGTAATC-L8TX_180221_01_F09       #09CCC6  ...   \n",
       "AAACCTGAGCCTTGAT-L8TX_180221_01_F09       #3E98A5  ...   \n",
       "AAACCTGAGTGGTAAT-L8TX_180221_01_F09       #45BE72  ...   \n",
       "...                                           ...  ...   \n",
       "TTTGTCAGTCGCGGTT-L8TX_200611_02_A05       #D97C80  ...   \n",
       "TTTGTCAGTCTAGGTT-L8TX_200611_02_A05       #45BE72  ...   \n",
       "TTTGTCAGTGAGGCTA-L8TX_200611_02_A05       #0E993B  ...   \n",
       "TTTGTCATCAGGCGAA-L8TX_200611_02_A05       #D96C07  ...   \n",
       "TTTGTCATCGTCTGAA-L8TX_200611_02_A05       #296B98  ...   \n",
       "\n",
       "                                     cell_type_accession_id  \\\n",
       "sample_name                                                   \n",
       "AAACCTGAGAAACGCC-L8TX_180221_01_F09                     168   \n",
       "AAACCTGAGAAGGTTT-L8TX_180221_01_F09                     168   \n",
       "AAACCTGAGAGTAATC-L8TX_180221_01_F09                     189   \n",
       "AAACCTGAGCCTTGAT-L8TX_180221_01_F09                     290   \n",
       "AAACCTGAGTGGTAAT-L8TX_180221_01_F09                     265   \n",
       "...                                                     ...   \n",
       "TTTGTCAGTCGCGGTT-L8TX_200611_02_A05                      18   \n",
       "TTTGTCAGTCTAGGTT-L8TX_200611_02_A05                     265   \n",
       "TTTGTCAGTGAGGCTA-L8TX_200611_02_A05                     162   \n",
       "TTTGTCATCAGGCGAA-L8TX_200611_02_A05                      68   \n",
       "TTTGTCATCGTCTGAA-L8TX_200611_02_A05                     282   \n",
       "\n",
       "                                    cell_type_designation_color  \\\n",
       "sample_name                                                       \n",
       "AAACCTGAGAAACGCC-L8TX_180221_01_F09                     #02F970   \n",
       "AAACCTGAGAAGGTTT-L8TX_180221_01_F09                     #02F970   \n",
       "AAACCTGAGAGTAATC-L8TX_180221_01_F09                     #09CCC6   \n",
       "AAACCTGAGCCTTGAT-L8TX_180221_01_F09                     #3E98A5   \n",
       "AAACCTGAGTGGTAAT-L8TX_180221_01_F09                     #45BE72   \n",
       "...                                                         ...   \n",
       "TTTGTCAGTCGCGGTT-L8TX_200611_02_A05                     #D97C80   \n",
       "TTTGTCAGTCTAGGTT-L8TX_200611_02_A05                     #45BE72   \n",
       "TTTGTCAGTGAGGCTA-L8TX_200611_02_A05                     #0E993B   \n",
       "TTTGTCATCAGGCGAA-L8TX_200611_02_A05                     #D96C07   \n",
       "TTTGTCATCGTCTGAA-L8TX_200611_02_A05                     #296B98   \n",
       "\n",
       "                                    cell_type_alt_alias_color  \\\n",
       "sample_name                                                     \n",
       "AAACCTGAGAAACGCC-L8TX_180221_01_F09                   #02F970   \n",
       "AAACCTGAGAAGGTTT-L8TX_180221_01_F09                   #02F970   \n",
       "AAACCTGAGAGTAATC-L8TX_180221_01_F09                   #09CCC6   \n",
       "AAACCTGAGCCTTGAT-L8TX_180221_01_F09                   #3E98A5   \n",
       "AAACCTGAGTGGTAAT-L8TX_180221_01_F09                   #45BE72   \n",
       "...                                                       ...   \n",
       "TTTGTCAGTCGCGGTT-L8TX_200611_02_A05                   #D97C80   \n",
       "TTTGTCAGTCTAGGTT-L8TX_200611_02_A05                   #45BE72   \n",
       "TTTGTCAGTGAGGCTA-L8TX_200611_02_A05                   #0E993B   \n",
       "TTTGTCATCAGGCGAA-L8TX_200611_02_A05                   #D96C07   \n",
       "TTTGTCATCGTCTGAA-L8TX_200611_02_A05                   #296B98   \n",
       "\n",
       "                                     cell_type_alias_color  \\\n",
       "sample_name                                                  \n",
       "AAACCTGAGAAACGCC-L8TX_180221_01_F09                #02F970   \n",
       "AAACCTGAGAAGGTTT-L8TX_180221_01_F09                #02F970   \n",
       "AAACCTGAGAGTAATC-L8TX_180221_01_F09                #09CCC6   \n",
       "AAACCTGAGCCTTGAT-L8TX_180221_01_F09                #3E98A5   \n",
       "AAACCTGAGTGGTAAT-L8TX_180221_01_F09                #45BE72   \n",
       "...                                                    ...   \n",
       "TTTGTCAGTCGCGGTT-L8TX_200611_02_A05                #D97C80   \n",
       "TTTGTCAGTCTAGGTT-L8TX_200611_02_A05                #45BE72   \n",
       "TTTGTCAGTGAGGCTA-L8TX_200611_02_A05                #0E993B   \n",
       "TTTGTCATCAGGCGAA-L8TX_200611_02_A05                #D96C07   \n",
       "TTTGTCATCGTCTGAA-L8TX_200611_02_A05                #296B98   \n",
       "\n",
       "                                    cell_type_accession_color  \\\n",
       "sample_name                                                     \n",
       "AAACCTGAGAAACGCC-L8TX_180221_01_F09                   #02F970   \n",
       "AAACCTGAGAAGGTTT-L8TX_180221_01_F09                   #02F970   \n",
       "AAACCTGAGAGTAATC-L8TX_180221_01_F09                   #09CCC6   \n",
       "AAACCTGAGCCTTGAT-L8TX_180221_01_F09                   #3E98A5   \n",
       "AAACCTGAGTGGTAAT-L8TX_180221_01_F09                   #45BE72   \n",
       "...                                                       ...   \n",
       "TTTGTCAGTCGCGGTT-L8TX_200611_02_A05                   #D97C80   \n",
       "TTTGTCAGTCTAGGTT-L8TX_200611_02_A05                   #45BE72   \n",
       "TTTGTCAGTGAGGCTA-L8TX_200611_02_A05                   #0E993B   \n",
       "TTTGTCATCAGGCGAA-L8TX_200611_02_A05                   #D96C07   \n",
       "TTTGTCATCGTCTGAA-L8TX_200611_02_A05                   #296B98   \n",
       "\n",
       "                                    cortical_layer_label  \\\n",
       "sample_name                                                \n",
       "AAACCTGAGAAACGCC-L8TX_180221_01_F09                  NaN   \n",
       "AAACCTGAGAAGGTTT-L8TX_180221_01_F09                  NaN   \n",
       "AAACCTGAGAGTAATC-L8TX_180221_01_F09                  NaN   \n",
       "AAACCTGAGCCTTGAT-L8TX_180221_01_F09                  NaN   \n",
       "AAACCTGAGTGGTAAT-L8TX_180221_01_F09                  NaN   \n",
       "...                                                  ...   \n",
       "TTTGTCAGTCGCGGTT-L8TX_200611_02_A05                  NaN   \n",
       "TTTGTCAGTCTAGGTT-L8TX_200611_02_A05                  NaN   \n",
       "TTTGTCAGTGAGGCTA-L8TX_200611_02_A05                  NaN   \n",
       "TTTGTCATCAGGCGAA-L8TX_200611_02_A05                  NaN   \n",
       "TTTGTCATCGTCTGAA-L8TX_200611_02_A05                  NaN   \n",
       "\n",
       "                                     cortical_layer_order  \\\n",
       "sample_name                                                 \n",
       "AAACCTGAGAAACGCC-L8TX_180221_01_F09                     1   \n",
       "AAACCTGAGAAGGTTT-L8TX_180221_01_F09                     1   \n",
       "AAACCTGAGAGTAATC-L8TX_180221_01_F09                     1   \n",
       "AAACCTGAGCCTTGAT-L8TX_180221_01_F09                     1   \n",
       "AAACCTGAGTGGTAAT-L8TX_180221_01_F09                     1   \n",
       "...                                                   ...   \n",
       "TTTGTCAGTCGCGGTT-L8TX_200611_02_A05                     1   \n",
       "TTTGTCAGTCTAGGTT-L8TX_200611_02_A05                     1   \n",
       "TTTGTCAGTGAGGCTA-L8TX_200611_02_A05                     1   \n",
       "TTTGTCATCAGGCGAA-L8TX_200611_02_A05                     1   \n",
       "TTTGTCATCGTCTGAA-L8TX_200611_02_A05                     1   \n",
       "\n",
       "                                    cortical_layer_color       Lim1       Lim2  \n",
       "sample_name                                                                     \n",
       "AAACCTGAGAAACGCC-L8TX_180221_01_F09              #FF7373   3.155724  -6.148659  \n",
       "AAACCTGAGAAGGTTT-L8TX_180221_01_F09              #FF7373   0.640433  -6.071972  \n",
       "AAACCTGAGAGTAATC-L8TX_180221_01_F09              #FF7373   5.952353  -1.614315  \n",
       "AAACCTGAGCCTTGAT-L8TX_180221_01_F09              #FF7373  15.818063  -3.473572  \n",
       "AAACCTGAGTGGTAAT-L8TX_180221_01_F09              #FF7373  14.517274   2.286561  \n",
       "...                                                  ...        ...        ...  \n",
       "TTTGTCAGTCGCGGTT-L8TX_200611_02_A05              #FF7373   5.398016  12.946978  \n",
       "TTTGTCAGTCTAGGTT-L8TX_200611_02_A05              #FF7373  14.953689   3.713908  \n",
       "TTTGTCAGTGAGGCTA-L8TX_200611_02_A05              #FF7373   0.225908  -7.700701  \n",
       "TTTGTCATCAGGCGAA-L8TX_200611_02_A05              #FF7373  -4.532272  16.658345  \n",
       "TTTGTCATCGTCTGAA-L8TX_200611_02_A05              #FF7373  18.259407  -2.629788  \n",
       "\n",
       "[1169213 rows x 58 columns]"
      ]
     },
     "execution_count": 22,
     "metadata": {},
     "output_type": "execute_result"
    }
   ],
   "source": [
    "meta = adata.obs.copy()\n",
    "meta = meta.loc[cellname_in]\n",
    "meta"
   ]
  },
  {
   "cell_type": "code",
   "execution_count": 23,
   "id": "a1b57b24-b533-4543-8dad-aed0a72f91db",
   "metadata": {},
   "outputs": [],
   "source": [
    "# create labels\n",
    "z1.create_dataset(\n",
    "    'l1_code',\n",
    "    shape=(ncells,), \n",
    "    chunks=(chunksize,), \n",
    "    dtype='i4',\n",
    ")\n",
    "a = meta['class_label']\n",
    "z1['l1_code'] = a.cat.codes.values\n",
    "z1['l1_cat'] = a.cat.categories.values.astype(str)\n",
    "\n",
    "z1.create_dataset(\n",
    "    'l2_code',\n",
    "    shape=(ncells,), \n",
    "    chunks=(chunksize,), \n",
    "    dtype='i4',\n",
    ")\n",
    "a = meta['neighborhood_label']\n",
    "z1['l2_code'] = a.cat.codes.values\n",
    "z1['l2_cat'] = a.cat.categories.values.astype(str)\n",
    "\n",
    "z1.create_dataset(\n",
    "    'l3_code',\n",
    "    shape=(ncells,), \n",
    "    chunks=(chunksize,), \n",
    "    dtype='i4',\n",
    ")\n",
    "a = meta['subclass_label']\n",
    "z1['l3_code'] = a.cat.codes.values\n",
    "z1['l3_cat'] = a.cat.categories.values.astype(str)\n",
    "\n",
    "z1.create_dataset(\n",
    "    'l5_code',\n",
    "    shape=(ncells,), \n",
    "    chunks=(chunksize,), \n",
    "    dtype='i4',\n",
    ")\n",
    "a = meta['cluster_label']\n",
    "z1['l5_code'] = a.cat.codes.values\n",
    "z1['l5_cat'] = a.cat.categories.values.astype(str)"
   ]
  },
  {
   "cell_type": "code",
   "execution_count": 29,
   "id": "6584fdcd-ac93-480a-acf2-fc6671646278",
   "metadata": {},
   "outputs": [
    {
     "name": "stdout",
     "output_type": "stream",
     "text": [
      "CPU times: user 11.7 ms, sys: 12 ms, total: 23.7 ms\n",
      "Wall time: 12.7 ms\n"
     ]
    },
    {
     "data": {
      "text/plain": [
       "(array([9, 1, 0, ..., 0, 0, 0], dtype=int32), (31053,))"
      ]
     },
     "execution_count": 29,
     "metadata": {},
     "output_type": "execute_result"
    }
   ],
   "source": [
    "%%time\n",
    "y = z1['counts'].oindex[975,:]\n",
    "y, y.shape"
   ]
  },
  {
   "cell_type": "code",
   "execution_count": 25,
   "id": "311f18d1-6605-4e13-8f41-34837270a3ba",
   "metadata": {},
   "outputs": [
    {
     "name": "stdout",
     "output_type": "stream",
     "text": [
      "CPU times: user 793 µs, sys: 4.07 ms, total: 4.86 ms\n",
      "Wall time: 7.52 ms\n"
     ]
    }
   ],
   "source": [
    "%%time\n",
    "testidx = np.random.choice(ncells, 100)"
   ]
  },
  {
   "cell_type": "code",
   "execution_count": 30,
   "id": "8503c562-9348-4a51-857c-041a5a5a3f47",
   "metadata": {},
   "outputs": [
    {
     "name": "stdout",
     "output_type": "stream",
     "text": [
      "CPU times: user 2.32 s, sys: 190 ms, total: 2.51 s\n",
      "Wall time: 1.44 s\n"
     ]
    },
    {
     "data": {
      "text/plain": [
       "(100, 31053)"
      ]
     },
     "execution_count": 30,
     "metadata": {},
     "output_type": "execute_result"
    }
   ],
   "source": [
    "%%time\n",
    "z1['counts'].oindex[testidx,:].shape"
   ]
  },
  {
   "cell_type": "code",
   "execution_count": 31,
   "id": "c79b83ca-2666-4759-aa08-9f30e58e3f37",
   "metadata": {},
   "outputs": [
    {
     "name": "stdout",
     "output_type": "stream",
     "text": [
      "CPU times: user 11.3 ms, sys: 4.67 ms, total: 16 ms\n",
      "Wall time: 5.88 ms\n"
     ]
    },
    {
     "data": {
      "text/plain": [
       "(31053,)"
      ]
     },
     "execution_count": 31,
     "metadata": {},
     "output_type": "execute_result"
    }
   ],
   "source": [
    "%%time\n",
    "z1['counts'].oindex[testidx[0],:].shape"
   ]
  },
  {
   "cell_type": "code",
   "execution_count": 32,
   "id": "8e52c60b-c574-425c-a0c2-d358201c94fb",
   "metadata": {},
   "outputs": [
    {
     "name": "stdout",
     "output_type": "stream",
     "text": [
      "CPU times: user 6.86 ms, sys: 0 ns, total: 6.86 ms\n",
      "Wall time: 3.9 ms\n"
     ]
    },
    {
     "data": {
      "text/plain": [
       "()"
      ]
     },
     "execution_count": 32,
     "metadata": {},
     "output_type": "execute_result"
    }
   ],
   "source": [
    "%%time\n",
    "z1['l3_code'].oindex[testidx[0]].shape"
   ]
  },
  {
   "cell_type": "markdown",
   "id": "fec6630f-2357-4425-abcb-b35effce98cb",
   "metadata": {},
   "source": [
    "# split train and test"
   ]
  },
  {
   "cell_type": "code",
   "execution_count": 34,
   "id": "2859117b-a3f0-48b3-8a64-5a442adba817",
   "metadata": {},
   "outputs": [],
   "source": [
    "def split_train_test(zarr_file, keys_copy, keys_split, frac=0.9, random_seed=None):\n",
    "    \"\"\"randomly select frac vs 1-frac samples into training and test (validation) set.\n",
    "    Save them as separate zarr files\n",
    "    \"\"\"\n",
    "    assert frac <= 1 and frac >= 0\n",
    "    # the original zarr file\n",
    "    z = zarr.open(zarr_file, 'r')\n",
    "    size = len(z['counts'])\n",
    "    \n",
    "    path_train = zarr_file.replace('.zarr', '_train.zarr')\n",
    "    path_test = zarr_file.replace('.zarr', '_test.zarr')\n",
    "    logging.info(f\"{zarr_file} -> \\n{path_train} and \\n{path_test}\\n\")\n",
    "    if random_seed: np.random.seed(random_seed)\n",
    "    cond_train = np.random.rand(size) < frac\n",
    "    ntrain = cond_train.sum()\n",
    "    ntest = (~cond_train).sum()\n",
    "    logging.info(f\"{size}, {ntrain} ({ntrain/size:.3f}), {ntest} ({ntest/size:.3f})\")\n",
    "    \n",
    "    z_train = zarr.open(path_train, mode='w')\n",
    "    z_test = zarr.open(path_test, mode='w')\n",
    "    for key in keys_copy:\n",
    "        z_train[key] = z[key]\n",
    "        z_test[key] = z[key]\n",
    "\n",
    "    for key in keys_split:\n",
    "        # train\n",
    "        if z[key].ndim == 1:\n",
    "            chunksize = (10,)\n",
    "            dat = z[key].oindex[cond_train]\n",
    "        elif z[key].ndim == 2:\n",
    "            chunksize = (10,None)\n",
    "            dat = z[key].oindex[cond_train,:]\n",
    "        else:\n",
    "            raise ValueError('unimplemented')\n",
    "            \n",
    "        z_train.create_dataset(key, shape=dat.shape, chunks=chunksize)\n",
    "        z_train[key][:] = dat\n",
    "        \n",
    "        # test\n",
    "        if z[key].ndim == 1:\n",
    "            chunksize = (10,)\n",
    "            dat = z[key].oindex[~cond_train]\n",
    "        elif z[key].ndim == 2:\n",
    "            chunksize = (10,None)\n",
    "            dat = z[key].oindex[~cond_train,:]\n",
    "        else:\n",
    "            raise ValueError('unimplemented')\n",
    "            \n",
    "        z_test.create_dataset(key, shape=dat.shape, chunks=chunksize)\n",
    "        z_test[key][:] = dat\n",
    "        \n",
    "    return "
   ]
  },
  {
   "cell_type": "code",
   "execution_count": 36,
   "id": "c1f4f788-6e82-4fc5-b26b-6d08fc461167",
   "metadata": {},
   "outputs": [
    {
     "data": {
      "text/plain": [
       "(<zarr.hierarchy.Group '/' read-only>,\n",
       " ['counts',\n",
       "  'l1_cat',\n",
       "  'l1_code',\n",
       "  'l2_cat',\n",
       "  'l2_code',\n",
       "  'l3_cat',\n",
       "  'l3_code',\n",
       "  'l5_cat',\n",
       "  'l5_code',\n",
       "  'num_probe_limit'])"
      ]
     },
     "execution_count": 36,
     "metadata": {},
     "output_type": "execute_result"
    }
   ],
   "source": [
    "z = zarr.open(output, mode='r')\n",
    "z, list(z.keys())"
   ]
  },
  {
   "cell_type": "code",
   "execution_count": 37,
   "id": "5ff19852-1f3c-4b09-acb4-cfbd3c991357",
   "metadata": {},
   "outputs": [
    {
     "data": {
      "text/plain": [
       "(['num_probe_limit', 'l1_cat', 'l2_cat', 'l3_cat', 'l5_cat'],\n",
       " ['counts', 'l1_code', 'l2_code', 'l3_code', 'l5_code'])"
      ]
     },
     "execution_count": 37,
     "metadata": {},
     "output_type": "execute_result"
    }
   ],
   "source": [
    "#\n",
    "keys_copy = ['num_probe_limit', 'l1_cat', 'l2_cat', 'l3_cat', 'l5_cat']\n",
    "keys_split = [key for key in z.keys() if key not in keys_copy]\n",
    "keys_copy, keys_split\n"
   ]
  },
  {
   "cell_type": "code",
   "execution_count": 38,
   "id": "77d2647a-a47e-472c-8782-aceb4a65dbd1",
   "metadata": {},
   "outputs": [
    {
     "name": "stdout",
     "output_type": "stream",
     "text": [
      "CPU times: user 7 µs, sys: 0 ns, total: 7 µs\n",
      "Wall time: 16 µs\n"
     ]
    }
   ],
   "source": [
    "%%time\n",
    "# split_train_test(output, keys_copy, keys_split, frac=0.9)"
   ]
  },
  {
   "cell_type": "markdown",
   "id": "c40a4f59-2ed9-430e-b95b-f4cce43d9e9a",
   "metadata": {},
   "source": [
    "# test if we can load train and val as well as the original"
   ]
  },
  {
   "cell_type": "code",
   "execution_count": 6,
   "id": "2e9d7ca4-8b3e-40f9-923f-10774d28548f",
   "metadata": {},
   "outputs": [],
   "source": [
    "# print(output)"
   ]
  },
  {
   "cell_type": "code",
   "execution_count": 69,
   "id": "96a75c64-33bf-441b-a0fa-97ae0e7fd30f",
   "metadata": {},
   "outputs": [],
   "source": [
    "f_org = '/bigstore/GeneralStorage/fangming/projects/dredfish/data/rna/scrna_10x_ctxhippo_a_exon_count_matrix_v2.zarr'\n",
    "f_trn = '/bigstore/GeneralStorage/fangming/projects/dredfish/data/rna/scrna_10x_ctxhippo_a_exon_count_matrix_v2_train.zarr'\n",
    "f_tst = '/bigstore/GeneralStorage/fangming/projects/dredfish/data/rna/scrna_10x_ctxhippo_a_exon_count_matrix_v2_test.zarr'\n",
    "\n",
    "f_org2 = '/bigstore/GeneralStorage/fangming/projects/dredfish/data/rna/scrna_ss_ctxhippo_a_exon_count_matrix_v3.zarr'\n",
    "f_trn2 = '/bigstore/GeneralStorage/fangming/projects/dredfish/data/rna/scrna_ss_ctxhippo_a_exon_count_matrix_v3_train.zarr'\n"
   ]
  },
  {
   "cell_type": "code",
   "execution_count": 72,
   "id": "abb63474-d04c-49c2-bfd5-94c7d425ea59",
   "metadata": {},
   "outputs": [
    {
     "name": "stdout",
     "output_type": "stream",
     "text": [
      "<zarr.core.Array '/counts' (1169213, 31053) int32 read-only>\n",
      "<zarr.core.Array '/l1_cat' (3,) <U13 read-only>\n",
      "<zarr.core.Array '/l1_code' (1169213,) int8 read-only>\n",
      "<zarr.core.Array '/l2_cat' (8,) <U14 read-only>\n",
      "<zarr.core.Array '/l2_code' (1169213,) int8 read-only>\n",
      "<zarr.core.Array '/l3_cat' (42,) <U15 read-only>\n",
      "<zarr.core.Array '/l3_code' (1169213,) int8 read-only>\n",
      "<zarr.core.Array '/l5_cat' (387,) <U23 read-only>\n",
      "<zarr.core.Array '/l5_code' (1169213,) int16 read-only>\n",
      "<zarr.core.Array '/num_probe_limit' (1169213,) int32 read-only>\n",
      "===\n",
      "<zarr.core.Array '/counts' (1052202, 31053) float64 read-only>\n",
      "<zarr.core.Array '/l1_cat' (3,) <U13 read-only>\n",
      "<zarr.core.Array '/l1_code' (1052202,) float64 read-only>\n",
      "<zarr.core.Array '/l2_cat' (8,) <U14 read-only>\n",
      "<zarr.core.Array '/l2_code' (1052202,) float64 read-only>\n",
      "<zarr.core.Array '/l3_cat' (42,) <U15 read-only>\n",
      "<zarr.core.Array '/l3_code' (1052202,) float64 read-only>\n",
      "<zarr.core.Array '/l5_cat' (387,) <U23 read-only>\n",
      "<zarr.core.Array '/l5_code' (1052202,) float64 read-only>\n",
      "<zarr.core.Array '/num_probe_limit' (1169213,) int32 read-only>\n",
      "===\n",
      "<zarr.core.Array '/counts' (117011, 31053) float64 read-only>\n",
      "<zarr.core.Array '/l1_cat' (3,) <U13 read-only>\n",
      "<zarr.core.Array '/l1_code' (117011,) float64 read-only>\n",
      "<zarr.core.Array '/l2_cat' (8,) <U14 read-only>\n",
      "<zarr.core.Array '/l2_code' (117011,) float64 read-only>\n",
      "<zarr.core.Array '/l3_cat' (42,) <U15 read-only>\n",
      "<zarr.core.Array '/l3_code' (117011,) float64 read-only>\n",
      "<zarr.core.Array '/l5_cat' (387,) <U23 read-only>\n",
      "<zarr.core.Array '/l5_code' (117011,) float64 read-only>\n",
      "<zarr.core.Array '/num_probe_limit' (1169213,) int32 read-only>\n",
      "===\n",
      "<zarr.core.Array '/counts' (73347, 45768) int32 read-only>\n",
      "<zarr.core.Array '/l1_cat' (3,) <U13 read-only>\n",
      "<zarr.core.Array '/l1_code' (73347,) int8 read-only>\n",
      "<zarr.core.Array '/l2_cat' (8,) <U14 read-only>\n",
      "<zarr.core.Array '/l2_code' (73347,) int8 read-only>\n",
      "<zarr.core.Array '/l3_cat' (42,) <U15 read-only>\n",
      "<zarr.core.Array '/l3_code' (73347,) int8 read-only>\n",
      "<zarr.core.Array '/l5_cat' (382,) <U23 read-only>\n",
      "<zarr.core.Array '/l5_code' (73347,) int16 read-only>\n",
      "<zarr.core.Array '/num_probe_limit' (45768,) int64 read-only>\n",
      "===\n",
      "<zarr.core.Array '/counts' (66051, 45768) float64 read-only>\n",
      "<zarr.core.Array '/l1_cat' (3,) <U13 read-only>\n",
      "<zarr.core.Array '/l1_code' (66051,) float64 read-only>\n",
      "<zarr.core.Array '/l2_cat' (8,) <U14 read-only>\n",
      "<zarr.core.Array '/l2_code' (66051,) float64 read-only>\n",
      "<zarr.core.Array '/l3_cat' (42,) <U15 read-only>\n",
      "<zarr.core.Array '/l3_code' (66051,) float64 read-only>\n",
      "<zarr.core.Array '/l5_cat' (382,) <U23 read-only>\n",
      "<zarr.core.Array '/l5_code' (66051,) float64 read-only>\n",
      "<zarr.core.Array '/num_probe_limit' (45768,) int64 read-only>\n",
      "===\n"
     ]
    }
   ],
   "source": [
    "z = zarr.open(f_org, mode='r')\n",
    "for key in z.keys():\n",
    "    print(z[key])\n",
    "print(\"===\")\n",
    "    \n",
    "zt = zarr.open(f_trn, mode='r')\n",
    "for key in zt.keys():\n",
    "    print(zt[key])\n",
    "print(\"===\")\n",
    "\n",
    "ztst = zarr.open(f_tst, mode='r')\n",
    "for key in ztst.keys():\n",
    "    print(ztst[key])\n",
    "print(\"===\")\n",
    "\n",
    "\n",
    "z2 = zarr.open(f_org2, mode='r')\n",
    "for key in z2.keys():\n",
    "    print(z2[key])\n",
    "print(\"===\")\n",
    "    \n",
    "zt2 = zarr.open(f_trn2, mode='r')\n",
    "for key in zt2.keys():\n",
    "    print(zt2[key])\n",
    "print(\"===\")"
   ]
  },
  {
   "cell_type": "code",
   "execution_count": 64,
   "id": "c01fc5a3-df1a-4720-9e22-6f399eb216ba",
   "metadata": {},
   "outputs": [
    {
     "data": {
      "text/plain": [
       "(1052217, 116996)"
      ]
     },
     "execution_count": 64,
     "metadata": {},
     "output_type": "execute_result"
    }
   ],
   "source": [
    "size = len(z['counts'])\n",
    "cond_train = np.random.rand(size) < 0.9\n",
    "# cond_train.sum(),(~cond_train).sum()\n",
    "trn_idx = np.arange(size)[cond_train]\n",
    "tst_idx = np.arange(size)[~cond_train]\n",
    "len(trn_idx), len(tst_idx)"
   ]
  },
  {
   "cell_type": "code",
   "execution_count": 35,
   "id": "b6a96c35-597b-4bf6-94c9-6ef39bf93681",
   "metadata": {},
   "outputs": [
    {
     "name": "stdout",
     "output_type": "stream",
     "text": [
      "CPU times: user 31.4 ms, sys: 0 ns, total: 31.4 ms\n",
      "Wall time: 8.06 ms\n"
     ]
    },
    {
     "data": {
      "text/plain": [
       "array([11,  0,  0, ...,  0,  0,  0], dtype=int32)"
      ]
     },
     "execution_count": 35,
     "metadata": {},
     "output_type": "execute_result"
    }
   ],
   "source": [
    "%%time\n",
    "z['counts'].oindex[12356,:]"
   ]
  },
  {
   "cell_type": "code",
   "execution_count": 36,
   "id": "ae6bf569-7a39-4443-976e-103ef5480487",
   "metadata": {},
   "outputs": [
    {
     "name": "stdout",
     "output_type": "stream",
     "text": [
      "CPU times: user 6.36 ms, sys: 6.06 ms, total: 12.4 ms\n",
      "Wall time: 6.23 ms\n"
     ]
    },
    {
     "data": {
      "text/plain": [
       "array([0, 0, 2, ..., 0, 0, 0], dtype=int32)"
      ]
     },
     "execution_count": 36,
     "metadata": {},
     "output_type": "execute_result"
    }
   ],
   "source": [
    "%%time\n",
    "z2['counts'].oindex[12356,:]"
   ]
  },
  {
   "cell_type": "code",
   "execution_count": 53,
   "id": "8a29d28b-0e78-4ead-a3e9-38c6cad33bb4",
   "metadata": {},
   "outputs": [
    {
     "name": "stdout",
     "output_type": "stream",
     "text": [
      "5.338320970535278\n",
      "3.1829171180725098\n",
      "4.032543659210205\n",
      "4.913153886795044\n",
      "CPU times: user 11.2 s, sys: 1.19 s, total: 12.4 s\n",
      "Wall time: 17.5 s\n"
     ]
    }
   ],
   "source": [
    "%%time\n",
    "nsample = 100\n",
    "ti = time.time()\n",
    "for i in range(nsample):\n",
    "    idx = np.random.choice(100000,size=1)\n",
    "    z['counts'].oindex[idx,:]\n",
    "    z['l3_code'].oindex[idx,]\n",
    "print(time.time()-ti)\n",
    "\n",
    "ti = time.time()\n",
    "for i in range(nsample):\n",
    "    idx = np.random.choice(10000,size=1)\n",
    "    z2['counts'].oindex[idx,:]\n",
    "    z2['l3_code'].oindex[idx,]\n",
    "print(time.time()-ti)\n",
    "\n",
    "ti = time.time()\n",
    "for i in range(nsample):\n",
    "    idx = np.random.choice(100000,size=1)\n",
    "    zt['counts'].oindex[idx,:]\n",
    "    zt['l3_code'].oindex[idx,]\n",
    "print(time.time()-ti)\n",
    "\n",
    "ti = time.time()\n",
    "for i in range(nsample):\n",
    "    idx = np.random.choice(10000,size=1)\n",
    "    zt2['counts'].oindex[idx,:]\n",
    "    zt2['l3_code'].oindex[idx,]\n",
    "print(time.time()-ti)"
   ]
  },
  {
   "cell_type": "code",
   "execution_count": 38,
   "id": "96627774-cdc6-48f7-a363-9d8a4d839e3a",
   "metadata": {},
   "outputs": [
    {
     "data": {
      "text/plain": [
       "(<zarr.hierarchy.Group '/' read-only>,\n",
       " ['counts',\n",
       "  'l1_cat',\n",
       "  'l1_code',\n",
       "  'l2_cat',\n",
       "  'l2_code',\n",
       "  'l3_cat',\n",
       "  'l3_code',\n",
       "  'l5_cat',\n",
       "  'l5_code',\n",
       "  'num_probe_limit'],\n",
       " <zarr.hierarchy.Group '/' read-only>,\n",
       " ['counts',\n",
       "  'l1_cat',\n",
       "  'l1_code',\n",
       "  'l2_cat',\n",
       "  'l2_code',\n",
       "  'l3_cat',\n",
       "  'l3_code',\n",
       "  'l5_cat',\n",
       "  'l5_code',\n",
       "  'num_probe_limit'])"
      ]
     },
     "execution_count": 38,
     "metadata": {},
     "output_type": "execute_result"
    }
   ],
   "source": [
    "z_trn = zarr.open(f_trn, mode='r')\n",
    "z_tst = zarr.open(f_tst, mode='r')\n",
    "z_trn, list(z_trn.keys()), z_tst, list(z_tst.keys())"
   ]
  },
  {
   "cell_type": "code",
   "execution_count": 50,
   "id": "984c8c8a-e78d-47aa-8b16-82f32a09a020",
   "metadata": {},
   "outputs": [
    {
     "data": {
      "text/plain": [
       "array([11., 11., 17., 23., 22., 13., 17., 28., 11., 11., 23., 18., 24.,\n",
       "       38., 23., 23., 23., 23., 11., 24., 26., 23., 23., 17., 17.,  2.,\n",
       "       28., 23., 41., 23., 34., 28., 13., 28., 24., 23., 23., 28., 11.,\n",
       "       23., 38., 18., 23., 13., 28., 23., 11., 11., 24., 17., 24., 17.,\n",
       "       23., 23., 18., 23., 34., 39., 18., 23., 17., 24., 41., 24., 18.,\n",
       "       41., 20., 17., 11., 18., 34., 11., 26., 22., 23., 11., 11., 11.,\n",
       "       22., 11., 13., 17., 20., 41., 23., 23., 18., 28., 23., 26., 24.,\n",
       "       11., 38., 17., 23., 18., 24., 28., 11., 11.])"
      ]
     },
     "execution_count": 50,
     "metadata": {},
     "output_type": "execute_result"
    }
   ],
   "source": [
    "zt['l3_code'].oindex[:100]"
   ]
  },
  {
   "cell_type": "code",
   "execution_count": 39,
   "id": "060690ac-5604-4775-86a8-1b0063edc69a",
   "metadata": {},
   "outputs": [
    {
     "data": {
      "text/plain": [
       "array([100, 100, 100, ..., 100, 100, 100], dtype=int32)"
      ]
     },
     "execution_count": 39,
     "metadata": {},
     "output_type": "execute_result"
    }
   ],
   "source": [
    "z_trn['num_probe_limit'][:]"
   ]
  },
  {
   "cell_type": "code",
   "execution_count": 40,
   "id": "008c0d64-19b4-42bd-a953-89eb259b606c",
   "metadata": {},
   "outputs": [
    {
     "name": "stdout",
     "output_type": "stream",
     "text": [
      "CPU times: user 2.77 ms, sys: 2.07 ms, total: 4.83 ms\n",
      "Wall time: 11.8 ms\n"
     ]
    },
    {
     "data": {
      "text/plain": [
       "(array([6.0200e+02, 3.3650e+03, 6.8570e+03, 5.0500e+02, 3.3870e+03,\n",
       "        4.1500e+02, 6.2000e+02, 2.5900e+02, 8.7100e+02, 1.6480e+03,\n",
       "        3.0190e+03, 2.6210e+03, 1.9860e+03, 7.6290e+03, 3.4400e+02,\n",
       "        7.0000e+00, 4.0830e+03, 1.1760e+03, 1.0560e+03, 8.5000e+01,\n",
       "        1.0506e+04, 9.5800e+02, 7.5900e+02, 9.6510e+03]),\n",
       " (24,))"
      ]
     },
     "execution_count": 40,
     "metadata": {},
     "output_type": "execute_result"
    }
   ],
   "source": [
    "%%time\n",
    "y = z_trn['counts'].oindex[975,:]\n",
    "y, y.shape"
   ]
  },
  {
   "cell_type": "code",
   "execution_count": 41,
   "id": "a49a97fb-0da8-4a07-8080-e5dc11e7500d",
   "metadata": {},
   "outputs": [
    {
     "name": "stdout",
     "output_type": "stream",
     "text": [
      "CPU times: user 2.71 ms, sys: 1.98 ms, total: 4.69 ms\n",
      "Wall time: 4.02 ms\n"
     ]
    },
    {
     "data": {
      "text/plain": [
       "(array([ 1474.,  5740., 13134.,  1021.,  5632.,  1386.,   886.,   460.,\n",
       "         1047.,  4762.,  6043.,  5104.,  4258., 10737.,   569.,    39.,\n",
       "         8308.,  2077.,  2559.,   248., 15935.,  1580.,  1976., 13812.]),\n",
       " (24,))"
      ]
     },
     "execution_count": 41,
     "metadata": {},
     "output_type": "execute_result"
    }
   ],
   "source": [
    "%%time\n",
    "y = z_tst['counts'].oindex[975,:]\n",
    "y, y.shape"
   ]
  },
  {
   "cell_type": "code",
   "execution_count": 47,
   "id": "16d03939-a593-42e1-827d-49f006ba7591",
   "metadata": {},
   "outputs": [
    {
     "data": {
      "text/plain": [
       "array([100, 100, 100, 100, 100, 100, 100, 100, 100, 100], dtype=int32)"
      ]
     },
     "execution_count": 47,
     "metadata": {},
     "output_type": "execute_result"
    }
   ],
   "source": [
    "z['num_probe_limit'][:10] #, z_trn['num_probe_limit'][:10], z_tst['num_probe_limit'][:10]"
   ]
  },
  {
   "cell_type": "code",
   "execution_count": null,
   "id": "5169e46f-92d8-4620-983f-b1406c8df5ad",
   "metadata": {},
   "outputs": [],
   "source": []
  }
 ],
 "metadata": {
  "kernelspec": {
   "display_name": "Python 3 (ipykernel)",
   "language": "python",
   "name": "python3"
  },
  "language_info": {
   "codemirror_mode": {
    "name": "ipython",
    "version": 3
   },
   "file_extension": ".py",
   "mimetype": "text/x-python",
   "name": "python",
   "nbconvert_exporter": "python",
   "pygments_lexer": "ipython3",
   "version": "3.9.12"
  }
 },
 "nbformat": 4,
 "nbformat_minor": 5
}
