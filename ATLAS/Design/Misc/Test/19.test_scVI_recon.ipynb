{
 "cells": [
  {
   "cell_type": "code",
   "execution_count": 3,
   "id": "1d35953c-121a-4bb4-82bb-a2f6fd1d4156",
   "metadata": {},
   "outputs": [],
   "source": [
    "import scanpy as sc\n",
    "import anndata\n",
    "import logging\n",
    "import os\n",
    "import numpy as np\n",
    "import pandas as pd\n",
    "import json\n",
    "# import scanpy.external as sce\n",
    "logging.basicConfig(level=logging.INFO)\n",
    "import scvi\n",
    "import torch\n",
    "\n",
    "from sklearn.model_selection import KFold\n",
    "\n",
    "import matplotlib.pyplot as plt\n",
    "import seaborn as sns\n",
    "\n",
    "# from PySpots.fish_helpers import *\n",
    "from dredFISH.Analysis import basicu\n",
    "\n",
    "import importlib\n",
    "importlib.reload(basicu)\n",
    "sc.set_figure_params(figsize=(7, 7))"
   ]
  },
  {
   "cell_type": "code",
   "execution_count": null,
   "id": "bb1c1b61-7d41-4dfd-b0d8-1a8fb20b7b10",
   "metadata": {},
   "outputs": [],
   "source": [
    "logging.info('hi')"
   ]
  },
  {
   "cell_type": "markdown",
   "id": "48af8f0a-6582-418d-a85a-45875be5c27c",
   "metadata": {},
   "source": [
    "# file paths and load data"
   ]
  },
  {
   "cell_type": "code",
   "execution_count": null,
   "id": "7afa0871-bd8f-4743-b300-646287fa7fa6",
   "metadata": {},
   "outputs": [],
   "source": [
    "def get_mse(y_true, y_pred):\n",
    "    \"\"\"\n",
    "    \"\"\"\n",
    "    mse = np.power(y_true-y_pred, 2).mean()\n",
    "    return mse\n",
    "\n",
    "def get_r2(y_true, y_pred):\n",
    "    \"\"\"\n",
    "    \"\"\"\n",
    "    # r2 = 1-(np.power(y_true-y_pred, 2).mean()/np.power(y_true-np.mean(y_true, axis=0), 2).mean())\n",
    "    r2 = 1 - np.linalg.norm(y_true-y_pred)**2/np.linalg.norm(y_true-np.mean(y_true, axis=0))**2\n",
    "    return r2"
   ]
  },
  {
   "cell_type": "code",
   "execution_count": null,
   "id": "d2ce3b27-70bf-474e-8114-70403223c3df",
   "metadata": {},
   "outputs": [],
   "source": [
    "prj_dir = '/bigstore/GeneralStorage/fangming/projects/dredfish/'\n",
    "dat_dir = prj_dir + 'data/'\n",
    "res_dir = prj_dir + 'data_dump/'\n",
    "\n",
    "# allen data\n",
    "# scrna_path = '/bigstore/GeneralStorage/fangming/projects/dredfish/data/rna/scrna_ss_ctxhippo_a_exon_DPNMF_matrix.h5ad'\n",
    "scrna_path = '/bigstore/GeneralStorage/fangming/projects/dredfish/data/rna/scrna_ss_ctxhippo_a_exon_DPNMF_genes_matrix.h5ad'\n",
    "\n",
    "# analysis metadata\n",
    "meta_path = '/bigstore/GeneralStorage/fangming/projects/dredfish/data_dump/analysis_meta_Mar31.json'"
   ]
  },
  {
   "cell_type": "code",
   "execution_count": null,
   "id": "e3ddd1fb-7e73-462d-9501-1ef999f910f1",
   "metadata": {},
   "outputs": [],
   "source": [
    "# allen scrna matrix\n",
    "ref_data = anndata.read_h5ad(scrna_path)\n",
    "\n",
    "# analysis\n",
    "with open(meta_path, 'r') as fh:\n",
    "    meta = json.load(fh)\n",
    "ref_data"
   ]
  },
  {
   "cell_type": "code",
   "execution_count": null,
   "id": "a2f206a3-3962-440d-a9c7-64424bc6c06f",
   "metadata": {},
   "outputs": [],
   "source": [
    "ref_data.obs = ref_data.obs.rename({\n",
    "                                    'class_label': 'Level_1_class_label',\n",
    "                                    'neighborhood_label': 'Level_2_neighborhood_label',\n",
    "                                    'subclass_label': 'Level_3_subclass_label',\n",
    "                                    'cluster_label': 'Level_5_cluster_label',\n",
    "                                    }, axis=1)\n",
    "ref_data"
   ]
  },
  {
   "cell_type": "code",
   "execution_count": null,
   "id": "a0b63a68-ff73-4abc-9e2b-c9232b93954b",
   "metadata": {},
   "outputs": [],
   "source": [
    "adata = ref_data.copy()\n",
    "X = adata.X.todense().astype(int) # within the support of Poisson\n",
    "adata.X = X \n",
    "adata"
   ]
  },
  {
   "cell_type": "code",
   "execution_count": 9,
   "id": "9c5ab4d3-f348-48af-9848-f265ffa8080c",
   "metadata": {},
   "outputs": [
    {
     "name": "stderr",
     "output_type": "stream",
     "text": [
      "INFO:absl:Unable to initialize backend 'tpu_driver': NOT_FOUND: Unable to find driver in registry given worker: \n",
      "INFO:absl:Unable to initialize backend 'gpu': NOT_FOUND: Could not find registered platform with name: \"cuda\". Available platform names are: Host Interpreter\n",
      "INFO:absl:Unable to initialize backend 'tpu': INVALID_ARGUMENT: TpuPlatform is not available.\n",
      "INFO:torch.distributed.nn.jit.instantiator:Created a temporary directory at /tmp/tmpap9a8yfn\n",
      "INFO:torch.distributed.nn.jit.instantiator:Writing /tmp/tmpap9a8yfn/_remote_module_non_sriptable.py\n",
      "/home/fangming/anaconda3/envs/scvi_v3p9/lib/python3.9/site-packages/torch/cuda/__init__.py:82: UserWarning:\n",
      "\n",
      "CUDA initialization: Unexpected error from cudaGetDeviceCount(). Did you run some cuda functions before calling NumCudaDevices() that might have already set an error? Error 803: system has unsupported display driver / cuda driver combination (Triggered internally at  /opt/conda/conda-bld/pytorch_1646755849709/work/c10/cuda/CUDAFunctions.cpp:112.)\n",
      "\n",
      "INFO:pytorch_lightning.utilities.distributed:GPU available: False, used: False\n",
      "INFO:pytorch_lightning.utilities.distributed:TPU available: False, using: 0 TPU cores\n",
      "INFO:pytorch_lightning.utilities.distributed:IPU available: False, using: 0 IPUs\n"
     ]
    },
    {
     "name": "stdout",
     "output_type": "stream",
     "text": [
      "Epoch 218/218: 100%|██████████| 218/218 [1:31:50<00:00, 25.28s/it, loss=9.19e+04, v_num=1]\n",
      "\u001b[34mINFO    \u001b[0m Input AnnData not setup with scvi-tools. attempting to transfer AnnData setup       \n",
      "MSE=0.41996644892913415, r2=-0.07499887230838032\n",
      "CPU times: user 1d 23h 35min 50s, sys: 1h 35min 7s, total: 2d 1h 10min 57s\n",
      "Wall time: 1h 33min 22s\n"
     ]
    }
   ],
   "source": [
    "# split and test\n",
    "np.random.seed(0)\n",
    "n_latents = [10, 20, 50, 128]\n",
    "for n_latent in n_latents: \n",
    "    n_splits = 5\n",
    "    kf = KFold(n_splits=n_splits, shuffle=True)\n",
    "    for train_idx, test_idx in kf.split(X):\n",
    "        adata_train = adata[train_idx].copy()\n",
    "        adata_test = adata[test_idx].copy()\n",
    "\n",
    "        # model\n",
    "        scvi.model.SCVI.setup_anndata(adata_train, layer=None, batch_key=None)\n",
    "        vae = scvi.model.SCVI(adata_train, \n",
    "                              n_hidden=128,\n",
    "                              n_latent=n_latent, \n",
    "                              n_layers=2, \n",
    "                              gene_likelihood=\"poisson\")\n",
    "\n",
    "        # train\n",
    "        # vae.train(max_epochs=3)\n",
    "        vae.train(max_epochs=3)\n",
    "\n",
    "        # test\n",
    "        # z = vae.get_latent_representation()\n",
    "        # rho_scvi = vae.get_normalized_expression() # fraction of gene expression for each cell (sums to 1)\n",
    "        # Xhat = vae.posterior_predictive_sample()\n",
    "        Xhat_test = vae.posterior_predictive_sample(adata=adata_test)\n",
    "\n",
    "        # eval\n",
    "        X_test = adata_test.X\n",
    "        Xn_test = np.log10(X_test+1)\n",
    "        Xhatn_test = np.log10(Xhat_test+1)\n",
    "        mse = get_mse(Xn_test, Xhatn_test) \n",
    "        r2 = get_r2(Xn_test, Xhatn_test)\n",
    "\n",
    "        print(f\"n_latent={n_latent}, MSE={mse}, r2={r2}\")\n",
    "        \n",
    "        # save\n",
    "        output_model_dir = f'/bigstore/GeneralStorage/fangming/projects/dredfish/data_dump/scvi_model_nz{n_latent}_May24'\n",
    "        prefix = ''\n",
    "        vae.save(output_model_dir, prefix, overwrite=True, save_anndata=True)\n",
    "        break"
   ]
  },
  {
   "cell_type": "code",
   "execution_count": 11,
   "id": "a502e177-6068-4403-be7d-cfc9783b2477",
   "metadata": {},
   "outputs": [
    {
     "name": "stdout",
     "output_type": "stream",
     "text": [
      "\u001b[34mINFO    \u001b[0m File \u001b[35m/bigstore/GeneralStorage/fangming/projects/dredfish/data/rna/scvi_model_halfdat\u001b[0m\n",
      "         \u001b[35ma_April21/\u001b[0m\u001b[95mmodel.pt\u001b[0m already downloaded                                               \n"
     ]
    },
    {
     "data": {
      "text/html": [
       "<pre style=\"white-space:pre;overflow-x:auto;line-height:normal;font-family:Menlo,'DejaVu Sans Mono',consolas,'Courier New',monospace\">SCVI Model with the following params: \n",
       "n_hidden: <span style=\"color: #008080; text-decoration-color: #008080; font-weight: bold\">128</span>, n_latent: <span style=\"color: #008080; text-decoration-color: #008080; font-weight: bold\">10</span>, n_layers: <span style=\"color: #008080; text-decoration-color: #008080; font-weight: bold\">2</span>, dropout_rate: <span style=\"color: #008080; text-decoration-color: #008080; font-weight: bold\">0.1</span>, dispersion: gene, \n",
       "gene_likelihood: poisson, latent_distribution: normal\n",
       "Training status: Trained\n",
       "</pre>\n"
      ],
      "text/plain": [
       "SCVI Model with the following params: \n",
       "n_hidden: \u001b[1;36m128\u001b[0m, n_latent: \u001b[1;36m10\u001b[0m, n_layers: \u001b[1;36m2\u001b[0m, dropout_rate: \u001b[1;36m0.1\u001b[0m, dispersion: gene, \n",
       "gene_likelihood: poisson, latent_distribution: normal\n",
       "Training status: Trained\n"
      ]
     },
     "metadata": {},
     "output_type": "display_data"
    },
    {
     "data": {
      "text/plain": []
     },
     "execution_count": 11,
     "metadata": {},
     "output_type": "execute_result"
    }
   ],
   "source": [
    "# # test reload\n",
    "# vae2 = scvi.model.SCVI.load(dir_path=output_model_dir, prefix=prefix) # need adata?\n",
    "# vae2"
   ]
  }
 ],
 "metadata": {
  "kernelspec": {
   "display_name": "Python 3 (ipykernel)",
   "language": "python",
   "name": "python3"
  },
  "language_info": {
   "codemirror_mode": {
    "name": "ipython",
    "version": 3
   },
   "file_extension": ".py",
   "mimetype": "text/x-python",
   "name": "python",
   "nbconvert_exporter": "python",
   "pygments_lexer": "ipython3",
   "version": "3.9.12"
  }
 },
 "nbformat": 4,
 "nbformat_minor": 5
}
