{
 "cells": [
  {
   "cell_type": "code",
   "execution_count": 1,
   "id": "add86620-4fae-4fc6-9be7-4aa8019d3d32",
   "metadata": {},
   "outputs": [],
   "source": [
    "import numpy as np\n",
    "import pandas as pd\n",
    "from Bio import SeqIO\n",
    "import Bio.SeqUtils.MeltingTemp as mt\n",
    "\n",
    "from dredFISH.Utils.__init__plots import *"
   ]
  },
  {
   "cell_type": "code",
   "execution_count": 2,
   "id": "0831b58b-cbde-4138-a6ad-5765fa7841fe",
   "metadata": {},
   "outputs": [],
   "source": [
    "def parse_encoding(seq, option='+'):\n",
    "    # P1-R-a-E-a-R-a-R-P2\n",
    "    breakpoints = np.array([0, 20, 40, 41, 71, 72, 92, 93, 113, 133])\n",
    "    if option == '+': # 1R-2R\n",
    "        bp = breakpoints\n",
    "        \n",
    "        p1 = seq[bp[0]:bp[1]]\n",
    "        R1 = seq[bp[1]:bp[2]]\n",
    "        s1 = seq[bp[2]:bp[3]]\n",
    "        E  = seq[bp[3]:bp[4]]\n",
    "        s2 = seq[bp[4]:bp[5]]\n",
    "        R2 = seq[bp[5]:bp[6]]\n",
    "        s3 = seq[bp[6]:bp[7]]\n",
    "        R3 = seq[bp[7]:bp[8]]\n",
    "        p2 = seq[bp[8]:bp[9]]\n",
    "        \n",
    "        return E, R1, R2, R3, p1, p2, s1, s2, s3,  \n",
    "        \n",
    "    if option == '-': # 2R-1R\n",
    "        bp = (133 - breakpoints)[::-1]\n",
    "    \n",
    "        p1 = seq[bp[0]:bp[1]]\n",
    "        R1 = seq[bp[1]:bp[2]]\n",
    "        s1 = seq[bp[2]:bp[3]]\n",
    "        R2 = seq[bp[3]:bp[4]]\n",
    "        s2 = seq[bp[4]:bp[5]]\n",
    "        E  = seq[bp[5]:bp[6]]\n",
    "        s3 = seq[bp[6]:bp[7]]\n",
    "        R3 = seq[bp[7]:bp[8]]\n",
    "        p2 = seq[bp[8]:bp[9]]\n",
    "        \n",
    "        return E, R1, R2, R3, p1, p2, s1, s2, s3,  "
   ]
  },
  {
   "cell_type": "code",
   "execution_count": 3,
   "id": "53f36aec-bad4-4d56-bf3a-5ed4e377a462",
   "metadata": {},
   "outputs": [],
   "source": [
    "def recalc_tm(seq, fmd=0, Na=1e-5, dnac1=0, dnac2=0):\n",
    "    \"\"\"\n",
    "    \"\"\"\n",
    "    res = mt.Tm_NN(seq, Na=Na, dnac1=dnac1, dnac2=dnac2)\n",
    "    res = mt.chem_correction(res, fmd=fmd)\n",
    "    return res\n",
    "    \n",
    "def get_gc(seq):\n",
    "    \"\"\"\n",
    "    \"\"\"\n",
    "    return (seq.count('G') + seq.count('C'))/len(seq)"
   ]
  },
  {
   "cell_type": "code",
   "execution_count": 4,
   "id": "b0cbf698-30d9-476a-9a8b-6b8aaa43e48d",
   "metadata": {},
   "outputs": [],
   "source": [
    "f = \"/bigstore/binfo/Probe_Sets/dredFISH_Final_Oligos.fasta\"\n",
    "resall = []\n",
    "# encseqs = []\n",
    "# rdtseqs = []\n",
    "# rdtnames = []\n",
    "p1seqs = []\n",
    "p1names = []\n",
    "p2seqs = []\n",
    "p2names = []\n",
    "for i, record in enumerate(SeqIO.parse(f, \"fasta\")):\n",
    "    seq = record.seq\n",
    "    dsp = record.description\n",
    "    \n",
    "    if dsp.split(' ')[4].startswith('RS'):\n",
    "        option = '-' # R[R]ER\n",
    "    else:\n",
    "        option = '+' # R[E]RR\n",
    "        \n",
    "    E, R1,R2,R3, p1,p2, s1,s2,s3 = parse_encoding(seq, option=option)\n",
    "    if (str(s1),str(s2),str(s3)) == ('A', 'A', 'A'):\n",
    "        pass\n",
    "    else:\n",
    "        print(s1,s2,s3)\n",
    "        break\n",
    "    assert R1 == R2\n",
    "    assert R1 == R3\n",
    "    \n",
    "    p1names.append(dsp.split(' ')[1])\n",
    "    p2names.append(dsp.split(' ')[-1])\n",
    "    p1seqs.append(str(p1))\n",
    "    p2seqs.append(str(p2))\n",
    "    # # encseqs.append(str(E))\n",
    "    # rdtseqs.append(str(R1))\n",
    "    # rdtnames.append(dsp.split(' ')[3])\n",
    "    \n",
    "    # if i > 100:\n",
    "    #     break\n",
    "    # break"
   ]
  },
  {
   "cell_type": "code",
   "execution_count": 5,
   "id": "bdf1b6d8-ee7a-495f-a26e-eabe2bc31f52",
   "metadata": {},
   "outputs": [
    {
     "data": {
      "text/plain": [
       "(array(['TGGCCGTCGATTCCGTGAAT'], dtype='<U20'),\n",
       " array(['GCAGAATTTCCTGGTGCGGG'], dtype='<U20'))"
      ]
     },
     "execution_count": 5,
     "metadata": {},
     "output_type": "execute_result"
    }
   ],
   "source": [
    "np.unique(p1seqs), np.unique(p2seqs)"
   ]
  },
  {
   "cell_type": "code",
   "execution_count": 6,
   "id": "c1dde7c5-268b-470f-820e-12e17cd9cf07",
   "metadata": {},
   "outputs": [
    {
     "data": {
      "text/plain": [
       "(array(['1a5a811b-004'], dtype='<U12'), array(['1a5a811b-001'], dtype='<U12'))"
      ]
     },
     "execution_count": 6,
     "metadata": {},
     "output_type": "execute_result"
    }
   ],
   "source": [
    "np.unique(p1names), np.unique(p2names)"
   ]
  },
  {
   "cell_type": "markdown",
   "id": "f157bb76-ea38-4054-80fe-414a2b8d19f0",
   "metadata": {},
   "source": [
    "# 2 "
   ]
  },
  {
   "cell_type": "code",
   "execution_count": 7,
   "id": "f007fb09-718b-4177-91b8-e5413b68d679",
   "metadata": {},
   "outputs": [],
   "source": [
    "f = \"/bigstore/binfo/Probe_Sets/dredFISH_NN_Final_Oligos.fasta\"\n",
    "resall = []\n",
    "# encseqs = []\n",
    "# rdtseqs = []\n",
    "# rdtnames = []\n",
    "p1seqs = []\n",
    "p1names = []\n",
    "p2seqs = []\n",
    "p2names = []\n",
    "for i, record in enumerate(SeqIO.parse(f, \"fasta\")):\n",
    "    seq = record.seq\n",
    "    dsp = record.description\n",
    "    \n",
    "    p1 = seq[:20]\n",
    "    p2 = seq[-20:]\n",
    "    \n",
    "    p1names.append(dsp.split(' ')[1])\n",
    "    p2names.append(dsp.split(' ')[-1])\n",
    "    \n",
    "    p1seqs.append(str(p1))\n",
    "    p2seqs.append(str(p2))\n",
    "    \n",
    "    # break"
   ]
  },
  {
   "cell_type": "code",
   "execution_count": 8,
   "id": "ff5614ea-2412-400d-92a8-c14ec3961bc1",
   "metadata": {},
   "outputs": [
    {
     "data": {
      "text/plain": [
       "(array(['GAGCAAGAAACCCTGCCGCT'], dtype='<U20'),\n",
       " array(['GGACAGTCCTAACAGCGCCG'], dtype='<U20'))"
      ]
     },
     "execution_count": 8,
     "metadata": {},
     "output_type": "execute_result"
    }
   ],
   "source": [
    "np.unique(p1seqs), np.unique(p2seqs)"
   ]
  },
  {
   "cell_type": "code",
   "execution_count": 9,
   "id": "3c59582f-d440-429b-9ceb-9a599515a76a",
   "metadata": {},
   "outputs": [
    {
     "data": {
      "text/plain": [
       "(array(['335b83a1-003'], dtype='<U12'), array(['335b83a1-001'], dtype='<U12'))"
      ]
     },
     "execution_count": 9,
     "metadata": {},
     "output_type": "execute_result"
    }
   ],
   "source": [
    "np.unique(p1names), np.unique(p2names)"
   ]
  },
  {
   "cell_type": "markdown",
   "id": "467953fb-0eb9-46f6-bd12-79ccdbd1761f",
   "metadata": {},
   "source": [
    "# 3"
   ]
  },
  {
   "cell_type": "code",
   "execution_count": 10,
   "id": "98faef1d-718e-4633-bfb1-a8ede255af91",
   "metadata": {},
   "outputs": [],
   "source": [
    "f = \"/bigstore/binfo/Probe_Sets/Validation_Final_oligos.fasta\"\n",
    "resall = []\n",
    "# encseqs = []\n",
    "# rdtseqs = []\n",
    "# rdtnames = []\n",
    "p1seqs = []\n",
    "p1names = []\n",
    "p2seqs = []\n",
    "p2names = []\n",
    "for i, record in enumerate(SeqIO.parse(f, \"fasta\")):\n",
    "    seq = record.seq\n",
    "    dsp = record.description\n",
    "    \n",
    "    p1 = seq[:20]\n",
    "    p2 = seq[-20:]\n",
    "    \n",
    "    p1names.append(dsp.split(' ')[1])\n",
    "    p2names.append(dsp.split(' ')[-1])\n",
    "    \n",
    "    p1seqs.append(str(p1))\n",
    "    p2seqs.append(str(p2))\n",
    "    \n",
    "    # break"
   ]
  },
  {
   "cell_type": "code",
   "execution_count": 11,
   "id": "9a01e6b3-6eb1-451c-8a39-264c3eb88437",
   "metadata": {},
   "outputs": [
    {
     "data": {
      "text/plain": [
       "(array(['GGCAACCTGAGTGGAGGAGC'], dtype='<U20'),\n",
       " array(['GCGGTTGCGAGGCTCTTCTT'], dtype='<U20'))"
      ]
     },
     "execution_count": 11,
     "metadata": {},
     "output_type": "execute_result"
    }
   ],
   "source": [
    "np.unique(p1seqs), np.unique(p2seqs)"
   ]
  },
  {
   "cell_type": "code",
   "execution_count": 12,
   "id": "97713372-b261-4390-b081-e0dc618bd022",
   "metadata": {},
   "outputs": [
    {
     "data": {
      "text/plain": [
       "(array(['033db7eb-01'], dtype='<U11'), array(['033db7eb-02'], dtype='<U11'))"
      ]
     },
     "execution_count": 12,
     "metadata": {},
     "output_type": "execute_result"
    }
   ],
   "source": [
    "np.unique(p1names), np.unique(p2names)"
   ]
  },
  {
   "cell_type": "code",
   "execution_count": null,
   "id": "393f124e-34de-4793-911a-840f801b5cb6",
   "metadata": {},
   "outputs": [],
   "source": []
  }
 ],
 "metadata": {
  "kernelspec": {
   "display_name": "Python 3 (ipykernel)",
   "language": "python",
   "name": "python3"
  },
  "language_info": {
   "codemirror_mode": {
    "name": "ipython",
    "version": 3
   },
   "file_extension": ".py",
   "mimetype": "text/x-python",
   "name": "python",
   "nbconvert_exporter": "python",
   "pygments_lexer": "ipython3",
   "version": "3.10.2"
  }
 },
 "nbformat": 4,
 "nbformat_minor": 5
}
