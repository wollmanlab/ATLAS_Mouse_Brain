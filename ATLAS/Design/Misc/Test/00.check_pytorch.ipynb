{
 "cells": [
  {
   "cell_type": "code",
   "execution_count": 2,
   "id": "18d7da7d-aa3f-40d1-8e33-b8a4b0f3e3e2",
   "metadata": {},
   "outputs": [],
   "source": [
    "import numpy as np\n",
    "import torch\n",
    "import torch.nn as nn\n",
    "from scipy import sparse\n",
    "from scipy.spatial import cKDTree\n",
    "import matplotlib.pyplot as plt"
   ]
  },
  {
   "cell_type": "code",
   "execution_count": 24,
   "id": "e8008988-9352-4e1d-9149-69a883671452",
   "metadata": {},
   "outputs": [
    {
     "data": {
      "text/plain": [
       "tensor([[-1.2293, -0.5155, -0.6905,  1.2327,  1.1107],\n",
       "        [-1.1506,  0.9750,  0.4426, -0.8144, -1.1218],\n",
       "        [-0.0499, -0.5111,  0.3017,  0.6251,  0.5436],\n",
       "        [ 0.0792,  1.1404, -0.5099,  0.1341, -1.7320],\n",
       "        [ 0.4275, -1.7578,  0.1583, -1.3798, -1.9259]], dtype=torch.float64)"
      ]
     },
     "execution_count": 24,
     "metadata": {},
     "output_type": "execute_result"
    }
   ],
   "source": [
    "a = np.random.randn(5,5)\n",
    "a = torch.from_numpy(a)\n",
    "a"
   ]
  },
  {
   "cell_type": "code",
   "execution_count": 77,
   "id": "906b45ba-39e9-4899-b6d2-007b57e89344",
   "metadata": {},
   "outputs": [
    {
     "data": {
      "text/plain": [
       "tensor([[1.5112e+00, 2.6573e-01, 4.7685e-01, 1.5196e+00, 1.2337e+00],\n",
       "        [1.3238e+00, 9.5069e-01, 1.9591e-01, 6.6320e-01, 1.2583e+00],\n",
       "        [2.4897e-03, 2.6119e-01, 9.0997e-02, 3.9075e-01, 2.9550e-01],\n",
       "        [6.2669e-03, 1.3004e+00, 2.6000e-01, 1.7978e-02, 2.9997e+00],\n",
       "        [1.8276e-01, 3.0900e+00, 2.5072e-02, 1.9039e+00, 3.7090e+00]],\n",
       "       dtype=torch.float64)"
      ]
     },
     "execution_count": 77,
     "metadata": {},
     "output_type": "execute_result"
    }
   ],
   "source": [
    "a.square()"
   ]
  },
  {
   "cell_type": "code",
   "execution_count": 75,
   "id": "7637dd7f-8efe-468a-8a9f-4307dfd157b3",
   "metadata": {},
   "outputs": [
    {
     "data": {
      "text/plain": [
       "tensor([[-0.0000, -0.0000, -0.6905,  0.0000,  0.0000],\n",
       "        [-0.0000,  0.0000,  0.4426, -0.0000, -0.0000],\n",
       "        [-0.0000, -0.0000,  0.3017,  0.0000,  0.0000],\n",
       "        [ 0.0000,  0.0000, -0.5099,  0.0000, -0.0000],\n",
       "        [ 0.0000, -0.0000,  0.1583, -0.0000, -0.0000]], dtype=torch.float64)"
      ]
     },
     "execution_count": 75,
     "metadata": {},
     "output_type": "execute_result"
    }
   ],
   "source": [
    "nn.Dropout2d(p=0.5)(a.T).T*0.5"
   ]
  },
  {
   "cell_type": "code",
   "execution_count": 66,
   "id": "1956961f-687e-422a-89f9-9d4ff63e015f",
   "metadata": {},
   "outputs": [
    {
     "data": {
      "text/plain": [
       "tensor([[-1.2293, -0.5155, -0.6905,  1.2327,  1.1107],\n",
       "        [-1.1506,  0.9750,  0.4426, -0.8144, -1.1218],\n",
       "        [-0.0499, -0.5111,  0.3017,  0.6251,  0.5436],\n",
       "        [ 0.0792,  1.1404, -0.5099,  0.1341, -1.7320],\n",
       "        [ 0.0000, -0.0000,  0.0000, -0.0000, -0.0000]], dtype=torch.float64)"
      ]
     },
     "execution_count": 66,
     "metadata": {},
     "output_type": "execute_result"
    }
   ],
   "source": [
    "b = torch.reshape(a, (5,5,1))\n",
    "(nn.Dropout2d(p=0.5)(b)*0.5)[:,:,0]"
   ]
  },
  {
   "cell_type": "code",
   "execution_count": null,
   "id": "aec13796-b1f7-4ac9-a723-2a52ec25edbf",
   "metadata": {},
   "outputs": [],
   "source": []
  },
  {
   "cell_type": "code",
   "execution_count": null,
   "id": "df92c316-209d-4216-82cf-ae718081952a",
   "metadata": {},
   "outputs": [],
   "source": []
  },
  {
   "cell_type": "code",
   "execution_count": 19,
   "id": "c94794f9-61ff-4825-a025-a087cc2c8cda",
   "metadata": {},
   "outputs": [
    {
     "data": {
      "text/plain": [
       "tensor(63.9107, dtype=torch.float64)"
      ]
     },
     "execution_count": 19,
     "metadata": {},
     "output_type": "execute_result"
    }
   ],
   "source": [
    "torch.linalg.vector_norm(a, ord=0.5)\n"
   ]
  },
  {
   "cell_type": "code",
   "execution_count": 18,
   "id": "bf6277c4-1d03-4e20-975f-b01a111a8b02",
   "metadata": {},
   "outputs": [
    {
     "data": {
      "text/plain": [
       "tensor(63.9107, dtype=torch.float64)"
      ]
     },
     "execution_count": 18,
     "metadata": {},
     "output_type": "execute_result"
    }
   ],
   "source": [
    "a.abs().sqrt().sum().square()"
   ]
  },
  {
   "cell_type": "code",
   "execution_count": 21,
   "id": "794db834-c802-4858-bf1b-07a0dc1067a8",
   "metadata": {},
   "outputs": [
    {
     "data": {
      "text/plain": [
       "tensor(0.8883, dtype=torch.float64)"
      ]
     },
     "execution_count": 21,
     "metadata": {},
     "output_type": "execute_result"
    }
   ],
   "source": [
    "a.abs().sqrt().mean()"
   ]
  },
  {
   "cell_type": "code",
   "execution_count": 78,
   "id": "9303bf4a-d105-4896-be25-d9a13f7f174f",
   "metadata": {},
   "outputs": [
    {
     "data": {
      "text/plain": [
       "Parameter containing:\n",
       "tensor([[-1.7015,  0.9601,  1.3410],\n",
       "        [ 0.1451,  1.9209, -0.6823],\n",
       "        [-0.5052,  1.0389, -0.8035],\n",
       "        [ 0.1943,  0.2546, -1.3593],\n",
       "        [-0.5392, -0.6962, -0.0749]], requires_grad=True)"
      ]
     },
     "execution_count": 78,
     "metadata": {},
     "output_type": "execute_result"
    }
   ],
   "source": [
    "b = nn.Embedding(5,3).weight\n",
    "b"
   ]
  },
  {
   "cell_type": "code",
   "execution_count": 79,
   "id": "29f2a2c1-0d9a-40aa-a5e5-cf852e3ae798",
   "metadata": {},
   "outputs": [
    {
     "data": {
      "text/plain": [
       "tensor(1.5836, grad_fn=<MeanBackward0>)"
      ]
     },
     "execution_count": 79,
     "metadata": {},
     "output_type": "execute_result"
    }
   ],
   "source": [
    "b.exp().mean()"
   ]
  },
  {
   "cell_type": "code",
   "execution_count": 89,
   "id": "b869d9cd-7cd2-4dae-8172-739e74739ebe",
   "metadata": {},
   "outputs": [
    {
     "data": {
      "text/plain": [
       "tensor([[2.8951, 0.9217, 1.7984],\n",
       "        [0.0211, 3.6899, 0.4656],\n",
       "        [0.2552, 1.0793, 0.6457],\n",
       "        [0.0378, 0.0648, 1.8476],\n",
       "        [0.2907, 0.4847, 0.0056]], grad_fn=<PowBackward0>)"
      ]
     },
     "execution_count": 89,
     "metadata": {},
     "output_type": "execute_result"
    }
   ],
   "source": [
    "b.square()"
   ]
  },
  {
   "cell_type": "code",
   "execution_count": 82,
   "id": "bb28c705-0cb6-4785-8c6b-95ce64fe4b3b",
   "metadata": {},
   "outputs": [
    {
     "data": {
      "text/plain": [
       "tensor([[2.8951, 0.9217, 1.7984],\n",
       "        [0.0211, 3.6899, 0.4656],\n",
       "        [0.2552, 1.0793, 0.6457],\n",
       "        [0.0378, 0.0648, 1.8476],\n",
       "        [0.2907, 0.4847, 0.0056]], grad_fn=<PowBackward0>)"
      ]
     },
     "execution_count": 82,
     "metadata": {},
     "output_type": "execute_result"
    }
   ],
   "source": [
    "b**2"
   ]
  },
  {
   "cell_type": "code",
   "execution_count": 83,
   "id": "15fc8a26-e9c9-48a4-add6-eac295d02646",
   "metadata": {},
   "outputs": [
    {
     "data": {
      "text/plain": [
       "tensor([[-0.0000,  0.0000,  0.0000],\n",
       "        [ 0.2902,  3.8418, -1.3647],\n",
       "        [-0.0000,  0.0000, -0.0000],\n",
       "        [ 0.0000,  0.0000, -0.0000],\n",
       "        [-0.0000, -0.0000, -0.0000]], grad_fn=<SqueezeBackward1>)"
      ]
     },
     "execution_count": 83,
     "metadata": {},
     "output_type": "execute_result"
    }
   ],
   "source": [
    "nn.Dropout2d(p=0.5)(b) #(a.T).T*0.5"
   ]
  },
  {
   "cell_type": "code",
   "execution_count": 98,
   "id": "fc57d629-2f01-4865-af8c-52430ddd053e",
   "metadata": {},
   "outputs": [
    {
     "data": {
      "text/plain": [
       "tensor([[-1.8906,  0.0000,  1.4900],\n",
       "        [ 0.1612,  2.1343, -0.7582],\n",
       "        [-0.5613,  1.1543, -0.8928],\n",
       "        [ 0.2159,  0.2829, -1.5103],\n",
       "        [-0.5991, -0.7736, -0.0832]], grad_fn=<MulBackward0>)"
      ]
     },
     "execution_count": 98,
     "metadata": {},
     "output_type": "execute_result"
    }
   ],
   "source": [
    "(nn.Dropout(0.1)(b))"
   ]
  },
  {
   "cell_type": "code",
   "execution_count": null,
   "id": "62e3e186-9174-4fe9-a8f0-f72df2fcb04d",
   "metadata": {},
   "outputs": [],
   "source": []
  }
 ],
 "metadata": {
  "kernelspec": {
   "display_name": "Python 3 (ipykernel)",
   "language": "python",
   "name": "python3"
  },
  "language_info": {
   "codemirror_mode": {
    "name": "ipython",
    "version": 3
   },
   "file_extension": ".py",
   "mimetype": "text/x-python",
   "name": "python",
   "nbconvert_exporter": "python",
   "pygments_lexer": "ipython3",
   "version": "3.10.2"
  }
 },
 "nbformat": 4,
 "nbformat_minor": 5
}
