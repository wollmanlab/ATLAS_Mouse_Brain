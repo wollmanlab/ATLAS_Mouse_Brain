{
 "cells": [
  {
   "cell_type": "code",
   "execution_count": 2,
   "id": "18bff986-e1dc-4f2c-ae4d-abbae0f11350",
   "metadata": {},
   "outputs": [],
   "source": [
    "import numpy as np\n",
    "import pandas as pd\n",
    "import torch\n",
    "import zarr\n",
    "import os\n",
    "import matplotlib.pyplot as plt\n",
    "\n",
    "from dredFISH.Utils import basicu"
   ]
  },
  {
   "cell_type": "code",
   "execution_count": 2,
   "id": "28410009-f221-4fd5-9b2d-d72ee5bac89d",
   "metadata": {},
   "outputs": [
    {
     "data": {
      "text/html": [
       "<div>\n",
       "<style scoped>\n",
       "    .dataframe tbody tr th:only-of-type {\n",
       "        vertical-align: middle;\n",
       "    }\n",
       "\n",
       "    .dataframe tbody tr th {\n",
       "        vertical-align: top;\n",
       "    }\n",
       "\n",
       "    .dataframe thead th {\n",
       "        text-align: right;\n",
       "    }\n",
       "</style>\n",
       "<table border=\"1\" class=\"dataframe\">\n",
       "  <thead>\n",
       "    <tr style=\"text-align: right;\">\n",
       "      <th></th>\n",
       "      <th>0</th>\n",
       "      <th>1</th>\n",
       "    </tr>\n",
       "  </thead>\n",
       "  <tbody>\n",
       "    <tr>\n",
       "      <th>0</th>\n",
       "      <td>0610005C13Rik</td>\n",
       "      <td>22</td>\n",
       "    </tr>\n",
       "    <tr>\n",
       "      <th>1</th>\n",
       "      <td>0610009B22Rik</td>\n",
       "      <td>8</td>\n",
       "    </tr>\n",
       "    <tr>\n",
       "      <th>2</th>\n",
       "      <td>0610009E02Rik</td>\n",
       "      <td>9</td>\n",
       "    </tr>\n",
       "    <tr>\n",
       "      <th>3</th>\n",
       "      <td>0610009L18Rik</td>\n",
       "      <td>10</td>\n",
       "    </tr>\n",
       "    <tr>\n",
       "      <th>4</th>\n",
       "      <td>0610010F05Rik</td>\n",
       "      <td>21</td>\n",
       "    </tr>\n",
       "    <tr>\n",
       "      <th>...</th>\n",
       "      <td>...</td>\n",
       "      <td>...</td>\n",
       "    </tr>\n",
       "    <tr>\n",
       "      <th>23373</th>\n",
       "      <td>Zyx</td>\n",
       "      <td>33</td>\n",
       "    </tr>\n",
       "    <tr>\n",
       "      <th>23374</th>\n",
       "      <td>Zzef1</td>\n",
       "      <td>214</td>\n",
       "    </tr>\n",
       "    <tr>\n",
       "      <th>23375</th>\n",
       "      <td>Zzz3</td>\n",
       "      <td>55</td>\n",
       "    </tr>\n",
       "    <tr>\n",
       "      <th>23376</th>\n",
       "      <td>a</td>\n",
       "      <td>10</td>\n",
       "    </tr>\n",
       "    <tr>\n",
       "      <th>23377</th>\n",
       "      <td>ccdc198</td>\n",
       "      <td>19</td>\n",
       "    </tr>\n",
       "  </tbody>\n",
       "</table>\n",
       "<p>23378 rows × 2 columns</p>\n",
       "</div>"
      ],
      "text/plain": [
       "                   0    1\n",
       "0      0610005C13Rik   22\n",
       "1      0610009B22Rik    8\n",
       "2      0610009E02Rik    9\n",
       "3      0610009L18Rik   10\n",
       "4      0610010F05Rik   21\n",
       "...              ...  ...\n",
       "23373            Zyx   33\n",
       "23374          Zzef1  214\n",
       "23375           Zzz3   55\n",
       "23376              a   10\n",
       "23377        ccdc198   19\n",
       "\n",
       "[23378 rows x 2 columns]"
      ]
     },
     "execution_count": 2,
     "metadata": {},
     "output_type": "execute_result"
    }
   ],
   "source": [
    "# f = \"/bigstore/GeneralStorage/fangming/projects/dredfish/data/paintshop/mm10_isoflat_counts.csv\"\n",
    "f = \"/bigstore/GeneralStorage/fangming/projects/dredfish/data/paintshop/mm10_isoflat_counts_filtered_Oct26.csv\"\n",
    "pshop = pd.read_csv(f, header=None)\n",
    "genes_pshp = pshop[0].values\n",
    "pshop"
   ]
  },
  {
   "cell_type": "code",
   "execution_count": 3,
   "id": "1f629cb2-b33b-4b23-b9aa-6904ca0a00e5",
   "metadata": {},
   "outputs": [
    {
     "data": {
      "text/plain": [
       "['counts',\n",
       " 'genes',\n",
       " 'l1_cat',\n",
       " 'l1_code',\n",
       " 'l2_cat',\n",
       " 'l2_code',\n",
       " 'l3_cat',\n",
       " 'l3_code',\n",
       " 'l5_cat',\n",
       " 'l5_code']"
      ]
     },
     "execution_count": 3,
     "metadata": {},
     "output_type": "execute_result"
    }
   ],
   "source": [
    "f = \"/bigstore/GeneralStorage/fangming/projects/dredfish/data/rna/scrna_ss_ctxhippo_a_exon_count_matrix_v4.zarr\"\n",
    "dataset = zarr.open(f, mode='r')\n",
    "genes_data = dataset['genes'][:]\n",
    "list(dataset.keys())"
   ]
  },
  {
   "cell_type": "code",
   "execution_count": 4,
   "id": "cb580e46-6826-44f8-8004-a84b6d86c981",
   "metadata": {},
   "outputs": [
    {
     "data": {
      "text/plain": [
       "array(['0610005C13Rik', '0610006L08Rik', '0610007P14Rik', ..., 'n-R5s144',\n",
       "       'n-R5s146', 'n-R5s149'], dtype='<U28')"
      ]
     },
     "execution_count": 4,
     "metadata": {},
     "output_type": "execute_result"
    }
   ],
   "source": [
    "genes_data"
   ]
  },
  {
   "cell_type": "code",
   "execution_count": 5,
   "id": "c4dcd54e-5528-4afe-a45c-24625cc930c1",
   "metadata": {},
   "outputs": [
    {
     "name": "stdout",
     "output_type": "stream",
     "text": [
      "(45768,) (23378,) (22038,) (22038,) (22038,)\n",
      "True\n",
      "True\n",
      "[    0     3     4 ... 45739 45740 45741]\n",
      "['0610005C13Rik' '0610009B22Rik' '0610009E02Rik' ... 'Zzef1' 'Zzz3' 'a']\n",
      "[ 22   8   9 ... 214  55  10]\n"
     ]
    }
   ],
   "source": [
    "# match and save idx and constrnts\n",
    "genes_comm = np.intersect1d(genes_data, genes_pshp)\n",
    "gidx_comm = basicu.get_index_from_array(genes_data, genes_comm)\n",
    "genes_cnstrnts = pshop.set_index(0)[1].loc[genes_comm].values\n",
    "\n",
    "print(genes_data.shape, genes_pshp.shape, genes_comm.shape, gidx_comm.shape, genes_cnstrnts.shape)\n",
    "print(np.all(genes_comm == genes_data[gidx_comm]))\n",
    "print(np.all(gidx_comm[1:] - gidx_comm[:-1] > 0)) # keep increasing\n",
    "print(gidx_comm)\n",
    "print(genes_comm)\n",
    "print(genes_cnstrnts)\n",
    "# plt.plot(gidx_comm)"
   ]
  },
  {
   "cell_type": "code",
   "execution_count": 6,
   "id": "1a544043-64af-4478-a57d-3255429c87aa",
   "metadata": {},
   "outputs": [],
   "source": [
    "gidx_cnstrnts = torch.from_numpy(gidx_comm)\n",
    "cnstrnts      = torch.from_numpy(genes_cnstrnts)"
   ]
  },
  {
   "cell_type": "code",
   "execution_count": 7,
   "id": "3cdb530c-89c8-4d3c-a7db-224647306781",
   "metadata": {},
   "outputs": [],
   "source": [
    "output_gidx_cnstrnts = os.path.join('/bigstore/GeneralStorage/fangming/projects/dredfish/data/', 'rna', \n",
    "                                    'gidx_cnstrnts_pshop_mm10_isoflat_filtered_Oct26.pt')\n",
    "output_cnstrnts      = os.path.join('/bigstore/GeneralStorage/fangming/projects/dredfish/data/', 'rna',      \n",
    "                                         'cnstrnts_pshop_mm10_isoflat_filtered_Oct26.pt')"
   ]
  },
  {
   "cell_type": "code",
   "execution_count": 8,
   "id": "9640fcf4-ae1c-4c35-bf4e-d5fcce548824",
   "metadata": {},
   "outputs": [],
   "source": [
    "torch.save(gidx_cnstrnts, output_gidx_cnstrnts)\n",
    "torch.save(cnstrnts,      output_cnstrnts)"
   ]
  },
  {
   "cell_type": "code",
   "execution_count": null,
   "id": "d9d64884-be57-434c-85e1-a844e6679f9d",
   "metadata": {},
   "outputs": [],
   "source": []
  },
  {
   "cell_type": "code",
   "execution_count": 9,
   "id": "7ac69a56-cf9f-4dfd-aa7b-5070280a1bc8",
   "metadata": {},
   "outputs": [
    {
     "data": {
      "text/plain": [
       "tensor([    0,     3,     4,  ..., 45739, 45740, 45741])"
      ]
     },
     "execution_count": 9,
     "metadata": {},
     "output_type": "execute_result"
    }
   ],
   "source": [
    "# check\n",
    "a = torch.load(output_gidx_cnstrnts)\n",
    "a"
   ]
  },
  {
   "cell_type": "code",
   "execution_count": 10,
   "id": "f4542852-73b5-4354-ad7c-c098fc7bb6c4",
   "metadata": {},
   "outputs": [
    {
     "data": {
      "text/plain": [
       "-1"
      ]
     },
     "execution_count": 10,
     "metadata": {},
     "output_type": "execute_result"
    }
   ],
   "source": [
    "a.get_device()"
   ]
  },
  {
   "cell_type": "markdown",
   "id": "fba20da6-5690-44d9-add7-5781ec082e70",
   "metadata": {},
   "source": [
    "# compare the genes between the two versions"
   ]
  },
  {
   "cell_type": "code",
   "execution_count": 3,
   "id": "55ed6ce6-d8b7-466c-8230-549dc9d8c7ce",
   "metadata": {},
   "outputs": [],
   "source": [
    "fa = os.path.join('/bigstore/GeneralStorage/fangming/projects/dredfish/data/', 'rna', \n",
    "                                    'gidx_cnstrnts_pshop_mm10_isoflat.pt')\n",
    "fb = os.path.join('/bigstore/GeneralStorage/fangming/projects/dredfish/data/', 'rna',      \n",
    "                                    'gidx_cnstrnts_pshop_mm10_isoflat_filtered_Oct26.pt')\n",
    "idx_a = torch.load(fa)\n",
    "idx_b = torch.load(fb)"
   ]
  },
  {
   "cell_type": "code",
   "execution_count": 4,
   "id": "cb3c5413-34e7-4852-8667-92deb6264480",
   "metadata": {},
   "outputs": [
    {
     "data": {
      "text/plain": [
       "(torch.Size([23282]), torch.Size([22038]), (22038,))"
      ]
     },
     "execution_count": 4,
     "metadata": {},
     "output_type": "execute_result"
    }
   ],
   "source": [
    "idx_comm = np.intersect1d(idx_a, idx_b)\n",
    "idx_a.shape, idx_b.shape, idx_comm.shape"
   ]
  },
  {
   "cell_type": "code",
   "execution_count": null,
   "id": "1549c5ee-dd8b-4d47-b6a9-1ff6407f46f1",
   "metadata": {},
   "outputs": [],
   "source": []
  }
 ],
 "metadata": {
  "kernelspec": {
   "display_name": "Python 3 (ipykernel)",
   "language": "python",
   "name": "python3"
  },
  "language_info": {
   "codemirror_mode": {
    "name": "ipython",
    "version": 3
   },
   "file_extension": ".py",
   "mimetype": "text/x-python",
   "name": "python",
   "nbconvert_exporter": "python",
   "pygments_lexer": "ipython3",
   "version": "3.10.2"
  }
 },
 "nbformat": 4,
 "nbformat_minor": 5
}
